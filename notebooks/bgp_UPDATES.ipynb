{
  "nbformat": 4,
  "nbformat_minor": 0,
  "metadata": {
    "colab": {
      "provenance": []
    },
    "kernelspec": {
      "name": "python3",
      "display_name": "Python 3"
    },
    "language_info": {
      "name": "python"
    }
  },
  "cells": [
    {
      "cell_type": "code",
      "execution_count": 1,
      "metadata": {
        "colab": {
          "base_uri": "https://localhost:8080/"
        },
        "id": "1qXu70oK-7iQ",
        "outputId": "7fc280d1-e590-4384-eca5-5d860a70e80f"
      },
      "outputs": [
        {
          "output_type": "stream",
          "name": "stdout",
          "text": [
            "Collecting mrtparse\n",
            "  Downloading mrtparse-2.2.0-py2.py3-none-any.whl (19 kB)\n",
            "Installing collected packages: mrtparse\n",
            "Successfully installed mrtparse-2.2.0\n",
            "Collecting neo4j\n",
            "  Downloading neo4j-5.14.1.tar.gz (192 kB)\n",
            "\u001b[2K     \u001b[90m━━━━━━━━━━━━━━━━━━━━━━━━━━━━━━━━━━━━━━━━\u001b[0m \u001b[32m192.8/192.8 kB\u001b[0m \u001b[31m3.6 MB/s\u001b[0m eta \u001b[36m0:00:00\u001b[0m\n",
            "\u001b[?25h  Installing build dependencies ... \u001b[?25l\u001b[?25hdone\n",
            "  Getting requirements to build wheel ... \u001b[?25l\u001b[?25hdone\n",
            "  Installing backend dependencies ... \u001b[?25l\u001b[?25hdone\n",
            "  Preparing metadata (pyproject.toml) ... \u001b[?25l\u001b[?25hdone\n",
            "Requirement already satisfied: pytz in /usr/local/lib/python3.10/dist-packages (from neo4j) (2023.3.post1)\n",
            "Building wheels for collected packages: neo4j\n",
            "  Building wheel for neo4j (pyproject.toml) ... \u001b[?25l\u001b[?25hdone\n",
            "  Created wheel for neo4j: filename=neo4j-5.14.1-py3-none-any.whl size=267559 sha256=a0b2a0d20b676c3da896ccbb7f507dcb70c053e66b8e919c3db6001141b964db\n",
            "  Stored in directory: /root/.cache/pip/wheels/13/01/ff/de2142e172dafcd475f118499db2140c66562e42fd500c460a\n",
            "Successfully built neo4j\n",
            "Installing collected packages: neo4j\n",
            "Successfully installed neo4j-5.14.1\n"
          ]
        }
      ],
      "source": [
        "!pip install mrtparse\n",
        "!pip install neo4j"
      ]
    },
    {
      "cell_type": "code",
      "source": [
        "import datetime\n",
        "import requests\n",
        "import os\n",
        "import json\n",
        "import gzip\n",
        "import shutil\n",
        "from tqdm import tqdm\n",
        "from mrtparse import Reader\n",
        "from neo4j import GraphDatabase"
      ],
      "metadata": {
        "id": "3hhHepQs_CCB"
      },
      "execution_count": 6,
      "outputs": []
    },
    {
      "cell_type": "code",
      "source": [
        "def download_gz_file(url, filename):\n",
        "    \"\"\"\n",
        "    Download a .gz file from the given URL and save it as filename.\n",
        "    \"\"\"\n",
        "    response = requests.get(url, stream=True)\n",
        "    # Check if the response was successful\n",
        "    if response.status_code == 200:\n",
        "        # Save the file to disk\n",
        "        with open(filename, 'wb') as f:\n",
        "            f.write(response.content)\n",
        "        print(f\"Downloaded: {filename}\")\n",
        "    else:\n",
        "        # Print an error message if the download failed\n",
        "        print(f\"Failed to download. Status code: {response.status_code}\")"
      ],
      "metadata": {
        "id": "1mGfAGRD_JxF"
      },
      "execution_count": 4,
      "outputs": []
    },
    {
      "cell_type": "code",
      "source": [
        "now = datetime.datetime.now()\n",
        "today = datetime.date.today()\n",
        "# month = now.month\n",
        "# year = now.year\n",
        "# hour = now.hour\n",
        "# base_url = \"https://data.ris.ripe.net/rrc11/\"\n",
        "# url = base_url + str(year) + \".\" + str(month)\n",
        "# part1 = now.strftime(\"%Y%m%d\")\n",
        "# part2 = now.strftime(\"%H00\")\n",
        "# url += \"/updates.\" + part1 + \".\" + part2 + \".gz\"\n",
        "\n",
        "# Example Data, to comply to our bviews data\n",
        "\n",
        "url = \"https://data.ris.ripe.net/rrc03/2007.08/updates.20070801.1600.gz\"\n",
        "download_gz_file(url, f'{today}.gz')"
      ],
      "metadata": {
        "colab": {
          "base_uri": "https://localhost:8080/"
        },
        "id": "u7svU6cK_P1r",
        "outputId": "e94be822-7214-4494-8a48-66aeecf54e30"
      },
      "execution_count": 15,
      "outputs": [
        {
          "output_type": "stream",
          "name": "stdout",
          "text": [
            "Downloaded: 2023-11-27.gz\n"
          ]
        }
      ]
    },
    {
      "cell_type": "code",
      "source": [
        "with gzip.open(f'{today}.gz', 'rb') as f_in:\n",
        "  with open(f'{today}.txt', 'wb') as f_out:\n",
        "    shutil.copyfileobj(f_in, f_out)\n",
        "\n",
        "message_list = []\n",
        "for entry in Reader(f'{today}.txt'):\n",
        "    message_list.append(entry.data)\n"
      ],
      "metadata": {
        "id": "cHQCAwZvBM31"
      },
      "execution_count": 16,
      "outputs": []
    },
    {
      "cell_type": "code",
      "source": [
        "len(message_list)"
      ],
      "metadata": {
        "colab": {
          "base_uri": "https://localhost:8080/"
        },
        "id": "GRus8wEGBa0B",
        "outputId": "484e36f9-fe06-457f-8dd5-aab200a60940"
      },
      "execution_count": 17,
      "outputs": [
        {
          "output_type": "execute_result",
          "data": {
            "text/plain": [
              "5395"
            ]
          },
          "metadata": {},
          "execution_count": 17
        }
      ]
    },
    {
      "cell_type": "code",
      "source": [
        "type_list = []\n",
        "for bgp in message_list:\n",
        "  if 'bgp_message' in bgp:\n",
        "    if bgp['bgp_message']['type']:\n",
        "      type_list.append(bgp['bgp_message']['type'])\n",
        "type_list = [list(x.values())[0] for x in type_list]\n",
        "set(type_list)"
      ],
      "metadata": {
        "colab": {
          "base_uri": "https://localhost:8080/"
        },
        "id": "BNj1PONIBc8w",
        "outputId": "16a6db6f-45a1-4678-91a8-ce0f4f69373a"
      },
      "execution_count": 18,
      "outputs": [
        {
          "output_type": "execute_result",
          "data": {
            "text/plain": [
              "{'KEEPALIVE', 'UPDATE'}"
            ]
          },
          "metadata": {},
          "execution_count": 18
        }
      ]
    },
    {
      "cell_type": "code",
      "source": [
        "test = message_list[10]\n",
        "test"
      ],
      "metadata": {
        "colab": {
          "base_uri": "https://localhost:8080/"
        },
        "id": "dTvvRTvkC1ox",
        "outputId": "25167688-ede5-4800-a58a-eff8ce606bac"
      },
      "execution_count": 22,
      "outputs": [
        {
          "output_type": "execute_result",
          "data": {
            "text/plain": [
              "OrderedDict([('timestamp', {1185984013: '2007-08-01 16:00:13'}),\n",
              "             ('type', {16: 'BGP4MP'}),\n",
              "             ('subtype', {1: 'BGP4MP_MESSAGE'}),\n",
              "             ('length', 82),\n",
              "             ('peer_as', '29686'),\n",
              "             ('local_as', '12654'),\n",
              "             ('ifindex', 0),\n",
              "             ('afi', {1: 'IPv4'}),\n",
              "             ('peer_ip', '195.69.145.56'),\n",
              "             ('local_ip', '195.69.144.69'),\n",
              "             ('bgp_message',\n",
              "              OrderedDict([('marker',\n",
              "                            'ff ff ff ff ff ff ff ff ff ff ff ff ff ff ff ff'),\n",
              "                           ('length', 66),\n",
              "                           ('type', {2: 'UPDATE'}),\n",
              "                           ('withdrawn_routes_length', 0),\n",
              "                           ('withdrawn_routes', []),\n",
              "                           ('path_attributes_length', 39),\n",
              "                           ('path_attributes',\n",
              "                            [OrderedDict([('flag', 64),\n",
              "                                          ('type', {1: 'ORIGIN'}),\n",
              "                                          ('length', 1),\n",
              "                                          ('value', {0: 'IGP'})]),\n",
              "                             OrderedDict([('flag', 64),\n",
              "                                          ('type', {2: 'AS_PATH'}),\n",
              "                                          ('length', 10),\n",
              "                                          ('value',\n",
              "                                           [OrderedDict([('type',\n",
              "                                                          {2: 'AS_SEQUENCE'}),\n",
              "                                                         ('length', 4),\n",
              "                                                         ('value',\n",
              "                                                          ['29686',\n",
              "                                                           '1299',\n",
              "                                                           '7018',\n",
              "                                                           '31957'])])])]),\n",
              "                             OrderedDict([('flag', 64),\n",
              "                                          ('type', {3: 'NEXT_HOP'}),\n",
              "                                          ('length', 4),\n",
              "                                          ('value', '195.69.145.56')]),\n",
              "                             OrderedDict([('flag', 192),\n",
              "                                          ('type', {8: 'COMMUNITY'}),\n",
              "                                          ('length', 12),\n",
              "                                          ('value',\n",
              "                                           ['29686:600',\n",
              "                                            '29686:601',\n",
              "                                            '29686:801'])])]),\n",
              "                           ('nlri',\n",
              "                            [OrderedDict([('length', 24),\n",
              "                                          ('prefix', '66.194.138.0')])])]))])"
            ]
          },
          "metadata": {},
          "execution_count": 22
        }
      ]
    },
    {
      "cell_type": "code",
      "source": [
        "test['bgp_message']"
      ],
      "metadata": {
        "colab": {
          "base_uri": "https://localhost:8080/"
        },
        "id": "hGPzr0MYPixu",
        "outputId": "7cd0fa8a-9b2b-4ac7-e51a-f94b05e102a4"
      },
      "execution_count": 23,
      "outputs": [
        {
          "output_type": "execute_result",
          "data": {
            "text/plain": [
              "OrderedDict([('marker', 'ff ff ff ff ff ff ff ff ff ff ff ff ff ff ff ff'),\n",
              "             ('length', 66),\n",
              "             ('type', {2: 'UPDATE'}),\n",
              "             ('withdrawn_routes_length', 0),\n",
              "             ('withdrawn_routes', []),\n",
              "             ('path_attributes_length', 39),\n",
              "             ('path_attributes',\n",
              "              [OrderedDict([('flag', 64),\n",
              "                            ('type', {1: 'ORIGIN'}),\n",
              "                            ('length', 1),\n",
              "                            ('value', {0: 'IGP'})]),\n",
              "               OrderedDict([('flag', 64),\n",
              "                            ('type', {2: 'AS_PATH'}),\n",
              "                            ('length', 10),\n",
              "                            ('value',\n",
              "                             [OrderedDict([('type', {2: 'AS_SEQUENCE'}),\n",
              "                                           ('length', 4),\n",
              "                                           ('value',\n",
              "                                            ['29686',\n",
              "                                             '1299',\n",
              "                                             '7018',\n",
              "                                             '31957'])])])]),\n",
              "               OrderedDict([('flag', 64),\n",
              "                            ('type', {3: 'NEXT_HOP'}),\n",
              "                            ('length', 4),\n",
              "                            ('value', '195.69.145.56')]),\n",
              "               OrderedDict([('flag', 192),\n",
              "                            ('type', {8: 'COMMUNITY'}),\n",
              "                            ('length', 12),\n",
              "                            ('value',\n",
              "                             ['29686:600', '29686:601', '29686:801'])])]),\n",
              "             ('nlri',\n",
              "              [OrderedDict([('length', 24), ('prefix', '66.194.138.0')])])])"
            ]
          },
          "metadata": {},
          "execution_count": 23
        }
      ]
    },
    {
      "cell_type": "code",
      "source": [
        "test['bgp_message']['nlri'][0]['prefix']"
      ],
      "metadata": {
        "colab": {
          "base_uri": "https://localhost:8080/",
          "height": 35
        },
        "id": "s5woUdkteATy",
        "outputId": "74a84589-c07a-48d3-c7a4-6a4da1393de5"
      },
      "execution_count": 34,
      "outputs": [
        {
          "output_type": "execute_result",
          "data": {
            "text/plain": [
              "'66.194.138.0'"
            ],
            "application/vnd.google.colaboratory.intrinsic+json": {
              "type": "string"
            }
          },
          "metadata": {},
          "execution_count": 34
        }
      ]
    },
    {
      "cell_type": "code",
      "source": [
        "[str(x) for x in list(test['bgp_message'].get('path_attributes',[]))]"
      ],
      "metadata": {
        "colab": {
          "base_uri": "https://localhost:8080/"
        },
        "id": "W7Zg9rgUfru_",
        "outputId": "38ae2ac5-b18b-4f70-e0b3-0cd1c65466a4"
      },
      "execution_count": 37,
      "outputs": [
        {
          "output_type": "execute_result",
          "data": {
            "text/plain": [
              "[\"OrderedDict([('flag', 64), ('type', {1: 'ORIGIN'}), ('length', 1), ('value', {0: 'IGP'})])\",\n",
              " \"OrderedDict([('flag', 64), ('type', {2: 'AS_PATH'}), ('length', 10), ('value', [OrderedDict([('type', {2: 'AS_SEQUENCE'}), ('length', 4), ('value', ['29686', '1299', '7018', '31957'])])])])\",\n",
              " \"OrderedDict([('flag', 64), ('type', {3: 'NEXT_HOP'}), ('length', 4), ('value', '195.69.145.56')])\",\n",
              " \"OrderedDict([('flag', 192), ('type', {8: 'COMMUNITY'}), ('length', 12), ('value', ['29686:600', '29686:601', '29686:801'])])\"]"
            ]
          },
          "metadata": {},
          "execution_count": 37
        }
      ]
    },
    {
      "cell_type": "markdown",
      "source": [
        "# Save into database"
      ],
      "metadata": {
        "id": "UCgKYc_QCywG"
      }
    },
    {
      "cell_type": "code",
      "source": [
        "from neo4j import GraphDatabase\n",
        "\n",
        "# Function to process each OrderedDict\n",
        "def process_ordered_dict(tx, bgp_data,message_id):\n",
        "    # Convert all keys to strings and check for 'bgp_message'\n",
        "    bgp_data = {str(key): value for key, value in bgp_data.items()}\n",
        "    if 'bgp_message' not in bgp_data:\n",
        "        # Skip this row if 'bgp_message' is not present\n",
        "        return\n",
        "\n",
        "    local_as = bgp_data.get('local_as')\n",
        "    peer_as = bgp_data.get('peer_as')\n",
        "    timestamp = list(bgp_data['timestamp'].values())[0]\n",
        "\n",
        "    bgp_message = bgp_data['bgp_message']\n",
        "    message_type = list(bgp_message['type'].values())[0]\n",
        "    message_length = bgp_message.get('length')\n",
        "\n",
        "    # Create or merge Local AS and Peer AS nodes\n",
        "    tx.run(\"MERGE (localAS:AS {id: $local_as})\", local_as=local_as)\n",
        "    tx.run(\"MERGE (peerAS:AS {id: $peer_as})\", peer_as=peer_as)\n",
        "\n",
        "    if message_type == 'UPDATE':\n",
        "      withdrawn_routes_length = len(bgp_message.get('withdrawn_routes', []))\n",
        "      nlri_length = len(bgp_message.get('nlri', []))\n",
        "      is_withdrawal = withdrawn_routes_length > 0\n",
        "      is_announcement = nlri_length > 0\n",
        "\n",
        "      announcements_history = {}\n",
        "      # Create relationship based on message type\n",
        "      if is_withdrawal:\n",
        "        withdrawn_list = [x['prefix'] for x in bgp_message['withdrawn_routes']]\n",
        "        tx.run(\"\"\"\n",
        "              MATCH (localAS:AS {id: $local_as}), (peerAS:AS {id: $peer_as})\n",
        "              CREATE (localAS)-[r:WITHDRAWS_ROUTE_TO {m_id: $message_id}]->(peerAS)\n",
        "              SET r.timestamp = $timestamp, r.message_type = $message_type, r.message_length = $message_length, r.routes_length = $withdrawn_routes_length, r.withdrawn_list = $withdrawn_list\n",
        "              \"\"\", local_as=local_as, peer_as=peer_as,timestamp=timestamp,\n",
        "               message_type=message_type, message_length=message_length,\n",
        "               withdrawn_routes_length=withdrawn_routes_length,message_id=message_id, withdrawn_list=withdrawn_list)\n",
        "      if is_announcement:\n",
        "        path_seq = list(bgp_message['path_attributes'][1]['value'][0]['value'])\n",
        "        prefix = bgp_message['nlri'][0]['prefix']\n",
        "        announcement_key = (local_as, peer_as, prefix)\n",
        "        attributes = [str(x) for x in list(bgp_message.get('path_attributes',[]))]\n",
        "        # Check for new, duplicate, or implicit withdrawal\n",
        "        if announcement_key not in announcements_history:\n",
        "            category = 'new_announcement'\n",
        "        elif announcements_history[announcement_key] == attributes:\n",
        "            category = 'duplicate_announcement'\n",
        "        else:\n",
        "            category = 'implicit_withdrawal'\n",
        "        tx.run(\"\"\"\n",
        "              MATCH (localAS:AS {id: $local_as}), (peerAS:AS {id: $peer_as})\n",
        "              CREATE (localAS)-[r:ANNOUNCES_ROUTE_TO {m_id: $message_id, category:$category}]->(peerAS)\n",
        "              SET r.timestamp = $timestamp, r.message_type = $message_type, r.message_length = $message_length,\n",
        "              r.routes_length = $nlri_length, r.path_seq = $path_seq\n",
        "              \"\"\", local_as=local_as, peer_as=peer_as, timestamp=timestamp,\n",
        "               message_type=message_type, message_length=message_length,\n",
        "               nlri_length=nlri_length,message_id=message_id, path_seq=path_seq, category=category)\n",
        "    elif message_type == 'OPEN':\n",
        "      # Create relationship based on message type\n",
        "      open_version = bgp_message.get('version')\n",
        "      open_local_as = bgp_message.get('local_as')\n",
        "      open_holdtime = bgp_message.get('holdtime')\n",
        "      open_bgp_id = bgp_message.get('bgp_id')\n",
        "      # Handle OPEN message\n",
        "      tx.run(\"\"\"\n",
        "            MATCH (localAS:AS {id: $local_as}), (peerAS:AS {id: $peer_as})\n",
        "            CREATE (localAS)-[r:OPENS_CONNECTION_TO {m_id: $message_id}]->(peerAS)\n",
        "            SET r.timestamp = $timestamp, r.message_length = $message_length,\n",
        "                r.version = $version, r.open_local_as = $open_local_as,\n",
        "                r.holdtime = $holdtime, r.bgp_id = $bgp_id\n",
        "            \"\"\", local_as=local_as, peer_as=peer_as, timestamp=timestamp,\n",
        "                message_length=message_length, version=open_version,\n",
        "                open_local_as=open_local_as, holdtime=open_holdtime, bgp_id=open_bgp_id,message_id=message_id)\n",
        "    elif message_type == 'NOTIFICATION':\n",
        "      # Handle NOTIFICATION message\n",
        "      error_code = list(bgp_message['error_code'].values())[0]\n",
        "      error_subcode = list(bgp_message.get('error_subcode'))[0]\n",
        "      # Handle NOTIFICATION message\n",
        "      tx.run(\"\"\"\n",
        "            MATCH (localAS:AS {id: $local_as}), (peerAS:AS {id: $peer_as})\n",
        "            CREATE (localAS)-[r:SENDS_NOTIFICATION_TO {m_id: $message_id}]->(peerAS)\n",
        "            SET r.timestamp = $timestamp, r.message_length = $message_length,\n",
        "                r.error_code = $error_code, r.error_subcode = $error_subcode\n",
        "            \"\"\", local_as=local_as, peer_as=peer_as, timestamp=timestamp,\n",
        "                message_length=message_length, error_code=error_code,\n",
        "                error_subcode=error_subcode,message_id=message_id)\n",
        "    elif message_type == 'KEEPALIVE':\n",
        "      # Handle KEEPALIVE message\n",
        "      tx.run(\"\"\"\n",
        "            MATCH (localAS:AS {id: $local_as}), (peerAS:AS {id: $peer_as})\n",
        "            CREATE (localAS)-[r:SENDS_KEEPALIVE_TO {m_id: $message_id}]->(peerAS)\n",
        "            SET r.timestamp = $timestamp, r.message_length = $message_length\n",
        "            \"\"\", local_as=local_as, peer_as=peer_as, timestamp=timestamp, message_length=message_length,message_id=message_id)\n",
        "# Connect to Neo4j\n",
        "driver = GraphDatabase.driver(\"neo4j+s://896675cf.databases.neo4j.io\", auth=(\"neo4j\", \"vDR6onHDPNATBPsRKm4Crvk7EDSii3AuNTKxX_DZgdM\"))\n",
        "\n",
        "# Process each OrderedDict\n",
        "with driver.session() as session:\n",
        "  for i, bgp_dict in enumerate(tqdm(message_list, desc=\"Processing BGP Messages\")):\n",
        "        session.execute_write(process_ordered_dict, bgp_dict, message_id=i)\n",
        "driver.close()\n"
      ],
      "metadata": {
        "colab": {
          "base_uri": "https://localhost:8080/"
        },
        "id": "3qagF8Gvtj6Z",
        "outputId": "eb4f7703-9f75-4409-af28-4fde9998a263"
      },
      "execution_count": 39,
      "outputs": [
        {
          "output_type": "stream",
          "name": "stderr",
          "text": [
            "Processing BGP Messages:  10%|▉         | 519/5395 [07:05<1:09:39,  1.17it/s]ERROR:neo4j:Failed to read from defunct connection IPv4Address(('896675cf.databases.neo4j.io', 7687)) (ResolvedIPv4Address(('34.69.128.95', 7687)))\n",
            "WARNING:neo4j:Transaction failed and will be retried in 1.008340689483795s (Failed to read from defunct connection IPv4Address(('896675cf.databases.neo4j.io', 7687)) (ResolvedIPv4Address(('34.69.128.95', 7687))))\n",
            "ERROR:neo4j:Failed to read from defunct connection ResolvedIPv4Address(('34.69.128.95', 7687)) (ResolvedIPv4Address(('34.69.128.95', 7687)))\n",
            "ERROR:neo4j:Unable to retrieve routing information\n",
            "WARNING:neo4j:Transaction failed and will be retried in 2.0413881643623526s (Unable to retrieve routing information)\n",
            "ERROR:neo4j:Unable to retrieve routing information\n",
            "WARNING:neo4j:Transaction failed and will be retried in 3.9798938376211295s (Unable to retrieve routing information)\n",
            "ERROR:neo4j:Unable to retrieve routing information\n",
            "WARNING:neo4j:Transaction failed and will be retried in 6.638715812662539s (Unable to retrieve routing information)\n",
            "ERROR:neo4j:Unable to retrieve routing information\n",
            "WARNING:neo4j:Transaction failed and will be retried in 17.162706255527596s (Unable to retrieve routing information)\n",
            "Processing BGP Messages: 100%|██████████| 5395/5395 [1:13:53<00:00,  1.22it/s]\n"
          ]
        }
      ]
    }
  ]
}