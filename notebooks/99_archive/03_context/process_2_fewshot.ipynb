{
 "cells": [
  {
   "cell_type": "code",
   "execution_count": 8,
   "metadata": {},
   "outputs": [],
   "source": [
    "from neo4j import GraphDatabase\n",
    "from langchain.chat_models import ChatOpenAI\n",
    "from langchain.chains import GraphCypherQAChain\n",
    "from langchain.graphs import Neo4jGraph\n",
    "import getpass\n",
    "import os\n",
    "import os\n",
    "\n",
    "\n",
    "graph = Neo4jGraph(\n",
    "    url=\"neo4j+s://28e5b287.databases.neo4j.io\",\n",
    "    username=\"neo4j\",\n",
    "    password=\n",
    ")\n",
    "\n",
    "name = 'OPENAI_API_KEY'\n",
    "secret = getpass.getpass(\"Enter the OpenAI API Key\")\n",
    "os.environ[name] = secret\n",
    "print(f\"Have successfully set up {name} as an environment variable.\")\n",
    "\n",
    "# Initialize connection to Neo4j database\n",
    "uri = \"neo4j+s://28e5b287.databases.neo4j.io\" \n",
    "auth = \n",
    "driver = GraphDatabase.driver(uri, auth=auth)\n",
    "\n",
    "# Setting up ChatGPT integration with Graph Database\n",
    "chain = GraphCypherQAChain.from_llm(\n",
    "    ChatOpenAI(temperature=0), graph=graph, verbose=True,\n",
    ")"
   ]
  },
  {
   "cell_type": "code",
   "execution_count": 55,
   "metadata": {},
   "outputs": [],
   "source": [
    "few_shot_learning_prompt = '''\n",
    "Consider the following example context string:\n",
    "\n",
    "Node 3356 connects to Node 3549\n",
    "Node 3356 connects to Node 7018\n",
    "Node 6939 connects to Node 1836\n",
    "Node 4826 connects to Node 6939\n",
    "\n",
    "In this context string, the nodes of the graph are called Node, with a property of id, which is the number above.\n",
    "Each Node has relationship \"CONNECTS\" to another node.\n",
    "\n",
    "There are more nodes in the graph than provided\n",
    "\n",
    "Given the above, generate a Cypher query to create a context string where:\n",
    "1. Matches all nodes of type 'Node' with property 'id' that are connected via a 'CONNECTED' relationship.\n",
    "2. For each matched node and relationship, construct a context string that describes the connection. Use the '+' operator for string concatenation. The context string should include the names of the nodes and the cost of the ROAD.\n",
    "\n",
    "'''"
   ]
  },
  {
   "cell_type": "code",
   "execution_count": 56,
   "metadata": {},
   "outputs": [],
   "source": [
    "# Use ChatGPT to generate a cypher query about the context of the \n",
    "\n",
    "import io\n",
    "import sys\n",
    "import re\n",
    "\n",
    "# Redirect stdout (standard output) to capture printed text\n",
    "backup = sys.stdout\n",
    "sys.stdout = io.StringIO()\n",
    "\n",
    "# Run the function\n",
    "chain.run(few_shot_learning_prompt)\n",
    "\n",
    "\n",
    "# # Capture the printed text and revert stdout\n",
    "captured_output = sys.stdout.getvalue()\n",
    "sys.stdout.close()\n",
    "sys.stdout = backup\n",
    "\n",
    "match = re.search(r\"Full Context:(.*)\", captured_output, re.DOTALL)\n",
    "if match:\n",
    "    content = match.group(1).strip()\n",
    "\n",
    "# Remove ANSI escape codes\n",
    "cleaned_content = re.sub(r'\\x1b\\[.*?m', '', content)"
   ]
  },
  {
   "cell_type": "code",
   "execution_count": 57,
   "metadata": {},
   "outputs": [],
   "source": [
    "import ast\n",
    "\n",
    "# The given input as a string\n",
    "input_string = cleaned_content\n",
    "# Convert the string to a list of dictionaries\n",
    "data_list = ast.literal_eval(input_string.split('\\n\\n')[0])\n",
    "\n",
    "# Extract the desired text\n",
    "result_list = [item['context_string'] for item in data_list]\n",
    "result_string = \", \".join(result_list)\n"
   ]
  },
  {
   "cell_type": "code",
   "execution_count": 58,
   "metadata": {},
   "outputs": [],
   "source": [
    "formatted_string = result_string.replace(\", \", \",\\n\")\n",
    "print(formatted_string)"
   ]
  },
  {
   "cell_type": "code",
   "execution_count": 59,
   "metadata": {},
   "outputs": [
    {
     "data": {
      "text/plain": [
       "'3356 connects to 45896,\\n3356 connects to 3549,\\n3356 connects to 29608,\\n3356 connects to 22652,\\n3356 connects to 3257,\\n3356 connects to 7018,\\n3356 connects to 1836,\\n6830 connects to 8758,\\n6939 connects to 45896,\\n6939 connects to 8758'"
      ]
     },
     "execution_count": 59,
     "metadata": {},
     "output_type": "execute_result"
    }
   ],
   "source": [
    "formatted_string"
   ]
  },
  {
   "cell_type": "code",
   "execution_count": 60,
   "metadata": {},
   "outputs": [],
   "source": [
    "system_prompt = \"\"\"\n",
    "You are an assistant that helps to generate text to form nice and human understandable answers based.\n",
    "The latest prompt contains the information, and you need to generate a human readable response based on the given information.\n",
    "Make the answer sound as a response to the question. Do not mention that you based the result on the given information.\n",
    "Do not add any additional information that is not explicitly provided in the latest prompt.\n",
    "I repeat, do not add any information that is not explicitly given.\n",
    "\"\"\"\n",
    "# context = 'A is connected to D with a cost of 100, A is connected to C with a cost of 50, A is connected to B with a cost of 50, B is connected to D with a cost of 40, C is connected to E with a cost of 80, C is connected to D with a cost of 40, D is connected to A with a cost of 69, D is connected to F with a cost of 80, D is connected to E with a cost of 30, E is connected to F with a cost of 40'\n",
    "context = formatted_string\n",
    "\n",
    "def generate_user_prompt(question, context):\n",
    "   return f\"\"\"\n",
    "   The question is {question}\n",
    "   Answer the question by using the provided information:\n",
    "   {context}\n",
    "   \"\"\""
   ]
  },
  {
   "cell_type": "code",
   "execution_count": 61,
   "metadata": {},
   "outputs": [],
   "source": [
    "import openai\n",
    "\n",
    "def get_gpt4_response(system_prompt, prompt, context, api_key, model=\"gpt-4-1106-preview\"):\n",
    "    \"\"\"\n",
    "    Send a request to the OpenAI Chat API and get a response from the model.\n",
    "    \n",
    "    Args:\n",
    "        prompt (str): The user's question.\n",
    "        context (str): Contextual information to be passed to the model.\n",
    "        api_key (str): Your OpenAI API key.\n",
    "        model (str): The model version to use, default is \"gpt-3.5-turbo\".\n",
    "    \n",
    "    Returns:\n",
    "        str: The model's response.\n",
    "    \"\"\"\n",
    "    \n",
    "    # Create the full prompt by combining the system prompt, context, and the user question\n",
    "    messages = [\n",
    "        {\"role\": \"system\", \"content\": system_prompt},\n",
    "        {\"role\": \"user\", \"content\": generate_user_prompt(prompt, context)}\n",
    "    ]\n",
    "    \n",
    "    # Use the OpenAI Python client to send the request\n",
    "    response = openai.ChatCompletion.create(\n",
    "        model=model,\n",
    "        messages=messages\n",
    "    )\n",
    "    \n",
    "    # Extract the response text and return\n",
    "    return response.choices[0].message['content']\n",
    "\n",
    "# You will need to install the openai Python package to use this function and also have a valid API key.\n"
   ]
  },
  {
   "cell_type": "code",
   "execution_count": 62,
   "metadata": {},
   "outputs": [],
   "source": [
    "# Define your API key (keep it secret!)\n",
    "\n",
    "openai.api_key = \n",
    "API_KEY = "
   ]
  },
  {
   "cell_type": "code",
   "execution_count": 63,
   "metadata": {},
   "outputs": [],
   "source": [
    "# Example usage\n",
    "question = \"How many nodes does the graph have\"\n",
    "context_info = context\n",
    "response = get_gpt4_response(system_prompt, question, context_info, API_KEY, model = \"gpt-3.5-turbo\")\n",
    "print(response)"
   ]
  },
  {
   "cell_type": "code",
   "execution_count": 64,
   "metadata": {},
   "outputs": [
    {
     "data": {
      "text/plain": [
       "'Based on the provided information, it appears that there are a total of 11 nodes in the graph.'"
      ]
     },
     "execution_count": 64,
     "metadata": {},
     "output_type": "execute_result"
    }
   ],
   "source": [
    "response"
   ]
  }
 ],
 "metadata": {
  "kernelspec": {
   "display_name": "diego",
   "language": "python",
   "name": "python3"
  },
  "language_info": {
   "codemirror_mode": {
    "name": "ipython",
    "version": 3
   },
   "file_extension": ".py",
   "mimetype": "text/x-python",
   "name": "python",
   "nbconvert_exporter": "python",
   "pygments_lexer": "ipython3",
   "version": "3.9.12"
  },
  "orig_nbformat": 4
 },
 "nbformat": 4,
 "nbformat_minor": 2
}
