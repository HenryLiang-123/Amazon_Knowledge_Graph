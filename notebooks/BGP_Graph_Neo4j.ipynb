{
  "cells": [
    {
      "cell_type": "code",
      "execution_count": 1,
      "metadata": {
        "colab": {
          "base_uri": "https://localhost:8080/"
        },
        "id": "f3ebb82e",
        "outputId": "81f82bb5-d7d6-468b-f24d-032fb273de39"
      },
      "outputs": [
        {
          "output_type": "stream",
          "name": "stdout",
          "text": [
            "Collecting mrtparse\n",
            "  Downloading mrtparse-2.2.0-py2.py3-none-any.whl (19 kB)\n",
            "Installing collected packages: mrtparse\n",
            "Successfully installed mrtparse-2.2.0\n",
            "Requirement already satisfied: networkx in /usr/local/lib/python3.10/dist-packages (3.2)\n",
            "Collecting neo4j\n",
            "  Downloading neo4j-5.14.0.tar.gz (192 kB)\n",
            "\u001b[2K     \u001b[90m━━━━━━━━━━━━━━━━━━━━━━━━━━━━━━━━━━━━━━━━\u001b[0m \u001b[32m192.4/192.4 kB\u001b[0m \u001b[31m3.8 MB/s\u001b[0m eta \u001b[36m0:00:00\u001b[0m\n",
            "\u001b[?25h  Installing build dependencies ... \u001b[?25l\u001b[?25hdone\n",
            "  Getting requirements to build wheel ... \u001b[?25l\u001b[?25hdone\n",
            "  Installing backend dependencies ... \u001b[?25l\u001b[?25hdone\n",
            "  Preparing metadata (pyproject.toml) ... \u001b[?25l\u001b[?25hdone\n",
            "Requirement already satisfied: pytz in /usr/local/lib/python3.10/dist-packages (from neo4j) (2023.3.post1)\n",
            "Building wheels for collected packages: neo4j\n",
            "  Building wheel for neo4j (pyproject.toml) ... \u001b[?25l\u001b[?25hdone\n",
            "  Created wheel for neo4j: filename=neo4j-5.14.0-py3-none-any.whl size=265476 sha256=a4256a1ce57f9da6d608d3414f56d59cc686221dfb8423ca376a609545955573\n",
            "  Stored in directory: /root/.cache/pip/wheels/53/e0/d7/603097e3fed62f821523433801c09e04cd7a7610c7565bd5a3\n",
            "Successfully built neo4j\n",
            "Installing collected packages: neo4j\n",
            "Successfully installed neo4j-5.14.0\n"
          ]
        }
      ],
      "source": [
        "!pip install mrtparse\n",
        "!pip install networkx\n",
        "!pip install neo4j"
      ],
      "id": "f3ebb82e"
    },
    {
      "cell_type": "code",
      "execution_count": 2,
      "metadata": {
        "id": "6c49a46b"
      },
      "outputs": [],
      "source": [
        "import json\n",
        "import sys\n",
        "from mrtparse import *\n",
        "import networkx as nx\n",
        "import matplotlib.pyplot as plt\n",
        "\n",
        "import os\n",
        "import requests\n",
        "import gzip\n",
        "import shutil\n",
        "\n",
        "from neo4j import GraphDatabase"
      ],
      "id": "6c49a46b"
    },
    {
      "cell_type": "code",
      "execution_count": 3,
      "metadata": {
        "id": "ed869c8f"
      },
      "outputs": [],
      "source": [
        "# Define a function to create the graph in Neo4j\n",
        "def create_graph(tx, from_node_id, to_node_id):\n",
        "    query = (\n",
        "        \"MERGE (fromNode:Node {id: $from_node_id}) \"\n",
        "        \"MERGE (toNode:Node {id: $to_node_id}) \"\n",
        "        \"MERGE (fromNode)-[:CONNECTS]->(toNode)\"\n",
        "    )\n",
        "    tx.run(query, from_node_id=from_node_id, to_node_id=to_node_id)"
      ],
      "id": "ed869c8f"
    },
    {
      "cell_type": "code",
      "execution_count": 4,
      "metadata": {
        "id": "ec02d8c3"
      },
      "outputs": [],
      "source": [
        "# Connect to the Neo4j database\n",
        "uri = \"neo4j+s://28e5b287.databases.neo4j.io\"  # Change to match your Neo4j server settings\n",
        "username = \"neo4j\"      # Change to your Neo4j username\n",
        "password = \"z9J3DPCCxGYELn99XDdFbFIBnWOwR5fdn4MiG_Nvdck\"      # Change to your Neo4j password\n",
        "\n",
        "# Create a Neo4j driver\n",
        "driver = GraphDatabase.driver(uri, auth=(username, password))"
      ],
      "id": "ec02d8c3"
    },
    {
      "cell_type": "code",
      "execution_count": 8,
      "metadata": {
        "colab": {
          "base_uri": "https://localhost:8080/"
        },
        "id": "31798fa7",
        "outputId": "587ddaef-5508-40c5-9fa3-b1b27231f3fb"
      },
      "outputs": [
        {
          "output_type": "stream",
          "name": "stdout",
          "text": [
            "https://data.ris.ripe.net/rrc00/2017.09/bview.20170901.0800.gz\n"
          ]
        }
      ],
      "source": [
        "server_url = \"https://data.ris.ripe.net\"\n",
        "rrc_name = \"rrc00\"\n",
        "year = \"2017\"\n",
        "month = \"09\"\n",
        "date = \"01\"\n",
        "time = \"0800\"\n",
        "\n",
        "zip_file_name = \"bview.{}{}{}.{}.gz\".format(year,month,date,time)\n",
        "filename = \"bview.{}{}{}.{}\".format(year,month,date,time)\n",
        "\n",
        "remote_url = server_url + \"/\" + rrc_name + \"/\" + year + \".\" + month + \"/\" + zip_file_name\n",
        "print(remote_url)"
      ],
      "id": "31798fa7"
    },
    {
      "cell_type": "code",
      "execution_count": 12,
      "metadata": {
        "id": "d9eae18e"
      },
      "outputs": [],
      "source": [
        "r = requests.get(remote_url, allow_redirects=True)\n",
        "\n",
        "if(r.status_code==200):\n",
        "\n",
        "    ## Removing the zip file if it exists\n",
        "    if os.path.isfile(zip_file_name):\n",
        "        os.remove(zip_file_name)\n",
        "\n",
        "    ## Removing content file if it exists\n",
        "    if os.path.isfile(filename):\n",
        "        os.remove(filename)\n",
        "\n",
        "    ## Obtaining the zip file\n",
        "    with open(zip_file_name, 'wb') as f:\n",
        "        f.write(r.content)\n",
        "\n",
        "    ## Obtaining the content file\n",
        "    with gzip.open(zip_file_name, 'rb') as f_in:\n",
        "        with open(filename, 'wb') as f_out:\n",
        "            shutil.copyfileobj(f_in, f_out)\n",
        "\n",
        "    ## Removing the zip file after extraction\n",
        "    if os.path.isfile(zip_file_name):\n",
        "        os.remove(zip_file_name)\n",
        "else:\n",
        "    print('File does not exist')"
      ],
      "id": "d9eae18e"
    },
    {
      "cell_type": "code",
      "execution_count": 13,
      "metadata": {
        "colab": {
          "base_uri": "https://localhost:8080/"
        },
        "id": "72407e00",
        "outputId": "9c7468bd-7247-42cf-a01a-d2d1fde85c7e"
      },
      "outputs": [
        {
          "output_type": "stream",
          "name": "stderr",
          "text": [
            "<ipython-input-13-3d5ee3854cc2>:23: DeprecationWarning: write_transaction has been renamed to execute_write\n",
            "  session.write_transaction(create_graph, curr_list[k+1], curr_list[k])\n"
          ]
        }
      ],
      "source": [
        "check_list = []\n",
        "check_json = []\n",
        "\n",
        "with driver.session() as session:\n",
        "    i = 0\n",
        "    for entry in Reader(filename):\n",
        "\n",
        "        curr_json = entry.data\n",
        "        #check_json.append(curr_json)\n",
        "\n",
        "        if list(curr_json['subtype'].values())[0]== \"RIB_IPV4_UNICAST\":\n",
        "\n",
        "            if 'rib_entries' in curr_json.keys():\n",
        "\n",
        "                entry_count = curr_json.get('entry_count',0)\n",
        "                for j in range(entry_count):\n",
        "                    curr_list = curr_json['rib_entries'][j]['path_attributes'][1]['value'][0]['value']\n",
        "                    #check_list.append(curr_list)\n",
        "\n",
        "                    N = len(curr_list)\n",
        "                    for k in range(N-1):\n",
        "                      if(curr_list[k+1]!=curr_list[k]): ## Avoiding same node cycles\n",
        "                        session.write_transaction(create_graph, curr_list[k+1], curr_list[k])\n",
        "            else:\n",
        "                curr_list = curr_json['path_attributes'][1]['value'][0]['value']\n",
        "                #check_list.append(curr_list)\n",
        "\n",
        "                N = len(curr_list)\n",
        "                for k in range(N-1):\n",
        "                  if(curr_list[k+1]!=curr_list[k]):\n",
        "                    session.write_transaction(create_graph, curr_list[k+1], curr_list[k])\n",
        "\n",
        "\n",
        "            i += 1\n",
        "\n",
        "        if(i==20):\n",
        "            break\n",
        "\n",
        "## Removing content file after reading\n",
        "if os.path.isfile(filename):\n",
        "    os.remove(filename)"
      ],
      "id": "72407e00"
    },
    {
      "cell_type": "code",
      "execution_count": 11,
      "metadata": {
        "id": "FZ-hsijhN5cU"
      },
      "outputs": [],
      "source": [],
      "id": "FZ-hsijhN5cU"
    },
    {
      "cell_type": "code",
      "source": [],
      "metadata": {
        "id": "GWcAXmyrL4_b"
      },
      "id": "GWcAXmyrL4_b",
      "execution_count": null,
      "outputs": []
    }
  ],
  "metadata": {
    "colab": {
      "provenance": []
    },
    "kernelspec": {
      "display_name": "Python 3 (ipykernel)",
      "language": "python",
      "name": "python3"
    },
    "language_info": {
      "codemirror_mode": {
        "name": "ipython",
        "version": 3
      },
      "file_extension": ".py",
      "mimetype": "text/x-python",
      "name": "python",
      "nbconvert_exporter": "python",
      "pygments_lexer": "ipython3",
      "version": "3.10.9"
    }
  },
  "nbformat": 4,
  "nbformat_minor": 5
}