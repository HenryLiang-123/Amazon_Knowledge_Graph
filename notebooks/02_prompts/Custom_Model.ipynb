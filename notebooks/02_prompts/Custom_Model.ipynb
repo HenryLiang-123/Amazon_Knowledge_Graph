{
  "cells": [
    {
      "cell_type": "markdown",
      "source": [
        "# Package installations and Import"
      ],
      "metadata": {
        "id": "ItHSu265YIqr"
      },
      "id": "ItHSu265YIqr"
    },
    {
      "cell_type": "code",
      "source": [
        "!pip install openai\n",
        "!pip install neo4j"
      ],
      "metadata": {
        "colab": {
          "base_uri": "https://localhost:8080/"
        },
        "id": "eg5cLqrAtzig",
        "outputId": "295d3607-3fc0-4917-ca66-b56d59c85b86"
      },
      "id": "eg5cLqrAtzig",
      "execution_count": 1,
      "outputs": [
        {
          "output_type": "stream",
          "name": "stdout",
          "text": [
            "Collecting openai\n",
            "  Downloading openai-1.3.7-py3-none-any.whl (221 kB)\n",
            "\u001b[2K     \u001b[90m━━━━━━━━━━━━━━━━━━━━━━━━━━━━━━━━━━━━━━━━\u001b[0m \u001b[32m221.4/221.4 kB\u001b[0m \u001b[31m3.4 MB/s\u001b[0m eta \u001b[36m0:00:00\u001b[0m\n",
            "\u001b[?25hRequirement already satisfied: anyio<4,>=3.5.0 in /usr/local/lib/python3.10/dist-packages (from openai) (3.7.1)\n",
            "Requirement already satisfied: distro<2,>=1.7.0 in /usr/lib/python3/dist-packages (from openai) (1.7.0)\n",
            "Collecting httpx<1,>=0.23.0 (from openai)\n",
            "  Downloading httpx-0.25.2-py3-none-any.whl (74 kB)\n",
            "\u001b[2K     \u001b[90m━━━━━━━━━━━━━━━━━━━━━━━━━━━━━━━━━━━━━━━━\u001b[0m \u001b[32m75.0/75.0 kB\u001b[0m \u001b[31m4.0 MB/s\u001b[0m eta \u001b[36m0:00:00\u001b[0m\n",
            "\u001b[?25hRequirement already satisfied: pydantic<3,>=1.9.0 in /usr/local/lib/python3.10/dist-packages (from openai) (1.10.13)\n",
            "Requirement already satisfied: sniffio in /usr/local/lib/python3.10/dist-packages (from openai) (1.3.0)\n",
            "Requirement already satisfied: tqdm>4 in /usr/local/lib/python3.10/dist-packages (from openai) (4.66.1)\n",
            "Requirement already satisfied: typing-extensions<5,>=4.5 in /usr/local/lib/python3.10/dist-packages (from openai) (4.5.0)\n",
            "Requirement already satisfied: idna>=2.8 in /usr/local/lib/python3.10/dist-packages (from anyio<4,>=3.5.0->openai) (3.6)\n",
            "Requirement already satisfied: exceptiongroup in /usr/local/lib/python3.10/dist-packages (from anyio<4,>=3.5.0->openai) (1.2.0)\n",
            "Requirement already satisfied: certifi in /usr/local/lib/python3.10/dist-packages (from httpx<1,>=0.23.0->openai) (2023.11.17)\n",
            "Collecting httpcore==1.* (from httpx<1,>=0.23.0->openai)\n",
            "  Downloading httpcore-1.0.2-py3-none-any.whl (76 kB)\n",
            "\u001b[2K     \u001b[90m━━━━━━━━━━━━━━━━━━━━━━━━━━━━━━━━━━━━━━━━\u001b[0m \u001b[32m76.9/76.9 kB\u001b[0m \u001b[31m9.2 MB/s\u001b[0m eta \u001b[36m0:00:00\u001b[0m\n",
            "\u001b[?25hCollecting h11<0.15,>=0.13 (from httpcore==1.*->httpx<1,>=0.23.0->openai)\n",
            "  Downloading h11-0.14.0-py3-none-any.whl (58 kB)\n",
            "\u001b[2K     \u001b[90m━━━━━━━━━━━━━━━━━━━━━━━━━━━━━━━━━━━━━━━━\u001b[0m \u001b[32m58.3/58.3 kB\u001b[0m \u001b[31m6.9 MB/s\u001b[0m eta \u001b[36m0:00:00\u001b[0m\n",
            "\u001b[?25hInstalling collected packages: h11, httpcore, httpx, openai\n",
            "\u001b[31mERROR: pip's dependency resolver does not currently take into account all the packages that are installed. This behaviour is the source of the following dependency conflicts.\n",
            "llmx 0.0.15a0 requires cohere, which is not installed.\n",
            "llmx 0.0.15a0 requires tiktoken, which is not installed.\u001b[0m\u001b[31m\n",
            "\u001b[0mSuccessfully installed h11-0.14.0 httpcore-1.0.2 httpx-0.25.2 openai-1.3.7\n",
            "Collecting neo4j\n",
            "  Downloading neo4j-5.15.0.tar.gz (196 kB)\n",
            "\u001b[2K     \u001b[90m━━━━━━━━━━━━━━━━━━━━━━━━━━━━━━━━━━━━━━━━\u001b[0m \u001b[32m196.5/196.5 kB\u001b[0m \u001b[31m3.5 MB/s\u001b[0m eta \u001b[36m0:00:00\u001b[0m\n",
            "\u001b[?25h  Installing build dependencies ... \u001b[?25l\u001b[?25hdone\n",
            "  Getting requirements to build wheel ... \u001b[?25l\u001b[?25hdone\n",
            "  Installing backend dependencies ... \u001b[?25l\u001b[?25hdone\n",
            "  Preparing metadata (pyproject.toml) ... \u001b[?25l\u001b[?25hdone\n",
            "Requirement already satisfied: pytz in /usr/local/lib/python3.10/dist-packages (from neo4j) (2023.3.post1)\n",
            "Building wheels for collected packages: neo4j\n",
            "  Building wheel for neo4j (pyproject.toml) ... \u001b[?25l\u001b[?25hdone\n",
            "  Created wheel for neo4j: filename=neo4j-5.15.0-py3-none-any.whl size=272484 sha256=c6e24f873336cfe0e74f850d5fcb6661172f9117ce9b2e77e89f1dc54274436f\n",
            "  Stored in directory: /root/.cache/pip/wheels/d5/08/10/6371dbdeec2efd7782f559b21c32bb6b4192ae0216ec5e39c5\n",
            "Successfully built neo4j\n",
            "Installing collected packages: neo4j\n",
            "Successfully installed neo4j-5.15.0\n"
          ]
        }
      ]
    },
    {
      "cell_type": "code",
      "execution_count": 2,
      "id": "242f646c",
      "metadata": {
        "id": "242f646c"
      },
      "outputs": [],
      "source": [
        "import json\n",
        "import sys\n",
        "import networkx as nx\n",
        "import matplotlib.pyplot as plt\n",
        "\n",
        "import os\n",
        "import requests\n",
        "import gzip\n",
        "import shutil\n",
        "import openai\n",
        "\n",
        "from neo4j import GraphDatabase"
      ]
    },
    {
      "cell_type": "markdown",
      "source": [
        "# Set Up OpenAI API Key"
      ],
      "metadata": {
        "id": "Te0cu8o5YNk2"
      },
      "id": "Te0cu8o5YNk2"
    },
    {
      "cell_type": "code",
      "execution_count": 5,
      "id": "6dbaedca",
      "metadata": {
        "colab": {
          "base_uri": "https://localhost:8080/"
        },
        "id": "6dbaedca",
        "outputId": "5a1051af-8985-4a79-a3ae-abfbc062cee1"
      },
      "outputs": [
        {
          "output_type": "stream",
          "name": "stdout",
          "text": [
            "Have successfully set up OPENAI_API_KEY as an environment variable.\n"
          ]
        }
      ],
      "source": [
        "import os\n",
        "import getpass\n",
        "name = 'OPENAI_API_KEY'\n",
        "secret = getpass.getpass(\"Enter the OpenAI API Key\")\n",
        "os.environ[name] = secret\n",
        "print(f\"Have successfully set up {name} as an environment variable.\")"
      ]
    },
    {
      "cell_type": "code",
      "execution_count": 6,
      "id": "4e43d728",
      "metadata": {
        "id": "4e43d728"
      },
      "outputs": [],
      "source": [
        "# Define your API key (keep it secret!)\n",
        "openai.api_key = os.environ[name]\n",
        "API_KEY = os.environ[name]"
      ]
    },
    {
      "cell_type": "code",
      "execution_count": 7,
      "id": "3434ae42",
      "metadata": {
        "id": "3434ae42"
      },
      "outputs": [],
      "source": [
        "#import openai\n",
        "from openai import OpenAI\n",
        "\n",
        "client = OpenAI()"
      ]
    },
    {
      "cell_type": "markdown",
      "source": [
        "# Connect to Graph DB"
      ],
      "metadata": {
        "id": "pF4fHUPZYUDc"
      },
      "id": "pF4fHUPZYUDc"
    },
    {
      "cell_type": "code",
      "execution_count": 8,
      "id": "57da8733",
      "metadata": {
        "id": "57da8733"
      },
      "outputs": [],
      "source": [
        "# Connect to the Neo4j database\n",
        "uri=#Enter URI\n",
        "username=#Enter username\n",
        "password=#Enter password\n",
        "\n",
        "# Create a Neo4j driver\n",
        "driver = GraphDatabase.driver(uri, auth=(username, password))"
      ]
    },
    {
      "cell_type": "markdown",
      "source": [
        "# Final Model\n",
        "\n",
        "![custom_lang_chain.png](data:image/png;base64,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)"
      ],
      "metadata": {
        "id": "BfckCKmnYWv0"
      },
      "id": "BfckCKmnYWv0"
    },
    {
      "cell_type": "markdown",
      "source": [
        "## Refine Prompt"
      ],
      "metadata": {
        "id": "e1ggYs-3YZCc"
      },
      "id": "e1ggYs-3YZCc"
    },
    {
      "cell_type": "code",
      "execution_count": 9,
      "id": "c91cfe04",
      "metadata": {
        "id": "c91cfe04"
      },
      "outputs": [],
      "source": [
        "def refine_prompt(raw_prompt, openai_api_key=os.environ['OPENAI_API_KEY']):\n",
        "    \"\"\"\n",
        "    Refines a raw user input using OpenAI's language model to create a more effective prompt.\n",
        "\n",
        "    Parameters:\n",
        "    raw_prompt (str): The original user input.\n",
        "    openai_api_key (str): Your OpenAI API key.\n",
        "\n",
        "    Returns:\n",
        "    dict: A dictionary containing the status ('success' or 'failed') and the refined prompt.\n",
        "    \"\"\"\n",
        "    try:\n",
        "        openai.api_key = openai_api_key\n",
        "\n",
        "        # Constructing the prompt for the LLM to refine the user input\n",
        "        prompt_to_refine = (\n",
        "            \"The following is a plain English user input for querying a graph database: '{}'. \"\n",
        "            \"Rewrite this input into a clearer query format. \"\n",
        "            \"However, do not remove any information related to the database or information related to node type which the user provided. If the input is not clear or relevant, indicate that the user should provide a clearer query. \"\n",
        "            \"Do not remove any information related to database and node attributes.\"\n",
        "            \"For example, if the input is 'I want to know how many nodes are in this database', \"\n",
        "            \"a better format would be 'Find the number of nodes in the database'.\\n\"\n",
        "            \"Refined Input: \".format(raw_prompt)\n",
        "        )\n",
        "\n",
        "        max_tokens = 100\n",
        "        if len(raw_prompt.split()) > 100:\n",
        "            max_tokens = len(raw_prompt.split())\n",
        "\n",
        "        # response = openai.Completion.create(\n",
        "        #     engine=\"text-davinci-003\",  # Use the latest available engine\n",
        "        #     prompt=prompt_to_refine,\n",
        "        #     max_tokens=max_tokens  # Adjust based on your needs\n",
        "        # )\n",
        "        response = client.completions.create(\n",
        "            model=\"text-davinci-003\",  # Use the latest available engine\n",
        "            prompt=prompt_to_refine,\n",
        "            max_tokens=max_tokens  # Adjust based on your needs\n",
        "        )\n",
        "\n",
        "        refined_prompt = response.choices[0].text.strip()\n",
        "\n",
        "\n",
        "        # Check if the refined prompt is valid\n",
        "        if \"provide a clearer query\" in refined_prompt.lower():\n",
        "            return {\"status\": \"failed\", \"updated_user_prompt\": refined_prompt}\n",
        "        else:\n",
        "            return {\"status\": \"success\", \"updated_user_prompt\": refined_prompt}\n",
        "    except Exception as e:\n",
        "        print(f\"Error in refining prompt: {e}\")\n",
        "        return {\"status\": \"failed\", \"updated_user_prompt\": raw_prompt}\n",
        "\n"
      ]
    },
    {
      "cell_type": "markdown",
      "source": [
        "## LLM with Error Looping mechanism"
      ],
      "metadata": {
        "id": "Bee1FagCYbWA"
      },
      "id": "Bee1FagCYbWA"
    },
    {
      "cell_type": "code",
      "execution_count": 10,
      "id": "a8812186",
      "metadata": {
        "id": "a8812186"
      },
      "outputs": [],
      "source": [
        "import openai\n",
        "import re\n",
        "\n",
        "from typing import Any, Dict, List, Optional\n",
        "\n",
        "def neo4j_query(query: str, params: dict = {}) -> List[Dict[str, Any]]:\n",
        "\n",
        "    \"\"\"Query Neo4j database.\"\"\"\n",
        "    from neo4j.exceptions import CypherSyntaxError\n",
        "\n",
        "    with driver.session(database=\"neo4j\") as session:\n",
        "        try:\n",
        "            data = session.run(query, params)\n",
        "            return [r.data() for r in data]\n",
        "        except CypherSyntaxError as e:\n",
        "            raise ValueError(f\"Generated Cypher Statement is not valid\\n{e}\")\n",
        "\n",
        "def refresh_schema() -> str:\n",
        "    \"\"\"\n",
        "    Refreshes the Neo4j graph schema information.\n",
        "    \"\"\"\n",
        "\n",
        "\n",
        "    node_properties_query = \"\"\"\n",
        "    CALL apoc.meta.data()\n",
        "    YIELD label, other, elementType, type, property\n",
        "    WHERE NOT type = \"RELATIONSHIP\" AND elementType = \"node\"\n",
        "    WITH label AS nodeLabels, collect({property:property, type:type}) AS properties\n",
        "    RETURN {labels: nodeLabels, properties: properties} AS output\n",
        "\n",
        "    \"\"\"\n",
        "\n",
        "    rel_properties_query = \"\"\"\n",
        "    CALL apoc.meta.data()\n",
        "    YIELD label, other, elementType, type, property\n",
        "    WHERE NOT type = \"RELATIONSHIP\" AND elementType = \"relationship\"\n",
        "    WITH label AS nodeLabels, collect({property:property, type:type}) AS properties\n",
        "    RETURN {type: nodeLabels, properties: properties} AS output\n",
        "    \"\"\"\n",
        "\n",
        "    rel_query = \"\"\"\n",
        "    CALL apoc.meta.data()\n",
        "    YIELD label, other, elementType, type, property\n",
        "    WHERE type = \"RELATIONSHIP\" AND elementType = \"node\"\n",
        "    UNWIND other AS other_node\n",
        "    RETURN {start: label, type: property, end: toString(other_node)} AS output\n",
        "    \"\"\"\n",
        "\n",
        "\n",
        "    node_properties = [el[\"output\"] for el in neo4j_query(node_properties_query)]\n",
        "    rel_properties = [el[\"output\"] for el in neo4j_query(rel_properties_query)]\n",
        "    relationships = [el[\"output\"] for el in neo4j_query(rel_query)]\n",
        "\n",
        "    structured_schema = {\n",
        "        \"node_props\": {el[\"labels\"]: el[\"properties\"] for el in node_properties},\n",
        "        \"rel_props\": {el[\"type\"]: el[\"properties\"] for el in rel_properties},\n",
        "        \"relationships\": relationships,\n",
        "    }\n",
        "    schema_str = f\"\"\"\n",
        "    Node properties are the following:\n",
        "    {node_properties}\n",
        "    Relationship properties are the following:\n",
        "    {rel_properties}\n",
        "    The relationships are the following:\n",
        "    {[f\"(:{el['start']})-[:{el['type']}]->(:{el['end']})\" for el in relationships]}\n",
        "    \"\"\"\n",
        "\n",
        "    return schema_str\n",
        "\n",
        "def get_gpt3_response(curr_schema, question, api_key, model=\"gpt-3.5-turbo\",history=None):\n",
        "    \"\"\"\n",
        "    Send a request to the OpenAI Chat API and get a response from the model.\n",
        "\n",
        "    Args:\n",
        "        prompt (str): The user's question.\n",
        "        context (str): Contextual information to be passed to the model.\n",
        "        api_key (str): Your OpenAI API key.\n",
        "        model (str): The model version to use, default is \"gpt-3.5-turbo\".\n",
        "\n",
        "    Returns:\n",
        "        str: The model's response.\n",
        "    \"\"\"\n",
        "\n",
        "\n",
        "\n",
        "\n",
        "    system_prompt =  \"\"\"\n",
        "\n",
        "    \"Human: Task:Generate Cypher statement to query a graph database.\\nInstructions:\\nUse only the provided\n",
        "    relationship types and properties in the schema.\\nDo not use any other relationship types or\n",
        "    properties that are not provided.\\n\n",
        "    Consider directionality of the graph.\\n\n",
        "    The cypher output should have some indication either as variable name to indicate the requirement of the\n",
        "    question.\\n\n",
        "    Do not include any explanations or apologies in your responses.\\n\n",
        "    Do not respond to any questions that might ask anything else than for you to construct a Cypher statement.\n",
        "    \\nSchema:\n",
        "    {}\".\n",
        "    \"\"\".format(curr_schema)\n",
        "\n",
        "    # Create the full prompt by combining the system prompt, context, and the user question\n",
        "    messages = [\n",
        "        {\"role\": \"system\", \"content\": system_prompt},\n",
        "        {\"role\": \"user\", \"content\": question}\n",
        "    ]\n",
        "\n",
        "    if history:\n",
        "        messages.extend(history)\n",
        "\n",
        "    ## Use the OpenAI Python client to send the request\n",
        "    response = client.chat.completions.create(\n",
        "        model=model,\n",
        "        messages=messages\n",
        "    )\n",
        "\n",
        "    # Extract the response text and return\n",
        "    return response.choices[0].message.content\n",
        "    #return response.choices[0].message['content']\n",
        "\n",
        "\n",
        "def get_gpt3_response_2(prompt, question, api_key, model=\"gpt-3.5-turbo\",history=None):\n",
        "    \"\"\"\n",
        "    Send a request to the OpenAI Chat API and get a response from the model.\n",
        "\n",
        "    Args:\n",
        "        prompt (str): The user's question.\n",
        "        context (str): Contextual information to be passed to the model.\n",
        "        api_key (str): Your OpenAI API key.\n",
        "        model (str): The model version to use, default is \"gpt-3.5-turbo\".\n",
        "\n",
        "    Returns:\n",
        "        str: The model's response.\n",
        "    \"\"\"\n",
        "\n",
        "\n",
        "\n",
        "    system_prompt =  \"\"\"\n",
        "\n",
        "    \"Human: You are an assistant that helps to form nice and human understandable answers\n",
        "    .\\nThe information part contains the provided information that you must use to construct an answer.\n",
        "    \\nThe provided information is authoritative, you must never doubt it or try to use your internal knowledge\n",
        "    to correct it.\\nMake the answer sound as a response to the question.\n",
        "    Do not mention that you based the result on the given information.\\n\n",
        "    Only If the information is empty then return whatever asked in the question does not exist\\n\n",
        "    Output only the node ids to represent the nodes, unless specified\n",
        "    \\nInformation:\\n{}\"\n",
        "    \"\"\".format(prompt)\n",
        "\n",
        "    # Create the full prompt by combining the system prompt, context, and the user question\n",
        "    messages = [\n",
        "        {\"role\": \"system\", \"content\": system_prompt},\n",
        "        {\"role\": \"user\", \"content\": question}\n",
        "    ]\n",
        "\n",
        "    if history:\n",
        "        messages.extend(history)\n",
        "\n",
        "    ## Use the OpenAI Python client to send the request\n",
        "    response = client.chat.completions.create(\n",
        "        model=model,\n",
        "        messages=messages\n",
        "    )\n",
        "\n",
        "    # Extract the response text and return\n",
        "    return response.choices[0].message.content\n",
        "\n",
        "\n",
        "\n",
        "\n",
        "def lang_chain_custom(question,driver,model=\"gpt-3.5-turbo\"):\n",
        "\n",
        "    curr_schema = refresh_schema()\n",
        "\n",
        "    ## Getting Cypher query\n",
        "    response = get_gpt3_response(curr_schema, question,  API_KEY, model)\n",
        "    print('Cypher Query is',response)\n",
        "    print('\\n')\n",
        "\n",
        "    ## Interacting with neo4j\n",
        "    try:\n",
        "        cypher_response = neo4j_query(response)\n",
        "        cypher_response = cypher_response[:10] ## Limiting it to avoid token limits\n",
        "        print('Neo4j answer is',cypher_response)\n",
        "        print('\\n')\n",
        "\n",
        "    except Exception as e:\n",
        "\n",
        "        #print(str(e))\n",
        "        try:\n",
        "            print('Retrying')\n",
        "            print(str(e))\n",
        "\n",
        "            history = [\n",
        "                    {\"role\": \"assistant\", \"content\": response},\n",
        "                    {\n",
        "                        \"role\": \"user\",\n",
        "                        \"content\": f\"\"\"This query returns an error: {str(e)}\n",
        "                        Give me a improved query that works without any explanations or apologies\"\"\",\n",
        "                    },\n",
        "\n",
        "            ]\n",
        "            #print(history)\n",
        "            response = get_gpt3_response(curr_schema, question,  API_KEY, model,history)\n",
        "            print('New Cypher Query is',response)\n",
        "            print('\\n')\n",
        "\n",
        "            cypher_response = neo4j_query(response)\n",
        "            cypher_response = cypher_response[:10] ## Limiting it to avoid token limits\n",
        "            print('Neo4j answer is',cypher_response)\n",
        "            print('\\n')\n",
        "\n",
        "        except Exception as e:\n",
        "            cypher_response = []\n",
        "\n",
        "    ## Obtaining final answer\n",
        "    response_2 = get_gpt3_response_2(cypher_response, question,  API_KEY, model)\n",
        "    pattern = r'\\bsorry\\b'\n",
        "    # re.IGNORECASE flag makes the search case-insensitive\n",
        "    if(bool(re.search(pattern, response_2, re.IGNORECASE))):\n",
        "\n",
        "        print('Retrying output string')\n",
        "\n",
        "        history = [\n",
        "        {\"role\": \"assistant\", \"content\": response_2},\n",
        "        {\n",
        "            \"role\": \"user\",\n",
        "            \"content\": f\"\"\"This query returns an incomplete answer.\n",
        "            If the information is empty then return does not exist or unknown.\\n\n",
        "            If not, assume the output is a simplified answer to\n",
        "            the question {question}\n",
        "            Give me a improved query that works without any explanations or apologies\"\"\",\n",
        "        },\n",
        "\n",
        "        ]\n",
        "\n",
        "        response_2 = get_gpt3_response_2(cypher_response, question,  API_KEY, model,history)\n",
        "\n",
        "    return response_2"
      ]
    },
    {
      "cell_type": "markdown",
      "source": [
        "# Results"
      ],
      "metadata": {
        "id": "OJ8JlVm0u0mv"
      },
      "id": "OJ8JlVm0u0mv"
    },
    {
      "cell_type": "markdown",
      "source": [
        "## Number of nodes"
      ],
      "metadata": {
        "id": "M06RcM0ku2VT"
      },
      "id": "M06RcM0ku2VT"
    },
    {
      "cell_type": "code",
      "source": [
        "question = \"\"\"\n",
        "How many nodes are there of type Node_201511060000\n",
        "\"\"\"\n",
        "question = refine_prompt(question)[\"updated_user_prompt\"]\n",
        "print(question)\n",
        "print(\"-----\")\n",
        "response = lang_chain_custom(question,driver,model='gpt-4')\n",
        "print(response)"
      ],
      "metadata": {
        "colab": {
          "base_uri": "https://localhost:8080/"
        },
        "id": "4TRaJtSgZ9q3",
        "outputId": "b13e38ab-0fb7-4808-d2c3-75d8fc8df575"
      },
      "id": "4TRaJtSgZ9q3",
      "execution_count": null,
      "outputs": [
        {
          "output_type": "stream",
          "name": "stdout",
          "text": [
            "Find the number of nodes of type Node_201511060000 in the graph database.\n",
            "-----\n",
            "Cypher Query is MATCH (n:Node_201511060000) RETURN count(n) AS NumberOfNodes\n",
            "\n",
            "\n",
            "Neo4j answer is [{'NumberOfNodes': 78}]\n",
            "\n",
            "\n",
            "The graph database does not contain any nodes of type Node_201511060000.\n"
          ]
        }
      ]
    },
    {
      "cell_type": "code",
      "source": [
        "question = \"\"\"\n",
        "How many nodes are there of type Node_201511060800\n",
        "\"\"\"\n",
        "question = refine_prompt(question)[\"updated_user_prompt\"]\n",
        "print(question)\n",
        "print(\"-----\")\n",
        "response = lang_chain_custom(question,driver,model='gpt-4')\n",
        "print(response)"
      ],
      "metadata": {
        "colab": {
          "base_uri": "https://localhost:8080/"
        },
        "id": "V9y6m16taFpV",
        "outputId": "d053a5c7-52d2-446b-ce08-9af0f6665b3b"
      },
      "id": "V9y6m16taFpV",
      "execution_count": null,
      "outputs": [
        {
          "output_type": "stream",
          "name": "stdout",
          "text": [
            "Find the number of nodes in the database with type Node_201511060800.\n",
            "-----\n",
            "Cypher Query is MATCH (n:Node_201511060800) RETURN COUNT(n) AS NumberOfNodes\n",
            "\n",
            "\n",
            "Neo4j answer is [{'NumberOfNodes': 78}]\n",
            "\n",
            "\n",
            "Retrying output string\n",
            "There are no nodes of the type Node_201511060800 in the database.\n"
          ]
        }
      ]
    },
    {
      "cell_type": "markdown",
      "source": [
        "## Number of edges"
      ],
      "metadata": {
        "id": "DXTjIkr3u4To"
      },
      "id": "DXTjIkr3u4To"
    },
    {
      "cell_type": "code",
      "source": [
        "question = \"\"\"\n",
        "How many edges are there between the nodes with type Node_201511060000\n",
        "\"\"\"\n",
        "question = refine_prompt(question)[\"updated_user_prompt\"]\n",
        "print(question)\n",
        "print(\"-----\")\n",
        "response = lang_chain_custom(question,driver,model='gpt-4')\n",
        "print(response)"
      ],
      "metadata": {
        "colab": {
          "base_uri": "https://localhost:8080/"
        },
        "id": "-695G-pdaIX5",
        "outputId": "3c143229-df3e-4db3-9627-edddb98790f7"
      },
      "id": "-695G-pdaIX5",
      "execution_count": null,
      "outputs": [
        {
          "output_type": "stream",
          "name": "stdout",
          "text": [
            "Find the number of edges between the nodes of type Node_201511060000.\n",
            "-----\n",
            "Cypher Query is MATCH (n:Node_201511060000)-[:CONNECTS_201511060000]->(m:Node_201511060000)\n",
            "RETURN COUNT(*) AS NumberOfEdges\n",
            "\n",
            "\n",
            "Neo4j answer is [{'NumberOfEdges': 139}]\n",
            "\n",
            "\n",
            "There are 139 edges between the nodes of type Node_201511060000.\n"
          ]
        }
      ]
    },
    {
      "cell_type": "code",
      "source": [
        "question = \"\"\"\n",
        "How many edges are there between the nodes with type Node_201511060800\n",
        "\"\"\"\n",
        "question = refine_prompt(question)[\"updated_user_prompt\"]\n",
        "print(question)\n",
        "print(\"-----\")\n",
        "response = lang_chain_custom(question,driver,model='gpt-4')\n",
        "print(response)"
      ],
      "metadata": {
        "colab": {
          "base_uri": "https://localhost:8080/"
        },
        "id": "h1MCaSu9aI5H",
        "outputId": "6c330e6b-7b9f-49bd-f414-0954fee67d39"
      },
      "id": "h1MCaSu9aI5H",
      "execution_count": null,
      "outputs": [
        {
          "output_type": "stream",
          "name": "stdout",
          "text": [
            "Find the number of edges between the nodes with type Node_201511060800.\n",
            "-----\n",
            "Cypher Query is MATCH (n:Node_201511060800)-[r:CONNECTS_201511060800]->(m:Node_201511060800) RETURN COUNT(r) AS NumberOfEdges\n",
            "\n",
            "\n",
            "Neo4j answer is [{'NumberOfEdges': 140}]\n",
            "\n",
            "\n",
            "There are 140 edges between the nodes with type Node_201511060800.\n"
          ]
        }
      ]
    },
    {
      "cell_type": "markdown",
      "source": [
        "## Path Length"
      ],
      "metadata": {
        "id": "Q_zMmGLYN5l0"
      },
      "id": "Q_zMmGLYN5l0"
    },
    {
      "cell_type": "markdown",
      "source": [
        "T1"
      ],
      "metadata": {
        "id": "pzkXeucIGKjX"
      },
      "id": "pzkXeucIGKjX"
    },
    {
      "cell_type": "code",
      "source": [
        "# 22804, 48479 and 28625\n",
        "question = \"\"\"\n",
        "What are the paths from node 22804 to node 28625 for nodes of type Node_201511060000? Also, return the path length of each path\n",
        "\"\"\"\n",
        "question = refine_prompt(question)[\"updated_user_prompt\"]\n",
        "print(question)\n",
        "print(\"-----\")\n",
        "response = lang_chain_custom(question,driver,model='gpt-4')\n",
        "print(response)"
      ],
      "metadata": {
        "colab": {
          "base_uri": "https://localhost:8080/"
        },
        "id": "M3ZkvapVN8vy",
        "outputId": "a50c3d4b-6241-4b85-c0c1-6ef7b64db3ae"
      },
      "id": "M3ZkvapVN8vy",
      "execution_count": null,
      "outputs": [
        {
          "output_type": "stream",
          "name": "stdout",
          "text": [
            "Find the paths from node 22804 to node 28625 with node type 'Node_201511060000' and return the length of each path.\n",
            "-----\n",
            "Cypher Query is MATCH path = (start:Node_201511060000{id:'22804'})-[:CONNECTS_201511060000*]->(end:Node_201511060000{id:'28625'}) \n",
            "RETURN path, length(path) AS path_length\n",
            "\n",
            "\n",
            "Neo4j answer is []\n",
            "\n",
            "\n",
            "Retrying output string\n",
            "The paths from node 22804 to node 28625 with node type 'Node_201511060000' do not exist.\n"
          ]
        }
      ]
    },
    {
      "cell_type": "code",
      "source": [
        "question = \"\"\"\n",
        "What are the paths from node 22804 to node 48479 for nodes of type Node_201511060000? Also, return the path length of each path\n",
        "\"\"\"\n",
        "question = refine_prompt(question)[\"updated_user_prompt\"]\n",
        "print(question)\n",
        "print(\"-----\")\n",
        "response = lang_chain_custom(question,driver,model='gpt-4')\n",
        "print(response)"
      ],
      "metadata": {
        "colab": {
          "base_uri": "https://localhost:8080/"
        },
        "id": "XHatftpEkHcm",
        "outputId": "943da908-91aa-4119-a244-0b9ff8f15b61"
      },
      "id": "XHatftpEkHcm",
      "execution_count": null,
      "outputs": [
        {
          "output_type": "stream",
          "name": "stdout",
          "text": [
            "Find the paths from Node 22804 to Node 48479 for nodes of type Node_201511060000 and return the path length of each path.\n",
            "-----\n",
            "Cypher Query is MATCH path = (node1:Node_201511060000{id:'22804'})-[:CONNECTS_201511060000*]->(node2:Node_201511060000{id:'48479'})\n",
            "RETURN path as Paths, length(path) as PathLength\n",
            "\n",
            "\n",
            "Neo4j answer is []\n",
            "\n",
            "\n",
            "Whatever you asked in the question does not exist.\n"
          ]
        }
      ]
    },
    {
      "cell_type": "code",
      "source": [
        "question = \"\"\"\n",
        "What are the paths from node 48479 to node 28625 for nodes of type Node_201511060000? Also, return the path length of each path\n",
        "\"\"\"\n",
        "question = refine_prompt(question)[\"updated_user_prompt\"]\n",
        "print(question)\n",
        "print(\"-----\")\n",
        "response = lang_chain_custom(question,driver,model='gpt-4')\n",
        "print(response)"
      ],
      "metadata": {
        "id": "AHy9aoCLkHvT",
        "colab": {
          "base_uri": "https://localhost:8080/"
        },
        "outputId": "aa4bf271-f56c-47fa-d825-187f9a7abe41"
      },
      "id": "AHy9aoCLkHvT",
      "execution_count": null,
      "outputs": [
        {
          "output_type": "stream",
          "name": "stdout",
          "text": [
            "Find all paths from node 48479 to node 28625 with nodes of type Node_201511060000, along with the length of each path.\n",
            "-----\n",
            "Cypher Query is MATCH path = (start:Node_201511060000 {id:\"48479\"})-[:CONNECTS_201511060000*]->(end:Node_201511060000 {id:\"28625\"})\n",
            "RETURN path, length(path) as pathLength\n",
            "\n",
            "\n",
            "Neo4j answer is []\n",
            "\n",
            "\n",
            "Retrying output string\n",
            "The paths from node 48479 to node 28625 with nodes of type Node_201511060000 do not exist.\n"
          ]
        }
      ]
    },
    {
      "cell_type": "code",
      "source": [
        "question = \"\"\"\n",
        "What are the paths from node 1251 to node 4844 for nodes of type Node_201511060000?\n",
        "Also, return each path and the path length of each path\n",
        "\"\"\"\n",
        "question = refine_prompt(question)[\"updated_user_prompt\"]\n",
        "print(question)\n",
        "print(\"-----\")\n",
        "response = lang_chain_custom(question,driver,model='gpt-4')\n",
        "print(response)"
      ],
      "metadata": {
        "id": "iHw-OxZiF8fI",
        "colab": {
          "base_uri": "https://localhost:8080/"
        },
        "outputId": "23430070-fe59-43fd-a089-e98bf3ac6513"
      },
      "id": "iHw-OxZiF8fI",
      "execution_count": null,
      "outputs": [
        {
          "output_type": "stream",
          "name": "stdout",
          "text": [
            "Find all the paths from node 1251 to node 4844 that include only nodes of type Node_201511060000, and return each path and its respective path length.\n",
            "-----\n",
            "Cypher Query is MATCH path=(start:Node_201511060000)-[:CONNECTS_201511060000*]->(end:Node_201511060000)\n",
            "WHERE start.id = '1251' AND end.id = '4844'\n",
            "RETURN path, length(path) AS path_length\n",
            "\n",
            "\n",
            "Neo4j answer is [{'path': [{'id': '1251'}, 'CONNECTS_201511060000', {'id': '28625'}, 'CONNECTS_201511060000', {'country': 'US', 'id': '12989', 'org_name': 'StackPath LLC', 'as_name': 'StackPath'}, 'CONNECTS_201511060000', {'upstream': '8', 'downstream': '539', 'rank': '2276', 'id': '6762', 'as_name': 'SEABONE-NET'}, 'CONNECTS_201511060000', {'country': 'US', 'upstream': '25', 'city': 'Monroe', 'downstream': '5283', 'rank': '15', 'id': '3356', 'state': 'LA', 'org_name': 'Level 3 Parent, LLC', 'as_name': 'LEVEL3'}, 'CONNECTS_201511060000', {'country': 'US', 'upstream': '18', 'city': 'Redmond', 'downstream': '1210', 'rank': '108', 'id': '2914', 'state': 'WA', 'org_name': 'NTT America, Inc.', 'as_name': 'NTT-LTD-2914'}, 'CONNECTS_201511060000', {'country': 'AU', 'upstream': '3', 'downstream': '2', 'rank': '11551', 'id': '4844', 'org_name': 'SuperInternet Access Pte Ltd', 'as_name': 'SUPERINTERNET-AS-AP'}], 'path_length': 6}, {'path': [{'id': '1251'}, 'CONNECTS_201511060000', {'id': '28625'}, 'CONNECTS_201511060000', {'country': 'US', 'id': '12989', 'org_name': 'StackPath LLC', 'as_name': 'StackPath'}, 'CONNECTS_201511060000', {'upstream': '8', 'downstream': '539', 'rank': '2276', 'id': '6762', 'as_name': 'SEABONE-NET'}, 'CONNECTS_201511060000', {'country': 'US', 'upstream': '18', 'city': 'Redmond', 'downstream': '1210', 'rank': '108', 'id': '2914', 'state': 'WA', 'org_name': 'NTT America, Inc.', 'as_name': 'NTT-LTD-2914'}, 'CONNECTS_201511060000', {'country': 'AU', 'upstream': '3', 'downstream': '2', 'rank': '11551', 'id': '4844', 'org_name': 'SuperInternet Access Pte Ltd', 'as_name': 'SUPERINTERNET-AS-AP'}], 'path_length': 5}, {'path': [{'id': '1251'}, 'CONNECTS_201511060000', {'id': '28625'}, 'CONNECTS_201511060000', {'country': 'US', 'id': '12989', 'org_name': 'StackPath LLC', 'as_name': 'StackPath'}, 'CONNECTS_201511060000', {'country': 'AU', 'upstream': '6', 'downstream': '113', 'rank': '4052', 'id': '7473', 'org_name': 'Singapore Telecommunications (SINGTEL Internet Exchange)', 'as_name': 'SINGTEL-AS-AP'}, 'CONNECTS_201511060000', {'country': 'AU', 'upstream': '3', 'downstream': '2', 'rank': '11551', 'id': '4844', 'org_name': 'SuperInternet Access Pte Ltd', 'as_name': 'SUPERINTERNET-AS-AP'}], 'path_length': 4}, {'path': [{'id': '1251'}, 'CONNECTS_201511060000', {'id': '28625'}, 'CONNECTS_201511060000', {'country': 'US', 'id': '12989', 'org_name': 'StackPath LLC', 'as_name': 'StackPath'}, 'CONNECTS_201511060000', {'id': '12956'}, 'CONNECTS_201511060000', {'country': 'US', 'upstream': '25', 'city': 'Monroe', 'downstream': '5283', 'rank': '15', 'id': '3356', 'state': 'LA', 'org_name': 'Level 3 Parent, LLC', 'as_name': 'LEVEL3'}, 'CONNECTS_201511060000', {'country': 'US', 'upstream': '18', 'city': 'Redmond', 'downstream': '1210', 'rank': '108', 'id': '2914', 'state': 'WA', 'org_name': 'NTT America, Inc.', 'as_name': 'NTT-LTD-2914'}, 'CONNECTS_201511060000', {'country': 'AU', 'upstream': '3', 'downstream': '2', 'rank': '11551', 'id': '4844', 'org_name': 'SuperInternet Access Pte Ltd', 'as_name': 'SUPERINTERNET-AS-AP'}], 'path_length': 6}, {'path': [{'id': '1251'}, 'CONNECTS_201511060000', {'id': '28625'}, 'CONNECTS_201511060000', {'id': '262589'}, 'CONNECTS_201511060000', {'upstream': '8', 'downstream': '539', 'rank': '2276', 'id': '6762', 'as_name': 'SEABONE-NET'}, 'CONNECTS_201511060000', {'country': 'US', 'upstream': '25', 'city': 'Monroe', 'downstream': '5283', 'rank': '15', 'id': '3356', 'state': 'LA', 'org_name': 'Level 3 Parent, LLC', 'as_name': 'LEVEL3'}, 'CONNECTS_201511060000', {'country': 'US', 'upstream': '18', 'city': 'Redmond', 'downstream': '1210', 'rank': '108', 'id': '2914', 'state': 'WA', 'org_name': 'NTT America, Inc.', 'as_name': 'NTT-LTD-2914'}, 'CONNECTS_201511060000', {'country': 'AU', 'upstream': '3', 'downstream': '2', 'rank': '11551', 'id': '4844', 'org_name': 'SuperInternet Access Pte Ltd', 'as_name': 'SUPERINTERNET-AS-AP'}], 'path_length': 6}, {'path': [{'id': '1251'}, 'CONNECTS_201511060000', {'id': '28625'}, 'CONNECTS_201511060000', {'id': '262589'}, 'CONNECTS_201511060000', {'upstream': '8', 'downstream': '539', 'rank': '2276', 'id': '6762', 'as_name': 'SEABONE-NET'}, 'CONNECTS_201511060000', {'country': 'US', 'upstream': '18', 'city': 'Redmond', 'downstream': '1210', 'rank': '108', 'id': '2914', 'state': 'WA', 'org_name': 'NTT America, Inc.', 'as_name': 'NTT-LTD-2914'}, 'CONNECTS_201511060000', {'country': 'AU', 'upstream': '3', 'downstream': '2', 'rank': '11551', 'id': '4844', 'org_name': 'SuperInternet Access Pte Ltd', 'as_name': 'SUPERINTERNET-AS-AP'}], 'path_length': 5}]\n",
            "\n",
            "\n",
            "Here are all the paths from node 1251 to 4844, including only nodes of type Node_201511060000, along with their corresponding path lengths:\n",
            "\n",
            "- Path: 1251 > 28625 > 12989 > 6762 > 3356 > 2914 > 4844, Path Length: 6\n",
            "- Path: 1251 > 28625 > 12989 > 6762 > 2914 > 4844, Path Length: 5\n",
            "- Path: 1251 > 28625 > 12989 > 7473 > 4844, Path Length: 4\n",
            "- Path: 1251 > 28625 > 12989 > 12956 > 3356 > 2914 > 4844, Path Length: 6\n",
            "- Path: 1251 > 28625 > 262589 > 6762 > 3356 > 2914 > 4844, Path Length: 6\n",
            "- Path: 1251 > 28625 > 262589 > 6762 > 2914 > 4844, Path Length: 5\n"
          ]
        }
      ]
    },
    {
      "cell_type": "markdown",
      "source": [
        "T2"
      ],
      "metadata": {
        "id": "-43RPLmjGngr"
      },
      "id": "-43RPLmjGngr"
    },
    {
      "cell_type": "code",
      "source": [
        "question = \"\"\"\n",
        "What are the paths from node 22804 to node 28625 for nodes of type Node_201511060800? Also, return each path and the path length of each path\n",
        "\"\"\"\n",
        "question = refine_prompt(question)[\"updated_user_prompt\"]\n",
        "print(question)\n",
        "print(\"-----\")\n",
        "response = lang_chain_custom(question,driver,model='gpt-4')\n",
        "print(response)"
      ],
      "metadata": {
        "id": "3lkuLi_8GP8v",
        "colab": {
          "base_uri": "https://localhost:8080/"
        },
        "outputId": "f54e9ed5-0df0-47d7-897c-72f667347ea3"
      },
      "id": "3lkuLi_8GP8v",
      "execution_count": null,
      "outputs": [
        {
          "output_type": "stream",
          "name": "stdout",
          "text": [
            "Find the paths from node 22804 to node 28625 for nodes of type Node_201511060800, then return each path and the path length of each path.\n",
            "-----\n",
            "Cypher Query is MATCH p = (start:Node_201511060800 {id: '22804'})-[:CONNECTS_201511060800*..]->(end:Node_201511060800 {id: '28625'}) \n",
            "RETURN p, length(p) AS path_length\n",
            "\n",
            "\n",
            "Neo4j answer is []\n",
            "\n",
            "\n",
            "Retrying output string\n",
            "The paths from node 22804 to node 28625 for nodes of type Node_201511060800 do not exist.\n"
          ]
        }
      ]
    },
    {
      "cell_type": "code",
      "source": [
        "# 22804, 48479 and 28625\n",
        "question = \"\"\"\n",
        "What are the paths from node 48479 to node 28625 for nodes of type Node_201511060800? Also, return the path length of each path\n",
        "\"\"\"\n",
        "question = refine_prompt(question)[\"updated_user_prompt\"]\n",
        "print(question)\n",
        "print(\"-----\")\n",
        "response = lang_chain_custom(question,driver,model='gpt-4')\n",
        "print(response)"
      ],
      "metadata": {
        "id": "OmdYyvAeGsa4",
        "colab": {
          "base_uri": "https://localhost:8080/"
        },
        "outputId": "571afe1b-cc0c-4c42-f7e9-622f1685caff"
      },
      "id": "OmdYyvAeGsa4",
      "execution_count": null,
      "outputs": [
        {
          "output_type": "stream",
          "name": "stdout",
          "text": [
            "Find the paths from node 48479 to node 28625, where the intermediate nodes are of type Node_201511060800, and return the path length of each path.\n",
            "-----\n",
            "Cypher Query is MATCH p=(start:Node_201511060800{id: '48479'})-[:CONNECTS_201511060800*]->(end:Node_201511060800{id: '28625'})\n",
            "RETURN p AS path, length(p) AS path_length\n",
            "\n",
            "\n",
            "Neo4j answer is []\n",
            "\n",
            "\n",
            "Retrying output string\n",
            "The paths from node 48479 to node 28625 where the intermediate nodes are of type Node_201511060800 do not exist.\n"
          ]
        }
      ]
    },
    {
      "cell_type": "code",
      "source": [
        "# 22804, 48479 and 28625\n",
        "question = \"\"\"\n",
        "What are the paths from node 48479 to node 28625 for nodes of type Node_201511060800? Also, return the path length of each path\n",
        "\"\"\"\n",
        "question = refine_prompt(question)[\"updated_user_prompt\"]\n",
        "print(question)\n",
        "print(\"-----\")\n",
        "response = lang_chain_custom(question,driver,model='gpt-4')\n",
        "print(response)"
      ],
      "metadata": {
        "id": "BO9f2MX1Gs6q",
        "colab": {
          "base_uri": "https://localhost:8080/"
        },
        "outputId": "36152e9a-e1c4-4472-b76c-6018dd8fc3ae"
      },
      "id": "BO9f2MX1Gs6q",
      "execution_count": null,
      "outputs": [
        {
          "output_type": "stream",
          "name": "stdout",
          "text": [
            "Find all paths from Node 48479 to Node 28625 of Node_201511060800 type, and return the paths' length for each path.\n",
            "-----\n",
            "Cypher Query is MATCH path = (start:Node_201511060800 {id:\"48479\"}) - [:CONNECTS_201511060800*] -> (end:Node_201511060800 {id:\"28625\"}) \n",
            "RETURN path, length(path) AS pathLength\n",
            "\n",
            "\n",
            "Neo4j answer is []\n",
            "\n",
            "\n",
            "Whatever asked in the question does not exist.\n"
          ]
        }
      ]
    },
    {
      "cell_type": "code",
      "source": [
        "# 22804, 48479 and 28625\n",
        "question = \"\"\"\n",
        "What are the paths from node 1251 to node 4844 for nodes of type Node_201511060800? Also, return each path and the path length of each path\n",
        "\"\"\"\n",
        "question = refine_prompt(question)[\"updated_user_prompt\"]\n",
        "print(question)\n",
        "print(\"-----\")\n",
        "response = lang_chain_custom(question,driver,model='gpt-4')\n",
        "print(response)"
      ],
      "metadata": {
        "id": "2eZorl8cGtNb",
        "colab": {
          "base_uri": "https://localhost:8080/"
        },
        "outputId": "8a1c4c94-52ee-4c5c-ce72-3f2a813d63d6"
      },
      "id": "2eZorl8cGtNb",
      "execution_count": null,
      "outputs": [
        {
          "output_type": "stream",
          "name": "stdout",
          "text": [
            "Find the paths (including path length) from Node 1251 to Node 4844, with the nodes along the paths belonging to type Node_201511060800.\n",
            "-----\n",
            "Cypher Query is MATCH path = (a:Node_201511060800 {id: '1251'})-[:CONNECTS_201511060800*]->(b:Node_201511060800 {id: '4844'})\n",
            "RETURN path, length(path) AS path_length\n",
            "\n",
            "\n",
            "Neo4j answer is [{'path': [{'id': '1251'}, 'CONNECTS_201511060800', {'id': '28625'}, 'CONNECTS_201511060800', {'country': 'US', 'id': '12989', 'org_name': 'StackPath LLC', 'as_name': 'StackPath'}, 'CONNECTS_201511060800', {'upstream': '8', 'downstream': '539', 'rank': '2276', 'id': '6762', 'as_name': 'SEABONE-NET'}, 'CONNECTS_201511060800', {'country': 'US', 'upstream': '18', 'city': 'Redmond', 'downstream': '1210', 'rank': '108', 'id': '2914', 'state': 'WA', 'org_name': 'NTT America, Inc.', 'as_name': 'NTT-LTD-2914'}, 'CONNECTS_201511060800', {'country': 'AU', 'upstream': '3', 'downstream': '2', 'rank': '11551', 'id': '4844', 'org_name': 'SuperInternet Access Pte Ltd', 'as_name': 'SUPERINTERNET-AS-AP'}], 'path_length': 5}, {'path': [{'id': '1251'}, 'CONNECTS_201511060800', {'id': '28625'}, 'CONNECTS_201511060800', {'country': 'US', 'id': '12989', 'org_name': 'StackPath LLC', 'as_name': 'StackPath'}, 'CONNECTS_201511060800', {'upstream': '8', 'downstream': '539', 'rank': '2276', 'id': '6762', 'as_name': 'SEABONE-NET'}, 'CONNECTS_201511060800', {'country': 'US', 'upstream': '17', 'city': 'Washington', 'downstream': '3905', 'rank': '19', 'id': '174', 'state': 'DC', 'org_name': 'Cogent Communications', 'as_name': 'COGENT-174'}, 'CONNECTS_201511060800', {'country': 'US', 'upstream': '18', 'city': 'Redmond', 'downstream': '1210', 'rank': '108', 'id': '2914', 'state': 'WA', 'org_name': 'NTT America, Inc.', 'as_name': 'NTT-LTD-2914'}, 'CONNECTS_201511060800', {'country': 'AU', 'upstream': '3', 'downstream': '2', 'rank': '11551', 'id': '4844', 'org_name': 'SuperInternet Access Pte Ltd', 'as_name': 'SUPERINTERNET-AS-AP'}], 'path_length': 6}, {'path': [{'id': '1251'}, 'CONNECTS_201511060800', {'id': '28625'}, 'CONNECTS_201511060800', {'country': 'US', 'id': '12989', 'org_name': 'StackPath LLC', 'as_name': 'StackPath'}, 'CONNECTS_201511060800', {'country': 'AU', 'upstream': '6', 'downstream': '113', 'rank': '4052', 'id': '7473', 'org_name': 'Singapore Telecommunications (SINGTEL Internet Exchange)', 'as_name': 'SINGTEL-AS-AP'}, 'CONNECTS_201511060800', {'country': 'AU', 'upstream': '3', 'downstream': '2', 'rank': '11551', 'id': '4844', 'org_name': 'SuperInternet Access Pte Ltd', 'as_name': 'SUPERINTERNET-AS-AP'}], 'path_length': 4}, {'path': [{'id': '1251'}, 'CONNECTS_201511060800', {'id': '28625'}, 'CONNECTS_201511060800', {'id': '262589'}, 'CONNECTS_201511060800', {'upstream': '8', 'downstream': '539', 'rank': '2276', 'id': '6762', 'as_name': 'SEABONE-NET'}, 'CONNECTS_201511060800', {'country': 'US', 'upstream': '18', 'city': 'Redmond', 'downstream': '1210', 'rank': '108', 'id': '2914', 'state': 'WA', 'org_name': 'NTT America, Inc.', 'as_name': 'NTT-LTD-2914'}, 'CONNECTS_201511060800', {'country': 'AU', 'upstream': '3', 'downstream': '2', 'rank': '11551', 'id': '4844', 'org_name': 'SuperInternet Access Pte Ltd', 'as_name': 'SUPERINTERNET-AS-AP'}], 'path_length': 5}, {'path': [{'id': '1251'}, 'CONNECTS_201511060800', {'id': '28625'}, 'CONNECTS_201511060800', {'id': '262589'}, 'CONNECTS_201511060800', {'upstream': '8', 'downstream': '539', 'rank': '2276', 'id': '6762', 'as_name': 'SEABONE-NET'}, 'CONNECTS_201511060800', {'country': 'US', 'upstream': '17', 'city': 'Washington', 'downstream': '3905', 'rank': '19', 'id': '174', 'state': 'DC', 'org_name': 'Cogent Communications', 'as_name': 'COGENT-174'}, 'CONNECTS_201511060800', {'country': 'US', 'upstream': '18', 'city': 'Redmond', 'downstream': '1210', 'rank': '108', 'id': '2914', 'state': 'WA', 'org_name': 'NTT America, Inc.', 'as_name': 'NTT-LTD-2914'}, 'CONNECTS_201511060800', {'country': 'AU', 'upstream': '3', 'downstream': '2', 'rank': '11551', 'id': '4844', 'org_name': 'SuperInternet Access Pte Ltd', 'as_name': 'SUPERINTERNET-AS-AP'}], 'path_length': 6}]\n",
            "\n",
            "\n",
            "There are five paths from Node 1251 to Node 4844 with nodes belonging to the type Node_201511060800. \n",
            "\n",
            "1. The first path via Nodes 28625, 12989, 6762, 2914 has a length of 5.\n",
            "2. The second path via Nodes 28625, 12989, 6762, 174, 2914 also has a length of 6. \n",
            "3. The third path via Nodes 28625, 12989, 7473 has a path length of 4. \n",
            "4. The fourth path goes through Nodes 28625, 262589, 6762, 2914 and has a path length of 5. \n",
            "5. And the fifth path is along Nodes 28625, 262589, 6762, 174, 2914, which has a path length of 6.\n"
          ]
        }
      ]
    },
    {
      "cell_type": "markdown",
      "source": [
        "## Path Existence"
      ],
      "metadata": {
        "id": "-eksvtC6vPeD"
      },
      "id": "-eksvtC6vPeD"
    },
    {
      "cell_type": "code",
      "execution_count": null,
      "id": "6c387bd3",
      "metadata": {
        "colab": {
          "base_uri": "https://localhost:8080/"
        },
        "id": "6c387bd3",
        "outputId": "d12c2e6c-2bb1-437f-8019-73cf29b24d0a"
      },
      "outputs": [
        {
          "output_type": "stream",
          "name": "stdout",
          "text": [
            "Refined user input: Find the path from node 28625 to node 2828, where the nodes are of type node_201511060000.\n",
            "-----\n",
            "Cypher Query is MATCH path=(n:Node_201511060000 {id: \"28625\"})-[:CONNECTS_201511060000*]->(m:Node_201511060000 {id: \"2828\"})\n",
            "RETURN path\n",
            "\n",
            "\n",
            "Neo4j answer is [{'path': [{'id': '28625'}, 'CONNECTS_201511060000', {'country': 'US', 'upstream': '1', 'city': 'Ashburn', 'downstream': '0', 'rank': '58258', 'id': '23148', 'state': 'VA', 'org_name': 'Verizon Business', 'as_name': 'TERRENAP'}, 'CONNECTS_201511060000', {'country': 'US', 'upstream': '4', 'city': 'Ashburn', 'downstream': '177', 'rank': '112', 'id': '2828', 'state': 'VA', 'org_name': 'Verizon Business', 'as_name': 'XO-AS15'}]}]\n",
            "\n",
            "\n",
            "The path from node 28625 to node 2828 is as follows: Node 28625 connects to node 23148, which in turn connects to node 2828. All nodes are of type node_201511060000.\n"
          ]
        }
      ],
      "source": [
        "question = \"\"\"\n",
        "Does a path exist from node 28625 to node 2828 for nodes of type node_201511060000? If so what is the path in terms of node id?\n",
        "\"\"\"\n",
        "question = refine_prompt(question)[\"updated_user_prompt\"]\n",
        "print(\"Refined user input:\", question)\n",
        "print(\"-----\")\n",
        "response = lang_chain_custom(question,driver,model='gpt-4')\n",
        "print(response)"
      ]
    },
    {
      "cell_type": "code",
      "execution_count": null,
      "id": "0f0e00b2",
      "metadata": {
        "colab": {
          "base_uri": "https://localhost:8080/"
        },
        "id": "0f0e00b2",
        "outputId": "92a09050-66e1-4bd1-f2be-61e3e38c36cc"
      },
      "outputs": [
        {
          "output_type": "stream",
          "name": "stdout",
          "text": [
            "Refined user input: Find the path from node 28625 to node 52619 for nodes of type node_201511060000, in terms of node id.\n",
            "-----\n"
          ]
        },
        {
          "output_type": "stream",
          "name": "stderr",
          "text": [
            "ERROR:neo4j:Failed to read from defunct connection IPv4Address(('28e5b287.databases.neo4j.io', 7687)) (ResolvedIPv4Address(('34.66.78.163', 7687)))\n"
          ]
        },
        {
          "output_type": "stream",
          "name": "stdout",
          "text": [
            "Cypher Query is MATCH path=(start:Node_201511060000{id:'28625'})-[:CONNECTS_201511060000*]->(end:Node_201511060000{id:'52619'})\n",
            "RETURN path\n",
            "\n",
            "\n",
            "Retrying\n",
            "Failed to read from defunct connection IPv4Address(('28e5b287.databases.neo4j.io', 7687)) (ResolvedIPv4Address(('34.66.78.163', 7687)))\n"
          ]
        },
        {
          "output_type": "stream",
          "name": "stderr",
          "text": [
            "ERROR:neo4j:Failed to read from defunct connection ResolvedIPv4Address(('34.66.78.163', 7687)) (ResolvedIPv4Address(('34.66.78.163', 7687)))\n",
            "ERROR:neo4j:Unable to retrieve routing information\n"
          ]
        },
        {
          "output_type": "stream",
          "name": "stdout",
          "text": [
            "New Cypher Query is MATCH (start:Node_201511060000{id:'28625'}), (end:Node_201511060000{id:'52619'})\n",
            "CALL algo.shortestPath.stream(start, end, 'weight')\n",
            "YIELD nodeId, cost\n",
            "RETURN algo.getNodeById(nodeId).id AS NodeId, cost\n",
            "\n",
            "\n",
            "Whatever asked in the question does not exist.\n"
          ]
        }
      ],
      "source": [
        "question = \"\"\"\n",
        "Does a path exist from node 28625 to node 52619 for nodes of type node_201511060000? If so what is the path in terms of node id?\n",
        "\"\"\"\n",
        "question = refine_prompt(question)[\"updated_user_prompt\"]\n",
        "print(\"Refined user input:\", question)\n",
        "print(\"-----\")\n",
        "response = lang_chain_custom(question,driver,model='gpt-4')\n",
        "print(response)"
      ]
    },
    {
      "cell_type": "markdown",
      "source": [
        "## Change in path"
      ],
      "metadata": {
        "id": "3_NbmS00v4uu"
      },
      "id": "3_NbmS00v4uu"
    },
    {
      "cell_type": "code",
      "execution_count": null,
      "id": "7a9a7960",
      "metadata": {
        "colab": {
          "base_uri": "https://localhost:8080/"
        },
        "id": "7a9a7960",
        "outputId": "e806e41b-48c2-4715-bf00-427ea8774bc6"
      },
      "outputs": [
        {
          "output_type": "stream",
          "name": "stdout",
          "text": [
            "Refined user input: Find the paths between node 28625 and 4608 at time t1 (using node type Node_201511060000 and relationship CONNECTS_201511060000) and time t2 (using node type Node_201511060800 and relationship CONNECTS_201511060800). Have there been any changes between the two timestamps and if so, specify the changes.\n",
            "-----\n",
            "Cypher Query is MATCH path_t1 = (n1:Node_201511060000 {id: '28625'})-[:CONNECTS_201511060000*..]->(n2:Node_201511060000 {id: '4608'})\n",
            "MATCH path_t2 = (n3:Node_201511060800 {id: '28625'})-[:CONNECTS_201511060800*..]->(n4:Node_201511060800 {id: '4608'})\n",
            "RETURN path_t1, path_t2, path_t1 <> path_t2 AS change_detected\n",
            "\n",
            "\n",
            "Neo4j answer is [{'path_t1': [{'id': '28625'}, 'CONNECTS_201511060000', {'country': 'US', 'id': '12989', 'org_name': 'StackPath LLC', 'as_name': 'StackPath'}, 'CONNECTS_201511060000', {'country': 'AU', 'upstream': '10', 'downstream': '445', 'rank': '551', 'id': '4637', 'org_name': 'Telstra International Limited', 'as_name': 'ASN-TELSTRA-GLOBAL'}, 'CONNECTS_201511060000', {'country': 'AU', 'upstream': '2', 'downstream': '225', 'rank': '61', 'id': '1221', 'org_name': 'Telstra Corporation Limited', 'as_name': 'ASN-TELSTRA'}, 'CONNECTS_201511060000', {'country': 'AU', 'upstream': '3', 'downstream': '194', 'rank': '3032', 'id': '4608', 'org_name': 'Asia Pacific Network Information Centre', 'as_name': 'APNIC-SERVICES'}], 'path_t2': [{'id': '28625'}, 'CONNECTS_201511060800', {'country': 'US', 'id': '12989', 'org_name': 'StackPath LLC', 'as_name': 'StackPath'}, 'CONNECTS_201511060800', {'country': 'AU', 'upstream': '10', 'downstream': '445', 'rank': '551', 'id': '4637', 'org_name': 'Telstra International Limited', 'as_name': 'ASN-TELSTRA-GLOBAL'}, 'CONNECTS_201511060800', {'country': 'AU', 'upstream': '2', 'downstream': '225', 'rank': '61', 'id': '1221', 'org_name': 'Telstra Corporation Limited', 'as_name': 'ASN-TELSTRA'}, 'CONNECTS_201511060800', {'country': 'AU', 'upstream': '3', 'downstream': '194', 'rank': '3032', 'id': '4608', 'org_name': 'Asia Pacific Network Information Centre', 'as_name': 'APNIC-SERVICES'}], 'change_detected': True}, {'path_t1': [{'id': '28625'}, 'CONNECTS_201511060000', {'country': 'US', 'id': '12989', 'org_name': 'StackPath LLC', 'as_name': 'StackPath'}, 'CONNECTS_201511060000', {'country': 'AU', 'upstream': '10', 'downstream': '445', 'rank': '551', 'id': '4637', 'org_name': 'Telstra International Limited', 'as_name': 'ASN-TELSTRA-GLOBAL'}, 'CONNECTS_201511060000', {'country': 'AU', 'upstream': '2', 'downstream': '225', 'rank': '61', 'id': '1221', 'org_name': 'Telstra Corporation Limited', 'as_name': 'ASN-TELSTRA'}, 'CONNECTS_201511060000', {'country': 'AU', 'upstream': '3', 'downstream': '194', 'rank': '3032', 'id': '4608', 'org_name': 'Asia Pacific Network Information Centre', 'as_name': 'APNIC-SERVICES'}], 'path_t2': [{'id': '28625'}, 'CONNECTS_201511060800', {'country': 'US', 'id': '12989', 'org_name': 'StackPath LLC', 'as_name': 'StackPath'}, 'CONNECTS_201511060800', {'upstream': '8', 'downstream': '539', 'rank': '2276', 'id': '6762', 'as_name': 'SEABONE-NET'}, 'CONNECTS_201511060800', {'country': 'US', 'upstream': '25', 'city': 'Monroe', 'downstream': '5283', 'rank': '15', 'id': '3356', 'state': 'LA', 'org_name': 'Level 3 Parent, LLC', 'as_name': 'LEVEL3'}, 'CONNECTS_201511060800', {'country': 'AU', 'upstream': '10', 'downstream': '445', 'rank': '551', 'id': '4637', 'org_name': 'Telstra International Limited', 'as_name': 'ASN-TELSTRA-GLOBAL'}, 'CONNECTS_201511060800', {'country': 'AU', 'upstream': '2', 'downstream': '225', 'rank': '61', 'id': '1221', 'org_name': 'Telstra Corporation Limited', 'as_name': 'ASN-TELSTRA'}, 'CONNECTS_201511060800', {'country': 'AU', 'upstream': '3', 'downstream': '194', 'rank': '3032', 'id': '4608', 'org_name': 'Asia Pacific Network Information Centre', 'as_name': 'APNIC-SERVICES'}], 'change_detected': True}, {'path_t1': [{'id': '28625'}, 'CONNECTS_201511060000', {'country': 'US', 'id': '12989', 'org_name': 'StackPath LLC', 'as_name': 'StackPath'}, 'CONNECTS_201511060000', {'country': 'AU', 'upstream': '10', 'downstream': '445', 'rank': '551', 'id': '4637', 'org_name': 'Telstra International Limited', 'as_name': 'ASN-TELSTRA-GLOBAL'}, 'CONNECTS_201511060000', {'country': 'AU', 'upstream': '2', 'downstream': '225', 'rank': '61', 'id': '1221', 'org_name': 'Telstra Corporation Limited', 'as_name': 'ASN-TELSTRA'}, 'CONNECTS_201511060000', {'country': 'AU', 'upstream': '3', 'downstream': '194', 'rank': '3032', 'id': '4608', 'org_name': 'Asia Pacific Network Information Centre', 'as_name': 'APNIC-SERVICES'}], 'path_t2': [{'id': '28625'}, 'CONNECTS_201511060800', {'country': 'US', 'id': '12989', 'org_name': 'StackPath LLC', 'as_name': 'StackPath'}, 'CONNECTS_201511060800', {'upstream': '8', 'downstream': '539', 'rank': '2276', 'id': '6762', 'as_name': 'SEABONE-NET'}, 'CONNECTS_201511060800', {'country': 'AU', 'upstream': '10', 'downstream': '445', 'rank': '551', 'id': '4637', 'org_name': 'Telstra International Limited', 'as_name': 'ASN-TELSTRA-GLOBAL'}, 'CONNECTS_201511060800', {'country': 'AU', 'upstream': '2', 'downstream': '225', 'rank': '61', 'id': '1221', 'org_name': 'Telstra Corporation Limited', 'as_name': 'ASN-TELSTRA'}, 'CONNECTS_201511060800', {'country': 'AU', 'upstream': '3', 'downstream': '194', 'rank': '3032', 'id': '4608', 'org_name': 'Asia Pacific Network Information Centre', 'as_name': 'APNIC-SERVICES'}], 'change_detected': True}, {'path_t1': [{'id': '28625'}, 'CONNECTS_201511060000', {'country': 'US', 'id': '12989', 'org_name': 'StackPath LLC', 'as_name': 'StackPath'}, 'CONNECTS_201511060000', {'country': 'AU', 'upstream': '10', 'downstream': '445', 'rank': '551', 'id': '4637', 'org_name': 'Telstra International Limited', 'as_name': 'ASN-TELSTRA-GLOBAL'}, 'CONNECTS_201511060000', {'country': 'AU', 'upstream': '2', 'downstream': '225', 'rank': '61', 'id': '1221', 'org_name': 'Telstra Corporation Limited', 'as_name': 'ASN-TELSTRA'}, 'CONNECTS_201511060000', {'country': 'AU', 'upstream': '3', 'downstream': '194', 'rank': '3032', 'id': '4608', 'org_name': 'Asia Pacific Network Information Centre', 'as_name': 'APNIC-SERVICES'}], 'path_t2': [{'id': '28625'}, 'CONNECTS_201511060800', {'country': 'US', 'id': '12989', 'org_name': 'StackPath LLC', 'as_name': 'StackPath'}, 'CONNECTS_201511060800', {'upstream': '8', 'downstream': '539', 'rank': '2276', 'id': '6762', 'as_name': 'SEABONE-NET'}, 'CONNECTS_201511060800', {'country': 'US', 'upstream': '17', 'city': 'Washington', 'downstream': '3905', 'rank': '19', 'id': '174', 'state': 'DC', 'org_name': 'Cogent Communications', 'as_name': 'COGENT-174'}, 'CONNECTS_201511060800', {'country': 'US', 'upstream': '25', 'city': 'Monroe', 'downstream': '5283', 'rank': '15', 'id': '3356', 'state': 'LA', 'org_name': 'Level 3 Parent, LLC', 'as_name': 'LEVEL3'}, 'CONNECTS_201511060800', {'country': 'AU', 'upstream': '10', 'downstream': '445', 'rank': '551', 'id': '4637', 'org_name': 'Telstra International Limited', 'as_name': 'ASN-TELSTRA-GLOBAL'}, 'CONNECTS_201511060800', {'country': 'AU', 'upstream': '2', 'downstream': '225', 'rank': '61', 'id': '1221', 'org_name': 'Telstra Corporation Limited', 'as_name': 'ASN-TELSTRA'}, 'CONNECTS_201511060800', {'country': 'AU', 'upstream': '3', 'downstream': '194', 'rank': '3032', 'id': '4608', 'org_name': 'Asia Pacific Network Information Centre', 'as_name': 'APNIC-SERVICES'}], 'change_detected': True}, {'path_t1': [{'id': '28625'}, 'CONNECTS_201511060000', {'country': 'US', 'id': '12989', 'org_name': 'StackPath LLC', 'as_name': 'StackPath'}, 'CONNECTS_201511060000', {'country': 'AU', 'upstream': '10', 'downstream': '445', 'rank': '551', 'id': '4637', 'org_name': 'Telstra International Limited', 'as_name': 'ASN-TELSTRA-GLOBAL'}, 'CONNECTS_201511060000', {'country': 'AU', 'upstream': '2', 'downstream': '225', 'rank': '61', 'id': '1221', 'org_name': 'Telstra Corporation Limited', 'as_name': 'ASN-TELSTRA'}, 'CONNECTS_201511060000', {'country': 'AU', 'upstream': '3', 'downstream': '194', 'rank': '3032', 'id': '4608', 'org_name': 'Asia Pacific Network Information Centre', 'as_name': 'APNIC-SERVICES'}], 'path_t2': [{'id': '28625'}, 'CONNECTS_201511060800', {'country': 'US', 'id': '12989', 'org_name': 'StackPath LLC', 'as_name': 'StackPath'}, 'CONNECTS_201511060800', {'upstream': '8', 'downstream': '539', 'rank': '2276', 'id': '6762', 'as_name': 'SEABONE-NET'}, 'CONNECTS_201511060800', {'country': 'US', 'upstream': '17', 'city': 'Washington', 'downstream': '3905', 'rank': '19', 'id': '174', 'state': 'DC', 'org_name': 'Cogent Communications', 'as_name': 'COGENT-174'}, 'CONNECTS_201511060800', {'country': 'AU', 'upstream': '10', 'downstream': '445', 'rank': '551', 'id': '4637', 'org_name': 'Telstra International Limited', 'as_name': 'ASN-TELSTRA-GLOBAL'}, 'CONNECTS_201511060800', {'country': 'AU', 'upstream': '2', 'downstream': '225', 'rank': '61', 'id': '1221', 'org_name': 'Telstra Corporation Limited', 'as_name': 'ASN-TELSTRA'}, 'CONNECTS_201511060800', {'country': 'AU', 'upstream': '3', 'downstream': '194', 'rank': '3032', 'id': '4608', 'org_name': 'Asia Pacific Network Information Centre', 'as_name': 'APNIC-SERVICES'}], 'change_detected': True}, {'path_t1': [{'id': '28625'}, 'CONNECTS_201511060000', {'country': 'US', 'id': '12989', 'org_name': 'StackPath LLC', 'as_name': 'StackPath'}, 'CONNECTS_201511060000', {'country': 'AU', 'upstream': '10', 'downstream': '445', 'rank': '551', 'id': '4637', 'org_name': 'Telstra International Limited', 'as_name': 'ASN-TELSTRA-GLOBAL'}, 'CONNECTS_201511060000', {'country': 'AU', 'upstream': '2', 'downstream': '225', 'rank': '61', 'id': '1221', 'org_name': 'Telstra Corporation Limited', 'as_name': 'ASN-TELSTRA'}, 'CONNECTS_201511060000', {'country': 'AU', 'upstream': '3', 'downstream': '194', 'rank': '3032', 'id': '4608', 'org_name': 'Asia Pacific Network Information Centre', 'as_name': 'APNIC-SERVICES'}], 'path_t2': [{'id': '28625'}, 'CONNECTS_201511060800', {'country': 'US', 'id': '12989', 'org_name': 'StackPath LLC', 'as_name': 'StackPath'}, 'CONNECTS_201511060800', {'id': '12956'}, 'CONNECTS_201511060800', {'country': 'US', 'upstream': '25', 'city': 'Monroe', 'downstream': '5283', 'rank': '15', 'id': '3356', 'state': 'LA', 'org_name': 'Level 3 Parent, LLC', 'as_name': 'LEVEL3'}, 'CONNECTS_201511060800', {'country': 'AU', 'upstream': '10', 'downstream': '445', 'rank': '551', 'id': '4637', 'org_name': 'Telstra International Limited', 'as_name': 'ASN-TELSTRA-GLOBAL'}, 'CONNECTS_201511060800', {'country': 'AU', 'upstream': '2', 'downstream': '225', 'rank': '61', 'id': '1221', 'org_name': 'Telstra Corporation Limited', 'as_name': 'ASN-TELSTRA'}, 'CONNECTS_201511060800', {'country': 'AU', 'upstream': '3', 'downstream': '194', 'rank': '3032', 'id': '4608', 'org_name': 'Asia Pacific Network Information Centre', 'as_name': 'APNIC-SERVICES'}], 'change_detected': True}, {'path_t1': [{'id': '28625'}, 'CONNECTS_201511060000', {'country': 'US', 'id': '12989', 'org_name': 'StackPath LLC', 'as_name': 'StackPath'}, 'CONNECTS_201511060000', {'country': 'AU', 'upstream': '10', 'downstream': '445', 'rank': '551', 'id': '4637', 'org_name': 'Telstra International Limited', 'as_name': 'ASN-TELSTRA-GLOBAL'}, 'CONNECTS_201511060000', {'country': 'AU', 'upstream': '2', 'downstream': '225', 'rank': '61', 'id': '1221', 'org_name': 'Telstra Corporation Limited', 'as_name': 'ASN-TELSTRA'}, 'CONNECTS_201511060000', {'country': 'AU', 'upstream': '3', 'downstream': '194', 'rank': '3032', 'id': '4608', 'org_name': 'Asia Pacific Network Information Centre', 'as_name': 'APNIC-SERVICES'}], 'path_t2': [{'id': '28625'}, 'CONNECTS_201511060800', {'id': '262589'}, 'CONNECTS_201511060800', {'upstream': '8', 'downstream': '539', 'rank': '2276', 'id': '6762', 'as_name': 'SEABONE-NET'}, 'CONNECTS_201511060800', {'country': 'US', 'upstream': '25', 'city': 'Monroe', 'downstream': '5283', 'rank': '15', 'id': '3356', 'state': 'LA', 'org_name': 'Level 3 Parent, LLC', 'as_name': 'LEVEL3'}, 'CONNECTS_201511060800', {'country': 'AU', 'upstream': '10', 'downstream': '445', 'rank': '551', 'id': '4637', 'org_name': 'Telstra International Limited', 'as_name': 'ASN-TELSTRA-GLOBAL'}, 'CONNECTS_201511060800', {'country': 'AU', 'upstream': '2', 'downstream': '225', 'rank': '61', 'id': '1221', 'org_name': 'Telstra Corporation Limited', 'as_name': 'ASN-TELSTRA'}, 'CONNECTS_201511060800', {'country': 'AU', 'upstream': '3', 'downstream': '194', 'rank': '3032', 'id': '4608', 'org_name': 'Asia Pacific Network Information Centre', 'as_name': 'APNIC-SERVICES'}], 'change_detected': True}, {'path_t1': [{'id': '28625'}, 'CONNECTS_201511060000', {'country': 'US', 'id': '12989', 'org_name': 'StackPath LLC', 'as_name': 'StackPath'}, 'CONNECTS_201511060000', {'country': 'AU', 'upstream': '10', 'downstream': '445', 'rank': '551', 'id': '4637', 'org_name': 'Telstra International Limited', 'as_name': 'ASN-TELSTRA-GLOBAL'}, 'CONNECTS_201511060000', {'country': 'AU', 'upstream': '2', 'downstream': '225', 'rank': '61', 'id': '1221', 'org_name': 'Telstra Corporation Limited', 'as_name': 'ASN-TELSTRA'}, 'CONNECTS_201511060000', {'country': 'AU', 'upstream': '3', 'downstream': '194', 'rank': '3032', 'id': '4608', 'org_name': 'Asia Pacific Network Information Centre', 'as_name': 'APNIC-SERVICES'}], 'path_t2': [{'id': '28625'}, 'CONNECTS_201511060800', {'id': '262589'}, 'CONNECTS_201511060800', {'upstream': '8', 'downstream': '539', 'rank': '2276', 'id': '6762', 'as_name': 'SEABONE-NET'}, 'CONNECTS_201511060800', {'country': 'AU', 'upstream': '10', 'downstream': '445', 'rank': '551', 'id': '4637', 'org_name': 'Telstra International Limited', 'as_name': 'ASN-TELSTRA-GLOBAL'}, 'CONNECTS_201511060800', {'country': 'AU', 'upstream': '2', 'downstream': '225', 'rank': '61', 'id': '1221', 'org_name': 'Telstra Corporation Limited', 'as_name': 'ASN-TELSTRA'}, 'CONNECTS_201511060800', {'country': 'AU', 'upstream': '3', 'downstream': '194', 'rank': '3032', 'id': '4608', 'org_name': 'Asia Pacific Network Information Centre', 'as_name': 'APNIC-SERVICES'}], 'change_detected': True}, {'path_t1': [{'id': '28625'}, 'CONNECTS_201511060000', {'country': 'US', 'id': '12989', 'org_name': 'StackPath LLC', 'as_name': 'StackPath'}, 'CONNECTS_201511060000', {'country': 'AU', 'upstream': '10', 'downstream': '445', 'rank': '551', 'id': '4637', 'org_name': 'Telstra International Limited', 'as_name': 'ASN-TELSTRA-GLOBAL'}, 'CONNECTS_201511060000', {'country': 'AU', 'upstream': '2', 'downstream': '225', 'rank': '61', 'id': '1221', 'org_name': 'Telstra Corporation Limited', 'as_name': 'ASN-TELSTRA'}, 'CONNECTS_201511060000', {'country': 'AU', 'upstream': '3', 'downstream': '194', 'rank': '3032', 'id': '4608', 'org_name': 'Asia Pacific Network Information Centre', 'as_name': 'APNIC-SERVICES'}], 'path_t2': [{'id': '28625'}, 'CONNECTS_201511060800', {'id': '262589'}, 'CONNECTS_201511060800', {'upstream': '8', 'downstream': '539', 'rank': '2276', 'id': '6762', 'as_name': 'SEABONE-NET'}, 'CONNECTS_201511060800', {'country': 'US', 'upstream': '17', 'city': 'Washington', 'downstream': '3905', 'rank': '19', 'id': '174', 'state': 'DC', 'org_name': 'Cogent Communications', 'as_name': 'COGENT-174'}, 'CONNECTS_201511060800', {'country': 'US', 'upstream': '25', 'city': 'Monroe', 'downstream': '5283', 'rank': '15', 'id': '3356', 'state': 'LA', 'org_name': 'Level 3 Parent, LLC', 'as_name': 'LEVEL3'}, 'CONNECTS_201511060800', {'country': 'AU', 'upstream': '10', 'downstream': '445', 'rank': '551', 'id': '4637', 'org_name': 'Telstra International Limited', 'as_name': 'ASN-TELSTRA-GLOBAL'}, 'CONNECTS_201511060800', {'country': 'AU', 'upstream': '2', 'downstream': '225', 'rank': '61', 'id': '1221', 'org_name': 'Telstra Corporation Limited', 'as_name': 'ASN-TELSTRA'}, 'CONNECTS_201511060800', {'country': 'AU', 'upstream': '3', 'downstream': '194', 'rank': '3032', 'id': '4608', 'org_name': 'Asia Pacific Network Information Centre', 'as_name': 'APNIC-SERVICES'}], 'change_detected': True}, {'path_t1': [{'id': '28625'}, 'CONNECTS_201511060000', {'country': 'US', 'id': '12989', 'org_name': 'StackPath LLC', 'as_name': 'StackPath'}, 'CONNECTS_201511060000', {'country': 'AU', 'upstream': '10', 'downstream': '445', 'rank': '551', 'id': '4637', 'org_name': 'Telstra International Limited', 'as_name': 'ASN-TELSTRA-GLOBAL'}, 'CONNECTS_201511060000', {'country': 'AU', 'upstream': '2', 'downstream': '225', 'rank': '61', 'id': '1221', 'org_name': 'Telstra Corporation Limited', 'as_name': 'ASN-TELSTRA'}, 'CONNECTS_201511060000', {'country': 'AU', 'upstream': '3', 'downstream': '194', 'rank': '3032', 'id': '4608', 'org_name': 'Asia Pacific Network Information Centre', 'as_name': 'APNIC-SERVICES'}], 'path_t2': [{'id': '28625'}, 'CONNECTS_201511060800', {'id': '262589'}, 'CONNECTS_201511060800', {'upstream': '8', 'downstream': '539', 'rank': '2276', 'id': '6762', 'as_name': 'SEABONE-NET'}, 'CONNECTS_201511060800', {'country': 'US', 'upstream': '17', 'city': 'Washington', 'downstream': '3905', 'rank': '19', 'id': '174', 'state': 'DC', 'org_name': 'Cogent Communications', 'as_name': 'COGENT-174'}, 'CONNECTS_201511060800', {'country': 'AU', 'upstream': '10', 'downstream': '445', 'rank': '551', 'id': '4637', 'org_name': 'Telstra International Limited', 'as_name': 'ASN-TELSTRA-GLOBAL'}, 'CONNECTS_201511060800', {'country': 'AU', 'upstream': '2', 'downstream': '225', 'rank': '61', 'id': '1221', 'org_name': 'Telstra Corporation Limited', 'as_name': 'ASN-TELSTRA'}, 'CONNECTS_201511060800', {'country': 'AU', 'upstream': '3', 'downstream': '194', 'rank': '3032', 'id': '4608', 'org_name': 'Asia Pacific Network Information Centre', 'as_name': 'APNIC-SERVICES'}], 'change_detected': True}]\n",
            "\n",
            "\n",
            "At time t1, the path between node 28625 and 4608 goes through the following node sequence: 12989 - 4637 - 1221. At time t2, there are multiple paths detected with different node sequences, as follow:\n",
            "\n",
            "Path 1: 12989 - 4637 - 1221\n",
            "\n",
            "Path 2: 12989 - 6762 - 3356 - 4637 - 1221\n",
            "\n",
            "Path 3: 12989 - 6762 - 174 - 3356 - 4637 - 1221\n",
            "\n",
            "Path 4: 12989 - 12956 - 3356 - 4637 - 1221\n",
            "\n",
            "Path 5: 12989 - 262589 - 6762 - 3356 - 4637 - 1221\n",
            "\n",
            "Path 6: 12989 - 262589 - 6762 - 174 - 4637 - 1221\n",
            "\n",
            "Yes, there have been several changes in the paths between the two timestamps. The path has become more complex at time t2 compared to time t1, possibly indicating changes in the routes between node 28625 and 4608. Significant changes are the inclusion of new nodes 6762, 174, 3356, 12956, and 262589 in the paths at time t2 compared to time t1.\n"
          ]
        }
      ],
      "source": [
        "question = \"\"\"\n",
        "Consider all nodes of node type Node_201511060000 and relationship as CONNECTS_201511060000 as graph at time t1.\n",
        "Consider all nodes of node type Node_201511060800 and relationship as CONNECTS_201511060800 as graph at time t2.\n",
        "Between t1 and t2, have the paths from node 28625 to node 4608 changed? If so, how did it change?\n",
        "\"\"\"\n",
        "question = refine_prompt(question)[\"updated_user_prompt\"]\n",
        "print(\"Refined user input:\", question)\n",
        "print(\"-----\")\n",
        "response = lang_chain_custom(question,driver,model='gpt-4')\n",
        "print(response)"
      ]
    },
    {
      "cell_type": "code",
      "source": [
        "question = \"\"\"\n",
        "Consider all nodes of node type Node_201511060000 and relationship as CONNECTS_201511060000 as graph at time t1.\n",
        "Consider all nodes of node type Node_201511060800 and relationship as CONNECTS_201511060800 as graph at time t2.\n",
        "Between t1 and t2, have the paths from node 204016 to node 48479 changed? If so, how did it change?\n",
        "\"\"\"\n",
        "question = refine_prompt(question)[\"updated_user_prompt\"]\n",
        "print(\"Refined user input:\", question)\n",
        "print(\"-----\")\n",
        "response = lang_chain_custom(question,driver,model='gpt-4')\n",
        "print(response)"
      ],
      "metadata": {
        "colab": {
          "base_uri": "https://localhost:8080/"
        },
        "id": "SBG47FLKJBX5",
        "outputId": "cd228648-3d15-4551-d626-11235ce1d5c2"
      },
      "id": "SBG47FLKJBX5",
      "execution_count": null,
      "outputs": [
        {
          "output_type": "stream",
          "name": "stdout",
          "text": [
            "Refined user input: Find the changes in the paths from node 204016 to 48479 in the graph with nodes of type Node_201511060000 and relationship CONNECTS_201511060000 at time t1 and nodes of type Node_201511060800 and relationship CONNECTS_201511060800 at time t2.\n",
            "-----\n",
            "Cypher Query is MATCH path_t1 = (n1:Node_201511060000{ id: '204016' })-[:CONNECTS_201511060000*]->(n2:Node_201511060000{ id: '48479' })\n",
            "MATCH path_t2 = (n3:Node_201511060800{ id: '204016' })-[:CONNECTS_201511060800*]->(n4:Node_201511060800{ id: '48479' })\n",
            "RETURN path_t1 as path_at_t1, path_t2 as path_at_t2\n",
            "\n",
            "\n",
            "Neo4j answer is [{'path_at_t1': [{'country': 'AZ', 'upstream': '1', 'downstream': '0', 'rank': '69109', 'id': '204016', 'org_name': 'International Bank of Azerbaijan OJSC', 'as_name': 'ABBBank'}, 'CONNECTS_201511060000', {'country': 'RU', 'upstream': '2', 'downstream': '0', 'rank': '23135', 'id': '49478', 'org_name': 'Provodov.net Ltd.', 'as_name': 'PROVODOV_NET-AS'}, 'CONNECTS_201511060000', {'country': 'RU', 'upstream': '4', 'downstream': '7', 'rank': '13250', 'id': '48479', 'org_name': 'KUBAN-TELECOM Ltd.', 'as_name': 'KUBAN-TELECOM-AS'}], 'path_at_t2': [{'country': 'AZ', 'upstream': '1', 'downstream': '0', 'rank': '69109', 'id': '204016', 'org_name': 'International Bank of Azerbaijan OJSC', 'as_name': 'ABBBank'}, 'CONNECTS_201511060800', {'country': 'RU', 'upstream': '2', 'downstream': '0', 'rank': '23135', 'id': '49478', 'org_name': 'Provodov.net Ltd.', 'as_name': 'PROVODOV_NET-AS'}, 'CONNECTS_201511060800', {'country': 'RU', 'upstream': '4', 'downstream': '7', 'rank': '13250', 'id': '48479', 'org_name': 'KUBAN-TELECOM Ltd.', 'as_name': 'KUBAN-TELECOM-AS'}]}]\n",
            "\n",
            "\n",
            "Both at time t1 and t2, the paths from node 204016 to node 48479 remain the same. The path is directly through node 49478 in both cases. There are no changes in the paths during the given time frames.\n"
          ]
        }
      ]
    },
    {
      "cell_type": "code",
      "source": [
        "question = \"\"\"\n",
        "Consider all nodes of node type Node_201511060000 and relationship as CONNECTS_201511060000 as graph at time t1.\n",
        "Consider all nodes of node type Node_201511060800 and relationship as CONNECTS_201511060800 as graph at time t2.\n",
        "Between t1 and t2, have the shortest paths from node 28625 to node 2497 changed? If so, how did it change?\n",
        "\"\"\"\n",
        "question = refine_prompt(question)[\"updated_user_prompt\"]\n",
        "print(\"Refined user input:\", question)\n",
        "print(\"-----\")\n",
        "response = lang_chain_custom(question,driver,model='gpt-4')\n",
        "print(response)"
      ],
      "metadata": {
        "colab": {
          "base_uri": "https://localhost:8080/"
        },
        "id": "6KExb0j0YJ7a",
        "outputId": "9e8764bf-1d6a-4c3e-8c39-b220b739b90c"
      },
      "id": "6KExb0j0YJ7a",
      "execution_count": null,
      "outputs": [
        {
          "output_type": "stream",
          "name": "stdout",
          "text": [
            "Refined user input: Find the shortest paths from node 28625 to node 2497 in the graph with Node_201511060000 and CONNECTS_201511060000 relationship elements at t1, and Node_201511060800 and CONNECTS_201511060800 relationship elements at t2. Determine if the shortest path between node 28625 and node 2497 has changed between t1 and t2, and how it has changed if so.\n",
            "-----\n",
            "Cypher Query is MATCH p1=shortestPath((a:Node_201511060000 {id:\"28625\"})-[:CONNECTS_201511060000*]-(b:Node_201511060000 {id: \"2497\"}))\n",
            "MATCH p2=shortestPath((c:Node_201511060800 {id:\"28625\"})-[:CONNECTS_201511060800*]-(d:Node_201511060800 {id: \"2497\"}))\n",
            "RETURN p1, p2, LENGTH(p1) = LENGTH(p2) as pathLengthUnchanged, CASE WHEN LENGTH(p1) = LENGTH(p2) THEN NULL ELSE LENGTH(p2) - LENGTH(p1) END as pathLengthDifference\n",
            "\n",
            "\n",
            "Neo4j answer is [{'p1': [{'id': '28625'}, 'CONNECTS_201511060000', {'country': 'US', 'upstream': '1', 'city': 'Ashburn', 'downstream': '0', 'rank': '58258', 'id': '23148', 'state': 'VA', 'org_name': 'Verizon Business', 'as_name': 'TERRENAP'}, 'CONNECTS_201511060000', {'country': 'FR', 'upstream': '2', 'downstream': '5', 'rank': '7639', 'id': '29608', 'org_name': 'Absolight SARL', 'as_name': 'WAN2MANY-AS'}, 'CONNECTS_201511060000', {'country': 'US', 'upstream': '25', 'city': 'Monroe', 'downstream': '5283', 'rank': '15', 'id': '3356', 'state': 'LA', 'org_name': 'Level 3 Parent, LLC', 'as_name': 'LEVEL3'}, 'CONNECTS_201511060000', {'country': 'JP', 'upstream': '4', 'downstream': '173', 'rank': '169', 'id': '2497', 'as_name': 'IIJ'}], 'p2': [{'id': '28625'}, 'CONNECTS_201511060800', {'country': 'US', 'upstream': '1', 'city': 'Ashburn', 'downstream': '0', 'rank': '58258', 'id': '23148', 'state': 'VA', 'org_name': 'Verizon Business', 'as_name': 'TERRENAP'}, 'CONNECTS_201511060800', {'country': 'FR', 'upstream': '2', 'downstream': '5', 'rank': '7639', 'id': '29608', 'org_name': 'Absolight SARL', 'as_name': 'WAN2MANY-AS'}, 'CONNECTS_201511060800', {'upstream': '7', 'downstream': '597', 'rank': '850', 'id': '20485', 'as_name': 'TRANSTELECOM'}, 'CONNECTS_201511060800', {'country': 'JP', 'upstream': '4', 'downstream': '173', 'rank': '169', 'id': '2497', 'as_name': 'IIJ'}], 'pathLengthUnchanged': True, 'pathLengthDifference': None}]\n",
            "\n",
            "\n",
            "The shortest path from node 28625 to node 2497 at t1, with Node_201511060000 and CONNECTS_201511060000 relationship elements, goes through nodes 23148 in Ashburn, US, 29608 in France, and 3356 in Monroe, US.\n",
            "\n",
            "At t2, with Node_201511060800 and CONNECTS_201511060800 relationship elements, the shortest path goes through nodes 23148 in Ashburn, US, 29608 in France, and 20485.\n",
            "\n",
            "The shortest path length from node 28625 to node 2497 remains unchanged between t1 and t2. However, the path has altered, as node 3356 in Monroe, US, replaced by node 20485 at t2.\n"
          ]
        }
      ]
    },
    {
      "cell_type": "code",
      "source": [
        "question = \"\"\"\n",
        "Consider all nodes of node type Node_201511060000 and relationship as CONNECTS_201511060000 as graph at time t1.\n",
        "Consider all nodes of node type Node_201511060800 and relationship as CONNECTS_201511060800 as graph at time t2.\n",
        "Between t1 and t2, have the shortest paths from node 31133 to node 4777 changed? If so, how did it change?\n",
        "\"\"\"\n",
        "question = refine_prompt(question)[\"updated_user_prompt\"]\n",
        "print(\"Refined user input:\", question)\n",
        "print(\"-----\")\n",
        "response = lang_chain_custom(question,driver,model='gpt-4')\n",
        "print(response)"
      ],
      "metadata": {
        "colab": {
          "base_uri": "https://localhost:8080/"
        },
        "id": "cu1Cn9FE-U5u",
        "outputId": "d2d73cb8-dbb9-4f53-813e-f5f8b0663a61"
      },
      "id": "cu1Cn9FE-U5u",
      "execution_count": null,
      "outputs": [
        {
          "output_type": "stream",
          "name": "stdout",
          "text": [
            "Refined user input: Find the shortest path from node 31133 to node 4777 of the graph with node type Node_201511060000 and relationship CONNECTS_201511060000 at time t1, and compare it to the shortest path from node 31133 to node 4777 of the graph with node type Node_201511060800 and relationship CONNECTS_201511060800 at time t2. Have the shortest paths changed between t1 and t2, and if\n",
            "-----\n",
            "Cypher Query is MATCH (a:Node_201511060000{id:\"31133\"}), (b:Node_201511060000{id:\"4777\"}), p=shortestPath((a)-[:CONNECTS_201511060000*..15]->(b))\n",
            "WITH p as path_t1\n",
            "MATCH (c:Node_201511060800{id:\"31133\"}), (d:Node_201511060800{id:\"4777\"}), p=shortestPath((c)-[:CONNECTS_201511060800*..15]->(d))\n",
            "WITH path_t1, p as path_t2\n",
            "RETURN path_t1, path_t2, CASE WHEN path_t1 = path_t2 THEN FALSE ELSE TRUE END AS hasChanged\n",
            "\n",
            "\n",
            "Neo4j answer is [{'path_t1': [{'upstream': '8', 'downstream': '459', 'rank': '468', 'id': '31133', 'as_name': 'MF-MGSM-AS'}, 'CONNECTS_201511060000', {'country': 'US', 'upstream': '25', 'city': 'Monroe', 'downstream': '5283', 'rank': '15', 'id': '3356', 'state': 'LA', 'org_name': 'Level 3 Parent, LLC', 'as_name': 'LEVEL3'}, 'CONNECTS_201511060000', {'country': 'JP', 'upstream': '4', 'downstream': '173', 'rank': '169', 'id': '2497', 'as_name': 'IIJ'}, 'CONNECTS_201511060000', {'country': 'AU', 'upstream': '3', 'downstream': '33', 'rank': '47303', 'id': '4777', 'org_name': 'Asia Pacific Network Information Centre', 'as_name': 'APNIC-COLO'}], 'path_t2': [{'upstream': '8', 'downstream': '459', 'rank': '468', 'id': '31133', 'as_name': 'MF-MGSM-AS'}, 'CONNECTS_201511060800', {'country': 'US', 'upstream': '17', 'city': 'Washington', 'downstream': '3905', 'rank': '19', 'id': '174', 'state': 'DC', 'org_name': 'Cogent Communications', 'as_name': 'COGENT-174'}, 'CONNECTS_201511060800', {'country': 'US', 'upstream': '18', 'city': 'Redmond', 'downstream': '1210', 'rank': '108', 'id': '2914', 'state': 'WA', 'org_name': 'NTT America, Inc.', 'as_name': 'NTT-LTD-2914'}, 'CONNECTS_201511060800', {'country': 'JP', 'upstream': '4', 'downstream': '173', 'rank': '169', 'id': '2497', 'as_name': 'IIJ'}, 'CONNECTS_201511060800', {'country': 'AU', 'upstream': '3', 'downstream': '33', 'rank': '47303', 'id': '4777', 'org_name': 'Asia Pacific Network Information Centre', 'as_name': 'APNIC-COLO'}], 'hasChanged': True}]\n",
            "\n",
            "\n",
            "Yes, the shortest paths from node 31133 to node 4777 have indeed changed between time t1 and t2. At t1, the path was 31133 → 3356 → 2497 → 4777, with nodes being in countries Russia, U.S., Japan, and Australia respectively. While at t2, the path changed to 31133 → 174 → 2914 → 2497 → 4777, representing a route through Russia, U.S., U.S., Japan, and Australia respectively. Hence, there were modifications in the path network.\n"
          ]
        }
      ]
    },
    {
      "cell_type": "markdown",
      "source": [
        "## Change in number of Paths"
      ],
      "metadata": {
        "id": "-FNTg-nC-mpl"
      },
      "id": "-FNTg-nC-mpl"
    },
    {
      "cell_type": "code",
      "source": [
        "question = \"\"\"\n",
        "Consider all nodes of node type Node_201511060000 and relationship as CONNECTS_201511060000 as graph at time t1.\n",
        "Consider all nodes of node type Node_201511060800 and relationship as CONNECTS_201511060800 as graph at time t2.\n",
        "Between t1 and t2, are there any change in number of paths from node 28625 to node 50300?\n",
        "\"\"\"\n",
        "question = refine_prompt(question)[\"updated_user_prompt\"]\n",
        "print(\"Refined user input:\", question)\n",
        "print(\"-----\")\n",
        "response = lang_chain_custom(question,driver,model='gpt-4')\n",
        "print(response)"
      ],
      "metadata": {
        "colab": {
          "base_uri": "https://localhost:8080/"
        },
        "id": "yu58WgTx-qHS",
        "outputId": "eb749647-09e2-467d-a4a9-f45299465b7a"
      },
      "id": "yu58WgTx-qHS",
      "execution_count": null,
      "outputs": [
        {
          "output_type": "stream",
          "name": "stdout",
          "text": [
            "Refined user input: Find the number of paths from node 28625 to node 50300 between graph t1 (defined by node type Node_201511060000 and relationship CONNECTS_201511060000) and graph t2 (defined by node type Node_201511060800 and relationship CONNECTS_201511060800) and compare the number of paths between the two graphs.\n",
            "-----\n",
            "Cypher Query is MATCH p1=(n1:Node_201511060000 {id: '28625'})-[:CONNECTS_201511060000*]->(m1:Node_201511060000 {id: '50300'})\n",
            "WITH count(p1) as t1_paths\n",
            "MATCH p2=(n2:Node_201511060800 {id: '28625'})-[:CONNECTS_201511060800*]->(m2:Node_201511060800 {id: '50300'})\n",
            "RETURN t1_paths as Total_Paths_in_T1, count(p2) as Total_Paths_in_T2\n",
            "\n",
            "\n",
            "Neo4j answer is [{'Total_Paths_in_T1': 9, 'Total_Paths_in_T2': 7}]\n",
            "\n",
            "\n",
            "In graph t1, defined by node type Node_201511060000 and relationship CONNECTS_201511060000, there are a total of 9 paths from node 28625 to node 50300. Meanwhile, in graph t2, defined by node type Node_201511060800 and relationship CONNECTS_201511060800, there are a total of 7 paths between the same nodes. Comparing the two, there are more paths present in graph t1 than in graph t2.\n"
          ]
        }
      ]
    },
    {
      "cell_type": "code",
      "source": [
        "question = \"\"\"\n",
        "Consider all nodes of node type Node_201511060000 and relationship as CONNECTS_201511060000 as graph at time t1.\n",
        "Consider all nodes of node type Node_201511060800 and relationship as CONNECTS_201511060800 as graph at time t2.\n",
        "Between t1 and t2, are there any change in number of paths from node 2906 to node 29608?\n",
        "\"\"\"\n",
        "question = refine_prompt(question)[\"updated_user_prompt\"]\n",
        "print(\"Refined user input:\", question)\n",
        "print(\"-----\")\n",
        "response = lang_chain_custom(question,driver,model='gpt-4')\n",
        "print(response)"
      ],
      "metadata": {
        "colab": {
          "base_uri": "https://localhost:8080/"
        },
        "id": "8tzfJXteCoA_",
        "outputId": "f8fac4b9-dd91-42d1-ebe6-8594fe1d79b0"
      },
      "id": "8tzfJXteCoA_",
      "execution_count": null,
      "outputs": [
        {
          "output_type": "stream",
          "name": "stdout",
          "text": [
            "Refined user input: Find the difference in the number of paths between nodes 2906 and 29608 from the graph at time t1 (with nodes of type Node_201511060000 and the relationship CONNECTS_201511060000) and the graph at time t2 (with nodes of type Node_201511060800 and the relationship CONNECTS_201511060800).\n",
            "-----\n",
            "Cypher Query is MATCH p1=(n1:Node_201511060000{id:'2906'})-[:CONNECTS_201511060000*]->(m1:Node_201511060000{id:'29608'}),\n",
            "      p2=(n2:Node_201511060800{id:'2906'})-[:CONNECTS_201511060800*]->(m2:Node_201511060800{id:'29608'})\n",
            "RETURN abs(size(p1) - size(p2)) AS DifferenceInPathCount\n",
            "\n",
            "\n",
            "Retrying\n",
            "Generated Cypher Statement is not valid\n",
            "{code: Neo.ClientError.Statement.SyntaxError} {message: Type mismatch: expected String or List<T> but was Path (line 3, column 17 (offset: 227))\n",
            "\"RETURN abs(size(p1) - size(p2)) AS DifferenceInPathCount\"\n",
            "                 ^}\n",
            "New Cypher Query is MATCH (n1:Node_201511060000{id:'2906'}), (m1:Node_201511060000{id:'29608'}),\n",
            "      (n2:Node_201511060800{id:'2906'}), (m2:Node_201511060800{id:'29608'})\n",
            "WITH n1, m1, n2, m2\n",
            "MATCH p1=shortestPath((n1)-[:CONNECTS_201511060000*]-(m1)),\n",
            "      p2=shortestPath((n2)-[:CONNECTS_201511060800*]-(m2))\n",
            "RETURN abs(length(p1) - length(p2)) AS DifferenceInPathCount\n",
            "\n",
            "\n",
            "Neo4j answer is [{'DifferenceInPathCount': 0}]\n",
            "\n",
            "\n",
            "The number of paths between nodes 2906 and 29608 at time t1 and t2 are the same.\n"
          ]
        }
      ]
    },
    {
      "cell_type": "code",
      "source": [
        "question = \"\"\"\n",
        "Consider all nodes of node type Node_201511060000 and relationship as CONNECTS_201511060000 as graph at time t1.\n",
        "Consider all nodes of node type Node_201511060800 and relationship as CONNECTS_201511060800 as graph at time t2.\n",
        "Between t1 and t2, are there any change in number of paths from node 2906 to node 29608?\n",
        "\"\"\"\n",
        "question = refine_prompt(question)[\"updated_user_prompt\"]\n",
        "print(\"Refined user input:\", question)\n",
        "print(\"-----\")\n",
        "response = lang_chain_custom(question,driver,model='gpt-4')\n",
        "print(response)"
      ],
      "metadata": {
        "colab": {
          "base_uri": "https://localhost:8080/"
        },
        "id": "JriumUfjEEDQ",
        "outputId": "3dd53990-e3d0-4f10-c09b-deaee08a30a4"
      },
      "id": "JriumUfjEEDQ",
      "execution_count": null,
      "outputs": [
        {
          "output_type": "stream",
          "name": "stdout",
          "text": [
            "Refined user input: Find out if there are any changes in the number of paths from node 2906 to node 29608 between graphs with node type Node_201511060000 and the relationship CONNECTS_201511060000 at time t1, and node type Node_201511060800 and the relationship CONNECTS_201511060800 at time t2.\n",
            "-----\n",
            "Cypher Query is MATCH p_t1=(n1:Node_201511060000{id:'2906'})-[:CONNECTS_201511060000*]->(n2:Node_201511060000{id:'29608'})\n",
            "RETURN count(p_t1) as Paths_t1\n",
            "\n",
            "MATCH p_t2=(n1:Node_201511060800{id:'2906'})-[:CONNECTS_201511060800*]->(n2:Node_201511060800{id:'29608'})\n",
            "RETURN count(p_t2) as Paths_t2\n",
            "\n",
            "\n",
            "Retrying\n",
            "Generated Cypher Statement is not valid\n",
            "{code: Neo.ClientError.Statement.SyntaxError} {message: RETURN can only be used at the end of the query (line 2, column 1 (offset: 107))\n",
            "\"RETURN count(p_t1) as Paths_t1\"\n",
            " ^}\n",
            "New Cypher Query is MATCH p_t1=(n1:Node_201511060000{id:'2906'})-[:CONNECTS_201511060000*]->(n2:Node_201511060000{id:'29608'})\n",
            "WITH count(p_t1) as Paths_t1\n",
            "MATCH p_t2=(n1:Node_201511060800{id:'2906'})-[:CONNECTS_201511060800*]->(n2:Node_201511060800{id:'29608'})\n",
            "RETURN Paths_t1, count(p_t2) as Paths_t2\n",
            "\n",
            "\n",
            "Neo4j answer is [{'Paths_t1': 4, 'Paths_t2': 6}]\n",
            "\n",
            "\n",
            "Yes, there are changes in the number of paths from node 2906 to node 29608 between the two times. At time t1, there were 4 paths, and at time t2, the number of paths increased to 6.\n"
          ]
        }
      ]
    },
    {
      "cell_type": "code",
      "source": [
        "question = \"\"\"\n",
        "Consider all nodes of node type Node_201511060000 and relationship as CONNECTS_201511060000 as graph at time t1.\n",
        "Consider all nodes of node type Node_201511060800 and relationship as CONNECTS_201511060800 as graph at time t2.\n",
        "Between t1 and t2, are there any change in number of paths from node 1251 to node 4844?\n",
        "\"\"\"\n",
        "question = refine_prompt(question)[\"updated_user_prompt\"]\n",
        "print(\"Refined user input:\", question)\n",
        "print(\"-----\")\n",
        "response = lang_chain_custom(question,driver,model='gpt-4')\n",
        "print(response)"
      ],
      "metadata": {
        "colab": {
          "base_uri": "https://localhost:8080/"
        },
        "id": "LuYOP4i5EgXu",
        "outputId": "c6f0d17e-978c-46fe-ab42-1fd9508596b5"
      },
      "id": "LuYOP4i5EgXu",
      "execution_count": null,
      "outputs": [
        {
          "output_type": "stream",
          "name": "stdout",
          "text": [
            "Refined user input: Find the number of paths from node 1251 to node 4844 with Node_201511060000 as source and CONNECTS_201511060000 as relationship type at time t1 and Node_201511060800 as source and CONNECTS_201511060800 as relationship type at time t2 and compare the number of paths between t1 and t2.\n",
            "-----\n",
            "Cypher Query is MATCH path_t1=(n1:Node_201511060000{id:'1251'})-[:CONNECTS_201511060000*]->(n2:Node_201511060000{id:'4844'})\n",
            "WITH count(path_t1) AS num_paths_t1\n",
            "MATCH path_t2=(n3:Node_201511060800{id:'1251'})-[:CONNECTS_201511060800*]->(n4:Node_201511060800{id:'4844'})\n",
            "RETURN num_paths_t1 AS number_of_paths_at_t1, count(path_t2) AS number_of_paths_at_t2\n",
            "\n",
            "\n",
            "Neo4j answer is [{'number_of_paths_at_t1': 6, 'number_of_paths_at_t2': 5}]\n",
            "\n",
            "\n",
            "At time t1, while taking Node_201511060000 as a source and CONNECTS_201511060000 as a relationship type, there were 6 paths from node 1251 to node 4844. However, at time t2, with Node_201511060800 as a source and CONNECTS_201511060800 as a relationship type, the number of paths reduced to 5.\n"
          ]
        }
      ]
    },
    {
      "cell_type": "code",
      "source": [
        "question = \"\"\"\n",
        "Consider all nodes of node type Node_201511060000 and relationship as CONNECTS_201511060000 as graph G1.\n",
        "Consider all nodes of node type Node_201511060800 and relationship as CONNECTS_201511060800 as graph G2.\n",
        "Between G1 and G2, are there any change in number of paths from node 1251 to node 4844?\n",
        "\"\"\"\n",
        "question = refine_prompt(question)[\"updated_user_prompt\"]\n",
        "print(\"Refined user input:\", question)\n",
        "print(\"-----\")\n",
        "response = lang_chain_custom(question,driver,model='gpt-4')\n",
        "print(response)"
      ],
      "metadata": {
        "colab": {
          "base_uri": "https://localhost:8080/"
        },
        "id": "mItLtgE5FC0f",
        "outputId": "c4df4b1f-6006-490e-9f17-0dcbe5326cac"
      },
      "id": "mItLtgE5FC0f",
      "execution_count": null,
      "outputs": [
        {
          "output_type": "stream",
          "name": "stdout",
          "text": [
            "Refined user input: Find the difference in the number of paths between graph G1, which consists of the nodes of type Node_201511060000 and the relationship CONNECTS_201511060000, and graph G2, which consists of the nodes of type Node_201511060800 and the relationship CONNECTS_201511060800, from node 1251 to node 4844.\n",
            "-----\n",
            "Cypher Query is MATCH path1 = (n1:Node_201511060000 {id: '1251'})-[:CONNECTS_201511060000*..]->(m1:Node_201511060000 {id: '4844'})\n",
            "WITH count(path1) as G1_paths\n",
            "MATCH path2 = (n2:Node_201511060800 {id: '1251'})-[:CONNECTS_201511060800*..]->(m2:Node_201511060800 {id: '4844'})\n",
            "RETURN G1_paths - count(path2) as path_diff\n",
            "\n",
            "\n",
            "Retrying\n",
            "Generated Cypher Statement is not valid\n",
            "{code: Neo.ClientError.Statement.SyntaxError} {message: Aggregation column contains implicit grouping expressions. For example, in 'RETURN n.a, n.a + n.b + count(*)' the aggregation expression 'n.a + n.b + count(*)' includes the implicit grouping key 'n.b'. It may be possible to rewrite the query by extracting these grouping/aggregation expressions into a preceding WITH clause. Illegal expression(s): G1_paths (line 4, column 8 (offset: 267))\n",
            "\"RETURN G1_paths - count(path2) as path_diff\"\n",
            "        ^}\n",
            "New Cypher Query is MATCH path1 = (n1:Node_201511060000 {id: '1251'})-[:CONNECTS_201511060000*..]->(m1:Node_201511060000 {id: '4844'})\n",
            "WITH count(path1) as G1_paths\n",
            "MATCH path2 = (n2:Node_201511060800 {id: '1251'})-[:CONNECTS_201511060800*..]->(m2:Node_201511060800 {id: '4844'})\n",
            "WITH G1_paths, count(path2) as G2_paths\n",
            "RETURN G1_paths - G2_paths AS path_diff\n",
            "\n",
            "\n",
            "Neo4j answer is [{'path_diff': 1}]\n",
            "\n",
            "\n",
            "The difference in the number of paths between graph G1 and G2, from node 1251 to node 4844, is 1.\n"
          ]
        }
      ]
    },
    {
      "cell_type": "markdown",
      "source": [
        "## Difference in Shortest and Current path"
      ],
      "metadata": {
        "id": "f1wy5aTqKX2B"
      },
      "id": "f1wy5aTqKX2B"
    },
    {
      "cell_type": "code",
      "source": [
        "question = \"\"\"\n",
        "If the current path from 1251 to 4844 is 1251-28625-12989-6762-3356-2914-4844 for node type Node_201511060000,\n",
        "is it differnt from the shortest path possible?\n",
        "\"\"\"\n",
        "question = refine_prompt(question)[\"updated_user_prompt\"]\n",
        "print(\"Refined user input:\", question)\n",
        "print(\"-----\")\n",
        "response = lang_chain_custom(question,driver,model='gpt-4')\n",
        "print(response)"
      ],
      "metadata": {
        "colab": {
          "base_uri": "https://localhost:8080/"
        },
        "id": "7cz2nRlDKV4z",
        "outputId": "97b6421d-128e-4ce6-9ae3-db58593992d9"
      },
      "id": "7cz2nRlDKV4z",
      "execution_count": null,
      "outputs": [
        {
          "output_type": "stream",
          "name": "stdout",
          "text": [
            "Refined user input: Find out if the current path from 1251 to 4844 (1251-28625-12989-6762-3356-2914-4844) for Node_201511060000 is different from the shortest path possible.\n",
            "-----\n",
            "Cypher Query is MATCH p=(n1:Node_201511060000 {id:\"1251\"})-[:CONNECTS_201511060000*]->(n2:Node_201511060000 {id: \"4844\"})\n",
            "WHERE ALL(node IN nodes(p) WHERE node.id IN [\"1251\",\"28625\",\"12989\",\"6762\",\"3356\",\"2914\",\"4844\"])\n",
            "WITH p, length(p) AS currentPathLength\n",
            "MATCH sp=shortestPath((n1:Node_201511060000 {id:\"1251\"})-[:CONNECTS_201511060000*]->(n2:Node_201511060000 {id:\"4844\"}))\n",
            "WITH sp, length(sp) AS shortestPathLength, currentPathLength\n",
            "RETURN CASE \n",
            "         WHEN shortestPathLength < currentPathLength THEN sp \n",
            "         ELSE p\n",
            "       END AS path, currentPathLength = shortestPathLength AS isPathShortest\n",
            "\n",
            "\n",
            "Retrying\n",
            "Generated Cypher Statement is not valid\n",
            "{code: Neo.ClientError.Statement.SyntaxError} {message: Variable `p` not defined (line 8, column 15 (offset: 513))\n",
            "\"         ELSE p\"\n",
            "               ^}\n",
            "New Cypher Query is MATCH p=(n1:Node_201511060000 {id:\"1251\"})-[:CONNECTS_201511060000*]->(n2:Node_201511060000 {id: \"4844\"})\n",
            "WHERE ALL(node IN nodes(p) WHERE node.id IN [\"1251\",\"28625\",\"12989\",\"6762\",\"3356\",\"2914\",\"4844\"])\n",
            "WITH length(p) AS currentPathLength\n",
            "MATCH sp=shortestPath((n1:Node_201511060000 {id:\"1251\"})-[:CONNECTS_201511060000*]->(n2:Node_201511060000 {id:\"4844\"}))\n",
            "WITH length(sp) AS shortestPathLength, currentPathLength\n",
            "RETURN currentPathLength = shortestPathLength AS isPathShortest\n",
            "\n",
            "\n",
            "Neo4j answer is [{'isPathShortest': False}, {'isPathShortest': False}]\n",
            "\n",
            "\n",
            "No, the current path from 1251 to 4844 (1251-28625-12989-6762-3356-2914-4844) for Node_201511060000 is not the shortest path possible.\n"
          ]
        }
      ]
    },
    {
      "cell_type": "code",
      "source": [
        "question = \"\"\"\n",
        "If the current path from 1251 to 4844 is 1251-28625-12989-6762-3356-2914-4844 for node type Node_201511060000,\n",
        "What is the shortest path possible and what is the difference?\n",
        "\"\"\"\n",
        "question = refine_prompt(question)[\"updated_user_prompt\"]\n",
        "print(\"Refined user input:\", question)\n",
        "print(\"-----\")\n",
        "response = lang_chain_custom(question,driver,model='gpt-4')\n",
        "print(response)"
      ],
      "metadata": {
        "colab": {
          "base_uri": "https://localhost:8080/"
        },
        "id": "5JgJIqowKWAm",
        "outputId": "50ccdb1c-40a0-4632-cb54-e2b04420f125"
      },
      "id": "5JgJIqowKWAm",
      "execution_count": null,
      "outputs": [
        {
          "output_type": "stream",
          "name": "stdout",
          "text": [
            "Refined user input: Find the shortest path possible from Node_201511060000 1251 to 4844, and determine the difference between this path and the current path: 1251-28625-12989-6762-3356-2914-4844.\n",
            "-----\n",
            "Cypher Query is MATCH (startNode:Node_201511060000 { id: '1251' }),(endNode:Node_201511060000 { id: '4844' }),\n",
            "path = shortestPath((startNode)-[:CONNECTS_201511060000*]-(endNode))\n",
            "RETURN path as ShortestPath, length(path) as ShortestPathLength\n",
            "\n",
            "MATCH currentPath=(s:Node_201511060000 {id:'1251'})-[:CONNECTS_201511060000*]->(n1:Node_201511060000 {id:'28625'})-[:CONNECTS_201511060000*]->(n2:Node_201511060000 {id:'12989'})-[:CONNECTS_201511060000*]->(n3:Node_201511060000 {id:'6762'})-[:CONNECTS_201511060000*]->(n4:Node_201511060000 {id:'3356'})-[:CONNECTS_201511060000*]->(n5:Node_201511060000 {id:'2914'})-[:CONNECTS_201511060000*]->(endNode:Node_201511060000 {id:'4844'})\n",
            "RETURN length(currentPath) as CurrentPathLength\n",
            "\n",
            "RETURN ShortestPathLength - CurrentPathLength as DifferenceInPathLength\n",
            "\n",
            "\n",
            "Retrying\n",
            "Generated Cypher Statement is not valid\n",
            "{code: Neo.ClientError.Statement.SyntaxError} {message: Variable `ShortestPathLength` not defined (line 8, column 8 (offset: 716))\n",
            "\"RETURN ShortestPathLength - CurrentPathLength as DifferenceInPathLength\"\n",
            "        ^}\n",
            "New Cypher Query is MATCH (startNode:Node_201511060000 { id: '1251' }),(endNode:Node_201511060000 { id: '4844' }),\n",
            "shortestPath = shortestPath((startNode)-[:CONNECTS_201511060000*]-(endNode))\n",
            "\n",
            "MATCH currentPath=(s:Node_201511060000 {id:'1251'})-[:CONNECTS_201511060000*]->(n1:Node_201511060000 {id:'28625'})-[:CONNECTS_201511060000*]->(n2:Node_201511060000 {id:'12989'})-[:CONNECTS_201511060000*]->(n3:Node_201511060000 {id:'6762'})-[:CONNECTS_201511060000*]->(n4:Node_201511060000 {id:'3356'})-[:CONNECTS_201511060000*]->(n5:Node_201511060000 {id:'2914'})-[:CONNECTS_201511060000*]->(endNode:Node_201511060000 {id:'4844'})\n",
            "\n",
            "WITH startNode, endNode, shortestPath, currentPath\n",
            "RETURN length(shortestPath) - length(currentPath) as DifferenceInPathLength\n",
            "\n",
            "\n",
            "Neo4j answer is [{'DifferenceInPathLength': -2}]\n",
            "\n",
            "\n",
            "The shortest path from Node_201511060000 1251 to 4844 is two hops shorter than the current path: 1251-28625-12989-6762-3356-2914-4844.\n"
          ]
        }
      ]
    },
    {
      "cell_type": "code",
      "source": [
        "question = \"\"\"\n",
        "If the current path from 28625 to 50300 is 28625-12989-6762-3356-2914-50300 for node type Node_201511060000,\n",
        "What is the shortest path possible and what is the difference?\n",
        "\"\"\"\n",
        "question = refine_prompt(question)[\"updated_user_prompt\"]\n",
        "print(\"Refined user input:\", question)\n",
        "print(\"-----\")\n",
        "response = lang_chain_custom(question,driver,model='gpt-4')\n",
        "print(response)"
      ],
      "metadata": {
        "colab": {
          "base_uri": "https://localhost:8080/"
        },
        "id": "ScpDplHvN1Bd",
        "outputId": "64e766fb-afdf-400e-ee22-e74aaecd321d"
      },
      "id": "ScpDplHvN1Bd",
      "execution_count": null,
      "outputs": [
        {
          "output_type": "stream",
          "name": "stdout",
          "text": [
            "Refined user input: Find the shortest path from Node_201511060000 at 28625 to 50300 and find the difference between the current path of 28625-12989-6762-3356-2914-50300 and the shortest path.\n",
            "-----\n",
            "Cypher Query is MATCH path=shortestPath((n1:Node_201511060000 {id: '28625'})-[:CONNECTS_201511060000*..10]->(n2:Node_201511060000 {id: '50300'}))\n",
            "WITH length(path) as shortestPathLength\n",
            "MATCH path2=(n3:Node_201511060000 {id: '28625'})-[:CONNECTS_201511060000]->(n4:Node_201511060000 {id: '12989'})\n",
            "-[:CONNECTS_201511060000]->(n5:Node_201511060000 {id: '6762'})\n",
            "-[:CONNECTS_201511060000]->(n6:Node_201511060000 {id: '3356'})\n",
            "-[:CONNECTS_201511060000]->(n7:Node_201511060000 {id: '2914'})\n",
            "-[:CONNECTS_201511060000]->(n8:Node_201511060000 {id: '50300'})\n",
            "RETURN length(path2) - shortestPathLength AS pathDifference\n",
            "\n",
            "\n",
            "Neo4j answer is [{'pathDifference': 3}]\n",
            "\n",
            "\n",
            "The difference between the current path and the shortest path from Node_201511060000 at 28625 to 50300 is 3.\n"
          ]
        }
      ]
    },
    {
      "cell_type": "markdown",
      "source": [
        "## Isolated nodes"
      ],
      "metadata": {
        "id": "sJDezt0Dv9bv"
      },
      "id": "sJDezt0Dv9bv"
    },
    {
      "cell_type": "code",
      "execution_count": 11,
      "id": "42e63fcd",
      "metadata": {
        "colab": {
          "base_uri": "https://localhost:8080/"
        },
        "id": "42e63fcd",
        "outputId": "ecb36d89-fc5a-4ed4-862a-03b35b5ef0bd"
      },
      "outputs": [
        {
          "output_type": "stream",
          "name": "stdout",
          "text": [
            "Refined user input: Find all isolated Node_201511060000 nodes in the network and list their names.\n",
            "-----\n",
            "Cypher Query is MATCH (n:Node_201511060000)\n",
            "WHERE NOT (n)-[:CONNECTS_201511060000]-()\n",
            "RETURN n.as_name AS IsolatedNodeNames\n",
            "\n",
            "\n",
            "Neo4j answer is []\n",
            "\n",
            "\n",
            "Whatever you asked in the question does not exist.\n"
          ]
        }
      ],
      "source": [
        "question = \"\"\"\n",
        "Are there any isolated nodes of type Node_201511060000 in the network? Can you name all?\n",
        "\"\"\"\n",
        "question = refine_prompt(question)[\"updated_user_prompt\"]\n",
        "print(\"Refined user input:\", question)\n",
        "print(\"-----\")\n",
        "response = lang_chain_custom(question,driver,model='gpt-4')\n",
        "print(response)"
      ]
    },
    {
      "cell_type": "code",
      "execution_count": 12,
      "id": "4de07301",
      "metadata": {
        "colab": {
          "base_uri": "https://localhost:8080/"
        },
        "id": "4de07301",
        "outputId": "3257d5f9-b396-4e10-a0fe-77aa6ef76222"
      },
      "outputs": [
        {
          "output_type": "stream",
          "name": "stdout",
          "text": [
            "Refined user input: Find the ids of any isolated nodes of type Node_201511060800 in the network.\n",
            "-----\n",
            "Cypher Query is MATCH (n:Node_201511060800)\n",
            "WHERE NOT (n)-[:CONNECTS_201511060800]-()\n",
            "RETURN n.id AS IsolatedNodeId\n",
            "\n",
            "\n",
            "Neo4j answer is []\n",
            "\n",
            "\n",
            "Whatever you asked in the question does not exist.\n"
          ]
        }
      ],
      "source": [
        "question = \"\"\"\n",
        "Are there any isolated nodes of type Node_201511060800 in the network? Can you mention their ids?\n",
        "\"\"\"\n",
        "question = refine_prompt(question)[\"updated_user_prompt\"]\n",
        "print(\"Refined user input:\", question)\n",
        "print(\"-----\")\n",
        "response = lang_chain_custom(question,driver,model='gpt-4')\n",
        "print(response)"
      ]
    },
    {
      "cell_type": "markdown",
      "source": [
        "## Indegree"
      ],
      "metadata": {
        "id": "DreLMHxzwAT5"
      },
      "id": "DreLMHxzwAT5"
    },
    {
      "cell_type": "code",
      "execution_count": null,
      "id": "19ae0b9c",
      "metadata": {
        "colab": {
          "base_uri": "https://localhost:8080/"
        },
        "id": "19ae0b9c",
        "outputId": "6e4a8fbe-ff42-4419-f6ff-85fb84591ddb"
      },
      "outputs": [
        {
          "output_type": "stream",
          "name": "stdout",
          "text": [
            "Refined user input: Find the in degree of node 22804 of Node_201511060000 connected by CONNECTS_201511060000 at time t1.\n",
            "-----\n",
            "Cypher Query is MATCH (n:Node_201511060000 {id: '22804'})<-[:CONNECTS_201511060000]-(connectedNode)\n",
            "RETURN count(connectedNode) as inDegreeT1\n",
            "\n",
            "\n",
            "Neo4j answer is [{'inDegreeT1': 0}]\n",
            "\n",
            "\n",
            "The in degree of node 22804 of Node_201511060000 connected by CONNECTS_201511060000 at time t1 is 0.\n"
          ]
        }
      ],
      "source": [
        "question = \"\"\"\n",
        "Consider all nodes of node type Node_201511060000 and relationship as CONNECTS_201511060000 as graph at time t1.\n",
        "What is the in degree of node 22804 at t1?\n",
        "\"\"\"\n",
        "question = refine_prompt(question)[\"updated_user_prompt\"]\n",
        "print(\"Refined user input:\", question)\n",
        "print(\"-----\")\n",
        "response = lang_chain_custom(question,driver,model='gpt-4')\n",
        "print(response)"
      ]
    },
    {
      "cell_type": "code",
      "source": [
        "question = \"\"\"\n",
        "Consider all nodes of node type Node_201511060800 and relationship as CONNECTS_201511060800 as graph at time t2.\n",
        "What is the in degree of node 22804 at t2?\n",
        "\"\"\"\n",
        "question = refine_prompt(question)[\"updated_user_prompt\"]\n",
        "print(\"Refined user input:\", question)\n",
        "print(\"-----\")\n",
        "response = lang_chain_custom(question,driver,model='gpt-4')\n",
        "print(response)"
      ],
      "metadata": {
        "colab": {
          "base_uri": "https://localhost:8080/"
        },
        "id": "GcW9SbGc5Tft",
        "outputId": "8c0a0d5c-d1b4-441f-a4f0-4abcb9b73a96"
      },
      "id": "GcW9SbGc5Tft",
      "execution_count": null,
      "outputs": [
        {
          "output_type": "stream",
          "name": "stdout",
          "text": [
            "Refined user input: Find the in degree of Node_201511060800 with id 22804 at time t2 using the CONNECTS_201511060800 relationship.\n",
            "-----\n",
            "Cypher Query is MATCH (n:Node_201511060800 {id:'22804'})<-[r:CONNECTS_201511060800]-()\n",
            "RETURN COUNT(r) AS in_degree\n",
            "\n",
            "\n",
            "Neo4j answer is [{'in_degree': 0}]\n",
            "\n",
            "\n",
            "The in degree of Node_201511060800 with id 22804 at time t2 using the CONNECTS_201511060800 relationship is 0.\n"
          ]
        }
      ]
    },
    {
      "cell_type": "code",
      "execution_count": null,
      "id": "b364eb0d",
      "metadata": {
        "colab": {
          "base_uri": "https://localhost:8080/"
        },
        "id": "b364eb0d",
        "outputId": "1ed49f84-1761-48eb-f9da-26985206d340"
      },
      "outputs": [
        {
          "output_type": "stream",
          "name": "stdout",
          "text": [
            "Refined user input: Find the in degree of Node_201511060000 with identifier 48479 at time t1, considering CONNECTS_201511060000 relationship in the graph.\n",
            "-----\n",
            "Cypher Query is MATCH (n:Node_201511060000)<-[:CONNECTS_201511060000]-(connectedNodes) WHERE n.id = '48479' \n",
            "RETURN COUNT(connectedNodes) AS InDegree_At_T1\n",
            "\n",
            "\n",
            "Neo4j answer is [{'InDegree_At_T1': 9}]\n",
            "\n",
            "\n",
            "The in-degree of Node_201511060000 with identifier 48479 at time t1, considering the CONNECTS_201511060000 relationship, is 9.\n"
          ]
        }
      ],
      "source": [
        "question = \"\"\"\n",
        "Consider all nodes of node type Node_201511060000 and relationship as CONNECTS_201511060000 as graph at time t1\n",
        "What is the in degree of node 48479 at t1?\n",
        "\"\"\"\n",
        "question = refine_prompt(question)[\"updated_user_prompt\"]\n",
        "print(\"Refined user input:\", question)\n",
        "print(\"-----\")\n",
        "response = lang_chain_custom(question,driver,model='gpt-4')\n",
        "print(response)"
      ]
    },
    {
      "cell_type": "code",
      "source": [
        "question = \"\"\"\n",
        "Consider all nodes of node type Node_201511060800 and relationship as CONNECTS_201511060800 as graph at time t2\n",
        "What is the in degree of node 48479 at t2?\n",
        "\"\"\"\n",
        "question = refine_prompt(question)[\"updated_user_prompt\"]\n",
        "print(\"Refined user input:\", question)\n",
        "print(\"-----\")\n",
        "response = lang_chain_custom(question,driver,model='gpt-4')\n",
        "print(response)"
      ],
      "metadata": {
        "colab": {
          "base_uri": "https://localhost:8080/"
        },
        "id": "9Ex9wdFK5fKi",
        "outputId": "5dea7e0f-5f2d-4ab2-b297-557f6ccbe0ea"
      },
      "id": "9Ex9wdFK5fKi",
      "execution_count": null,
      "outputs": [
        {
          "output_type": "stream",
          "name": "stdout",
          "text": [
            "Refined user input: Find the in degree of node 48479 of node type Node_201511060800 connected by relationship CONNECTS_201511060800 at time t2.\n",
            "-----\n",
            "Cypher Query is MATCH (n:Node_201511060800)<-[:CONNECTS_201511060800]-(m)\n",
            "WHERE n.id = '48479'\n",
            "RETURN COUNT(m) AS InDegree_T2\n",
            "\n",
            "\n",
            "Neo4j answer is [{'InDegree_T2': 10}]\n",
            "\n",
            "\n",
            "The in-degree of node 48479 of node type Node_201511060800 connected by relationship CONNECTS_201511060800 at time t2 is 10.\n"
          ]
        }
      ]
    },
    {
      "cell_type": "code",
      "source": [
        "question = \"\"\"\n",
        "Consider all nodes of node type Node_201511060000 and relationship as CONNECTS_201511060000 as graph at time t1\n",
        "What is the in degree of node 28625 at t1?\n",
        "\"\"\"\n",
        "question = refine_prompt(question)[\"updated_user_prompt\"]\n",
        "print(\"Refined user input:\", question)\n",
        "print(\"-----\")\n",
        "response = lang_chain_custom(question,driver,model='gpt-4')\n",
        "print(response)"
      ],
      "metadata": {
        "colab": {
          "base_uri": "https://localhost:8080/"
        },
        "id": "fVw68OHk5lHu",
        "outputId": "ddf8132d-487d-43d7-bab3-bdcd414671f3"
      },
      "id": "fVw68OHk5lHu",
      "execution_count": null,
      "outputs": [
        {
          "output_type": "stream",
          "name": "stdout",
          "text": [
            "Refined user input: Find the in-degree of node 28625 of type Node_201511060000 which has relation CONNECTS_201511060000 at time t1.\n",
            "-----\n",
            "Cypher Query is MATCH (n:Node_201511060000 {id: '28625'})<-[:CONNECTS_201511060000]-(m) \n",
            "RETURN COUNT(m) AS InDegree_T1\n",
            "\n",
            "\n",
            "Neo4j answer is [{'InDegree_T1': 16}]\n",
            "\n",
            "\n",
            "The in-degree of node 28625 of type Node_201511060000 which has relation CONNECTS_201511060000 at time t1 is 16.\n"
          ]
        }
      ]
    },
    {
      "cell_type": "code",
      "execution_count": null,
      "id": "22c94f35",
      "metadata": {
        "colab": {
          "base_uri": "https://localhost:8080/"
        },
        "id": "22c94f35",
        "outputId": "2efba6da-0686-47df-92c9-0a73202efbec"
      },
      "outputs": [
        {
          "output_type": "stream",
          "name": "stdout",
          "text": [
            "Refined user input: Find the in degree of Node_201511060800 with node ID of 28625 in the graph at time t2 using the CONNECTS_201511060800 relationship.\n",
            "-----\n",
            "Cypher Query is MATCH (n:Node_201511060800)<-[:CONNECTS_201511060800]-() WHERE n.id = '28625' RETURN COUNT(*) AS In_Degree_T2\n",
            "\n",
            "\n",
            "Neo4j answer is [{'In_Degree_T2': 16}]\n",
            "\n",
            "\n",
            "The in-degree of Node_201511060800 with node ID of 28625 in the graph at time t2 using the CONNECTS_201511060800 relationship is 16.\n"
          ]
        }
      ],
      "source": [
        "question = \"\"\"\n",
        "Consider all nodes of node type Node_201511060800 and relationship as CONNECTS_201511060800 as graph at time t2\n",
        "What is the in degree of node 28625 at t2?\n",
        "\"\"\"\n",
        "question = refine_prompt(question)[\"updated_user_prompt\"]\n",
        "print(\"Refined user input:\", question)\n",
        "print(\"-----\")\n",
        "response = lang_chain_custom(question,driver,model='gpt-4')\n",
        "print(response)"
      ]
    },
    {
      "cell_type": "markdown",
      "source": [
        "## Outdegree"
      ],
      "metadata": {
        "id": "k1WARzUM6xHv"
      },
      "id": "k1WARzUM6xHv"
    },
    {
      "cell_type": "code",
      "execution_count": null,
      "metadata": {
        "colab": {
          "base_uri": "https://localhost:8080/"
        },
        "outputId": "f4ef4a08-9e1d-4aac-b199-db5f1c3f0de3",
        "id": "4neSl7ac6xHx"
      },
      "outputs": [
        {
          "output_type": "stream",
          "name": "stdout",
          "text": [
            "Refined user input: Find the outdegree of node 22804 of type Node_201511060000 connected by relationship CONNECTS_201511060000 at time t1.\n",
            "-----\n",
            "Cypher Query is MATCH (n:Node_201511060000 {id: '22804'})-[r:CONNECTS_201511060000]->() \n",
            "RETURN COUNT(r) AS Outdegree_t1\n",
            "\n",
            "\n",
            "Neo4j answer is [{'Outdegree_t1': 1}]\n",
            "\n",
            "\n",
            "The outdegree of node 22804 of type Node_201511060000 connected by relationship CONNECTS_201511060000 at time t1 is 1.\n"
          ]
        }
      ],
      "source": [
        "question = \"\"\"\n",
        "Consider all nodes of node type Node_201511060000 and relationship as CONNECTS_201511060000 as graph at time t1.\n",
        "What is the outdegree of node 22804 at t1?\n",
        "\"\"\"\n",
        "question = refine_prompt(question)[\"updated_user_prompt\"]\n",
        "print(\"Refined user input:\", question)\n",
        "print(\"-----\")\n",
        "response = lang_chain_custom(question,driver,model='gpt-4')\n",
        "print(response)"
      ],
      "id": "4neSl7ac6xHx"
    },
    {
      "cell_type": "code",
      "source": [
        "question = \"\"\"\n",
        "Consider all nodes of node type Node_201511060800 and relationship as CONNECTS_201511060800 as graph at time t2.\n",
        "What is the outdegree of node 22804 at t2?\n",
        "\"\"\"\n",
        "question = refine_prompt(question)[\"updated_user_prompt\"]\n",
        "print(\"Refined user input:\", question)\n",
        "print(\"-----\")\n",
        "response = lang_chain_custom(question,driver,model='gpt-4')\n",
        "print(response)"
      ],
      "metadata": {
        "colab": {
          "base_uri": "https://localhost:8080/"
        },
        "outputId": "4d2294da-bb8b-4f8a-f9fc-8634eeca3b6a",
        "id": "KOsqij8w6xHx"
      },
      "execution_count": null,
      "outputs": [
        {
          "output_type": "stream",
          "name": "stdout",
          "text": [
            "Refined user input: Find the outdegree of node 22804 of node type Node_201511060800 in the CONNECTS_201511060800 graph at time t2.\n",
            "-----\n",
            "Cypher Query is MATCH (n:Node_201511060800 {id:\"22804\"})-[r:CONNECTS_201511060800]->()\n",
            "RETURN COUNT(r) AS Outdegree_Node_22804_at_t2\n",
            "\n",
            "\n",
            "Neo4j answer is [{'Outdegree_Node_22804_at_t2': 1}]\n",
            "\n",
            "\n",
            "The outdegree of node 22804 of node type Node_201511060800 in the CONNECTS_201511060800 graph at time t2 is 1.\n"
          ]
        }
      ],
      "id": "KOsqij8w6xHx"
    },
    {
      "cell_type": "code",
      "execution_count": null,
      "metadata": {
        "colab": {
          "base_uri": "https://localhost:8080/"
        },
        "outputId": "6e578227-0dba-491e-cc8d-c9f580f97fa9",
        "id": "yv1vsfn_6xHy"
      },
      "outputs": [
        {
          "output_type": "stream",
          "name": "stdout",
          "text": [
            "Refined user input: Find the outdegree of node with node_id 48479, of node type Node_201511060000, connected by relationship CONNECTS_201511060000 at time t1.\n",
            "-----\n",
            "Cypher Query is MATCH (n:Node_201511060000 {id: \"48479\"})-[r:CONNECTS_201511060000]->()\n",
            "RETURN count(r) AS Outdegree_t1\n",
            "\n",
            "\n",
            "Neo4j answer is [{'Outdegree_t1': 2}]\n",
            "\n",
            "\n",
            "The outdegree of the node with node_id 48479, of node type Node_201511060000, connected by relationship CONNECTS_201511060000 at time t1 is 2.\n"
          ]
        }
      ],
      "source": [
        "question = \"\"\"\n",
        "Consider all nodes of node type Node_201511060000 and relationship as CONNECTS_201511060000 as graph at time t1\n",
        "What is the outdegree of node 48479 at t1?\n",
        "\"\"\"\n",
        "question = refine_prompt(question)[\"updated_user_prompt\"]\n",
        "print(\"Refined user input:\", question)\n",
        "print(\"-----\")\n",
        "response = lang_chain_custom(question,driver,model='gpt-4')\n",
        "print(response)"
      ],
      "id": "yv1vsfn_6xHy"
    },
    {
      "cell_type": "code",
      "source": [
        "question = \"\"\"\n",
        "Consider all nodes of node type Node_201511060800 and relationship as CONNECTS_201511060800 as graph at time t2\n",
        "What is the outdegree of node 48479 at t2?\n",
        "\"\"\"\n",
        "question = refine_prompt(question)[\"updated_user_prompt\"]\n",
        "print(\"Refined user input:\", question)\n",
        "print(\"-----\")\n",
        "response = lang_chain_custom(question,driver,model='gpt-4')\n",
        "print(response)"
      ],
      "metadata": {
        "colab": {
          "base_uri": "https://localhost:8080/"
        },
        "outputId": "017eae99-1c77-44f6-e753-e5c5b6287299",
        "id": "5im8qAeA6xHy"
      },
      "execution_count": null,
      "outputs": [
        {
          "output_type": "stream",
          "name": "stdout",
          "text": [
            "Refined user input: Find the outdegree of node 48479, of node type Node_201511060800, with the relationship CONNECTS_201511060800, at t2.\n",
            "-----\n",
            "Cypher Query is MATCH (n:Node_201511060800{id:'48479'})-[r:CONNECTS_201511060800]->()\n",
            "RETURN COUNT(r) AS OutdegreeAtT2\n",
            "\n",
            "\n",
            "Neo4j answer is [{'OutdegreeAtT2': 2}]\n",
            "\n",
            "\n",
            "The outdegree of node 48479, of node type Node_201511060800, with the relationship CONNECTS_201511060800, at t2 is 2.\n"
          ]
        }
      ],
      "id": "5im8qAeA6xHy"
    },
    {
      "cell_type": "code",
      "source": [
        "question = \"\"\"\n",
        "Consider all nodes of node type Node_201511060000 and relationship as CONNECTS_201511060000 as graph at time t1\n",
        "What is the outdegree of node 28625 at t1?\n",
        "\"\"\"\n",
        "question = refine_prompt(question)[\"updated_user_prompt\"]\n",
        "print(\"Refined user input:\", question)\n",
        "print(\"-----\")\n",
        "response = lang_chain_custom(question,driver,model='gpt-4')\n",
        "print(response)"
      ],
      "metadata": {
        "colab": {
          "base_uri": "https://localhost:8080/"
        },
        "outputId": "a4b2e241-1c6b-4d9c-9bf5-7f651c945a9b",
        "id": "kzN3tyGp6xHy"
      },
      "execution_count": null,
      "outputs": [
        {
          "output_type": "stream",
          "name": "stdout",
          "text": [
            "Refined user input: Find the outdegree of node 28625 with node type Node_201511060000 and relationship CONNECTS_201511060000 at time t1.\n",
            "-----\n",
            "Cypher Query is MATCH (n:Node_201511060000 {id: \"28625\"})-[r:CONNECTS_201511060000]->()\n",
            "RETURN COUNT(r) as OutDegree_t1\n",
            "\n",
            "\n",
            "Neo4j answer is [{'OutDegree_t1': 3}]\n",
            "\n",
            "\n",
            "The outdegree of node 28625 with node type Node_201511060000 and relationship CONNECTS_201511060000 at time t1 is 3.\n"
          ]
        }
      ],
      "id": "kzN3tyGp6xHy"
    },
    {
      "cell_type": "code",
      "execution_count": null,
      "metadata": {
        "colab": {
          "base_uri": "https://localhost:8080/"
        },
        "outputId": "1a5290ec-3cee-4d42-89f4-bbf7bcc15f9f",
        "id": "GKajSBAG6xHy"
      },
      "outputs": [
        {
          "output_type": "stream",
          "name": "stdout",
          "text": [
            "Refined user input: Find the outdegree of node 28625 which has node type Node_201511060800 and relationship CONNECTS_201511060800 at time t2.\n",
            "-----\n",
            "Cypher Query is MATCH (n:Node_201511060800 {id: '28625'})-[r:CONNECTS_201511060800]->() \n",
            "RETURN COUNT(r) AS Outdegree_t2\n",
            "\n",
            "\n",
            "Neo4j answer is [{'Outdegree_t2': 3}]\n",
            "\n",
            "\n",
            "The outdegree of node 28625 with node type Node_201511060800 and relationship CONNECTS_201511060800 at time t2 is 3.\n"
          ]
        }
      ],
      "source": [
        "question = \"\"\"\n",
        "Consider all nodes of node type Node_201511060800 and relationship as CONNECTS_201511060800 as graph at time t2\n",
        "What is the outdegree of node 28625 at t2?\n",
        "\"\"\"\n",
        "question = refine_prompt(question)[\"updated_user_prompt\"]\n",
        "print(\"Refined user input:\", question)\n",
        "print(\"-----\")\n",
        "response = lang_chain_custom(question,driver,model='gpt-4')\n",
        "print(response)"
      ],
      "id": "GKajSBAG6xHy"
    },
    {
      "cell_type": "markdown",
      "source": [
        "## Change in Indegree\n"
      ],
      "metadata": {
        "id": "w42TogoQxO70"
      },
      "id": "w42TogoQxO70"
    },
    {
      "cell_type": "code",
      "source": [
        "question = \"\"\"\n",
        "Consider all nodes of node type Node_201511060000 and relationship as CONNECTS_201511060000 as graph at time t1 and\n",
        "all nodes of type Node_201511060800 and relationship as CONNECTS_201511060800 as graph at time t2.\n",
        "Between t1 and t2, what is the change in indegree for node 22804?\n",
        "\"\"\"\n",
        "question = refine_prompt(question)[\"updated_user_prompt\"]\n",
        "print(\"Refined user input:\", question)\n",
        "print(\"-----\")\n",
        "response = lang_chain_custom(question,driver,model='gpt-4')\n",
        "print(response)"
      ],
      "metadata": {
        "colab": {
          "base_uri": "https://localhost:8080/"
        },
        "id": "NLVDOXn5xRjd",
        "outputId": "020923bb-9e04-4970-962b-0ad87ca717c2"
      },
      "id": "NLVDOXn5xRjd",
      "execution_count": null,
      "outputs": [
        {
          "output_type": "stream",
          "name": "stdout",
          "text": [
            "Refined user input: Find the change in the indegree of node 22804 between graph t1 composed of nodes of type Node_201511060000 and relationship CONNECTS_201511060000, and graph t2 composed of nodes of type Node_201511060800 and relationship CONNECTS_201511060800.\n",
            "-----\n",
            "Cypher Query is MATCH (n1:Node_201511060000 {id: '22804'})<-[:CONNECTS_201511060000]-(m1)\n",
            "WITH count(m1) as indegree_t1\n",
            "MATCH (n2:Node_201511060800 {id: '22804'})<-[:CONNECTS_201511060800]-(m2)\n",
            "RETURN count(m2) - indegree_t1 as indegree_change\n",
            "\n",
            "\n",
            "Retrying\n",
            "Generated Cypher Statement is not valid\n",
            "{code: Neo.ClientError.Statement.SyntaxError} {message: Aggregation column contains implicit grouping expressions. For example, in 'RETURN n.a, n.a + n.b + count(*)' the aggregation expression 'n.a + n.b + count(*)' includes the implicit grouping key 'n.b'. It may be possible to rewrite the query by extracting these grouping/aggregation expressions into a preceding WITH clause. Illegal expression(s): indegree_t1 (line 4, column 20 (offset: 197))\n",
            "\"RETURN count(m2) - indegree_t1 as indegree_change\"\n",
            "                    ^}\n",
            "New Cypher Query is MATCH (n1:Node_201511060000 {id: '22804'})<-[:CONNECTS_201511060000]-(m1)\n",
            "WITH count(m1) as indegree_t1\n",
            "MATCH (n2:Node_201511060800 {id: '22804'})<-[:CONNECTS_201511060800]-(m2)\n",
            "WITH indegree_t1, count(m2) as indegree_t2\n",
            "RETURN indegree_t2 - indegree_t1 as indegree_change\n",
            "\n",
            "\n",
            "Neo4j answer is []\n",
            "\n",
            "\n",
            "Whatever you asked in the question does not exist.\n"
          ]
        }
      ]
    },
    {
      "cell_type": "code",
      "source": [
        "question = \"\"\"\n",
        "Consider all nodes of node type Node_201511060000 and relationship as CONNECTS_201511060000 as graph at time t1 and\n",
        "all nodes of type Node_201511060800 and relationship as CONNECTS_201511060800 as graph at time t2.\n",
        "Between t1 and t2, what is the change in indegree for node 48479?\n",
        "\"\"\"\n",
        "question = refine_prompt(question)[\"updated_user_prompt\"]\n",
        "print(\"Refined user input:\", question)\n",
        "print(\"-----\")\n",
        "response = lang_chain_custom(question,driver,model='gpt-4')\n",
        "print(response)"
      ],
      "metadata": {
        "colab": {
          "base_uri": "https://localhost:8080/"
        },
        "id": "ILqRiuXExrZj",
        "outputId": "8167d4a6-d9af-4f43-895b-441953324219"
      },
      "id": "ILqRiuXExrZj",
      "execution_count": null,
      "outputs": [
        {
          "output_type": "stream",
          "name": "stdout",
          "text": [
            "Refined user input: Find the change in indegree for node 48479 in the graph database between time t1, involving nodes of type Node_201511060000 and relationships as CONNECTS_201511060000, and time t2, involving nodes of type Node_201511060800 and relationships as CONNECTS_201511060800.\n",
            "-----\n",
            "Cypher Query is MATCH (n1:Node_201511060000 {id:'48479'})<-[r1:CONNECTS_201511060000]-()\n",
            "RETURN COUNT(r1) AS indegree_time_t1\n",
            "MATCH (n2:Node_201511060800 {id:'48479'})<-[r2:CONNECTS_201511060800]-()\n",
            "RETURN COUNT(r2) AS indegree_time_t2\n",
            "MATCH (n1:Node_201511060000 {id:'48479'}), (n2:Node_201511060800 {id:'48479'})\n",
            "RETURN ABS(COUNT(n1) - COUNT(n2)) AS indegree_change\n",
            "\n",
            "\n",
            "Retrying\n",
            "Generated Cypher Statement is not valid\n",
            "{code: Neo.ClientError.Statement.SyntaxError} {message: RETURN can only be used at the end of the query (line 2, column 1 (offset: 73))\n",
            "\"RETURN COUNT(r1) AS indegree_time_t1\"\n",
            " ^}\n",
            "New Cypher Query is MATCH (n1:Node_201511060000 {id:'48479'})<-[r1:CONNECTS_201511060000]-()\n",
            "WITH COUNT(r1) AS indegree_time_t1\n",
            "MATCH (n2:Node_201511060800 {id:'48479'})<-[r2:CONNECTS_201511060800]-()\n",
            "WITH indegree_time_t1, COUNT(r2) AS indegree_time_t2\n",
            "RETURN indegree_time_t1, indegree_time_t2, ABS(indegree_time_t1 - indegree_time_t2) AS indegree_change\n",
            "\n",
            "\n",
            "Neo4j answer is [{'indegree_time_t1': 9, 'indegree_time_t2': 10, 'indegree_change': 1}]\n",
            "\n",
            "\n",
            "The change in indegree for node 48479 in the graph database between time t1 and time t2 is 1.\n"
          ]
        }
      ]
    },
    {
      "cell_type": "code",
      "source": [
        "question = \"\"\"\n",
        "Consider all nodes of node type Node_201511060000 and relationship as CONNECTS_201511060000 as graph at time t1 and\n",
        "all nodes of type Node_201511060800 and relationship as CONNECTS_201511060800 as graph at time t2.\n",
        "Between t1 and t2, what is the change in indegree for node 28625?\n",
        "\"\"\"\n",
        "question = refine_prompt(question)[\"updated_user_prompt\"]\n",
        "print(\"Refined user input:\", question)\n",
        "print(\"-----\")\n",
        "response = lang_chain_custom(question,driver,model='gpt-4')\n",
        "print(response)"
      ],
      "metadata": {
        "colab": {
          "base_uri": "https://localhost:8080/"
        },
        "id": "b6f2ZjG7xr1R",
        "outputId": "714ad721-7beb-4b34-fbe7-02b349d56b22"
      },
      "id": "b6f2ZjG7xr1R",
      "execution_count": null,
      "outputs": [
        {
          "output_type": "stream",
          "name": "stdout",
          "text": [
            "Refined user input: Find the change in the indegree of node 28625 between t1 and t2, by considering all nodes of node type Node_201511060000 and relationship CONNECTS_201511060000 as a graph at time t1 and all nodes of type Node_201511060800 and relationship CONNECTS_201511060800 as a graph at time t2.\n",
            "-----\n",
            "Cypher Query is MATCH (node_t1:Node_201511060000{id:\"28625\"})\n",
            "OPTIONAL MATCH (node_t1)<-[:CONNECTS_201511060000]-(any_node_t1:Node_201511060000)\n",
            "WITH COUNT(any_node_t1) AS indegree_t1\n",
            "\n",
            "MATCH (node_t2:Node_201511060800{id:\"28625\"})\n",
            "OPTIONAL MATCH (node_t2)<-[:CONNECTS_201511060800]-(any_node_t2:Node_201511060800)\n",
            "WITH COUNT(any_node_t2) AS indegree_t2, indegree_t1\n",
            "\n",
            "RETURN indegree_t2 - indegree_t1 AS change_in_indegree\n",
            "\n",
            "\n",
            "Neo4j answer is [{'change_in_indegree': 0}]\n",
            "\n",
            "\n",
            "The change in the indegree of node 28625 between times t1 and t2 is 0.\n"
          ]
        }
      ]
    },
    {
      "cell_type": "markdown",
      "source": [
        "## Change in Outdegree"
      ],
      "metadata": {
        "id": "PSD_tVFZyHnn"
      },
      "id": "PSD_tVFZyHnn"
    },
    {
      "cell_type": "code",
      "source": [
        "question = \"\"\"\n",
        "Consider all nodes of node type Node_201511060000 and relationship as CONNECTS_201511060000 as graph at time t1 and\n",
        "all nodes of type Node_201511060800 and relationship as CONNECTS_201511060800 as graph at time t2.\n",
        "Between t1 and t2, what is the change in outdegree for node 22804?\n",
        "\"\"\"\n",
        "question = refine_prompt(question)[\"updated_user_prompt\"]\n",
        "print(\"Refined user input:\", question)\n",
        "print(\"-----\")\n",
        "response = lang_chain_custom(question,driver,model='gpt-4')\n",
        "print(response)"
      ],
      "metadata": {
        "colab": {
          "base_uri": "https://localhost:8080/"
        },
        "id": "GDY62fhPyJ51",
        "outputId": "0daac15b-4681-4409-80d1-d0b05d4e7c63"
      },
      "id": "GDY62fhPyJ51",
      "execution_count": null,
      "outputs": [
        {
          "output_type": "stream",
          "name": "stdout",
          "text": [
            "Refined user input: Find the change in outdegree for node 22804 between graph at time t1 composed of all nodes of node type Node_201511060000 and relationship CONNECTS_201511060000 and graph at time t2 composed of all nodes of type Node_201511060800 and relationship CONNECTS_201511060800.\n",
            "-----\n",
            "Cypher Query is MATCH (n1:Node_201511060000 {id: '22804'})-[r1:CONNECTS_201511060000]->()\n",
            "WITH COUNT(r1) AS outdegree_t1\n",
            "MATCH (n2:Node_201511060800 {id: '22804'})-[r2:CONNECTS_201511060800]->()\n",
            "RETURN COUNT(r2) - outdegree_t1 AS outdegree_change\n",
            "\n",
            "\n",
            "Retrying\n",
            "Generated Cypher Statement is not valid\n",
            "{code: Neo.ClientError.Statement.SyntaxError} {message: Aggregation column contains implicit grouping expressions. For example, in 'RETURN n.a, n.a + n.b + count(*)' the aggregation expression 'n.a + n.b + count(*)' includes the implicit grouping key 'n.b'. It may be possible to rewrite the query by extracting these grouping/aggregation expressions into a preceding WITH clause. Illegal expression(s): outdegree_t1 (line 4, column 20 (offset: 198))\n",
            "\"RETURN COUNT(r2) - outdegree_t1 AS outdegree_change\"\n",
            "                    ^}\n",
            "New Cypher Query is MATCH (n1:Node_201511060000 {id: '22804'})-[r1:CONNECTS_201511060000]->()\n",
            "WITH COUNT(r1) AS outdegree_t1\n",
            "MATCH (n2:Node_201511060800 {id: '22804'})-[r2:CONNECTS_201511060800]->()\n",
            "WITH outdegree_t1, COUNT(r2) AS outdegree_t2\n",
            "RETURN outdegree_t2 - outdegree_t1 AS outdegree_change\n",
            "\n",
            "\n",
            "Neo4j answer is [{'outdegree_change': 0}]\n",
            "\n",
            "\n",
            "The change in outdegree for node 22804 between the graph at time t1 and t2 is 0.\n"
          ]
        }
      ]
    },
    {
      "cell_type": "code",
      "source": [
        "question = \"\"\"\n",
        "Consider all nodes of node type Node_201511060000 and relationship as CONNECTS_201511060000 as graph at time t1 and\n",
        "all nodes of type Node_201511060800 and relationship as CONNECTS_201511060800 as graph at time t2.\n",
        "Between t1 and t2, what is the change in outdegree for node 48479?\n",
        "\"\"\"\n",
        "question = refine_prompt(question)[\"updated_user_prompt\"]\n",
        "print(\"Refined user input:\", question)\n",
        "print(\"-----\")\n",
        "response = lang_chain_custom(question,driver,model='gpt-4')\n",
        "print(response)"
      ],
      "metadata": {
        "colab": {
          "base_uri": "https://localhost:8080/"
        },
        "id": "dr0sbjwKyJ8P",
        "outputId": "13d6ab6a-bab0-4578-f4eb-2013bd2c73f2"
      },
      "id": "dr0sbjwKyJ8P",
      "execution_count": null,
      "outputs": [
        {
          "output_type": "stream",
          "name": "stdout",
          "text": [
            "Refined user input: Find the difference in outdegree for node 48479 given the graphs constructed by Node_201511060000 and CONNECTS_201511060000 at time t1 and Node_201511060800 and CONNECTS_201511060800 at time t2.\n",
            "-----\n",
            "Cypher Query is MATCH (n1:Node_201511060000 {id: '48479'})-[r1:CONNECTS_201511060000]->()\n",
            "WITH COUNT(r1) AS outDegreeT1\n",
            "MATCH (n2:Node_201511060800 {id: '48479'})-[r2:CONNECTS_201511060800]->()\n",
            "RETURN COUNT(r2) - outDegreeT1 AS outDegreeDifference\n",
            "\n",
            "\n",
            "Retrying\n",
            "Generated Cypher Statement is not valid\n",
            "{code: Neo.ClientError.Statement.SyntaxError} {message: Aggregation column contains implicit grouping expressions. For example, in 'RETURN n.a, n.a + n.b + count(*)' the aggregation expression 'n.a + n.b + count(*)' includes the implicit grouping key 'n.b'. It may be possible to rewrite the query by extracting these grouping/aggregation expressions into a preceding WITH clause. Illegal expression(s): outDegreeT1 (line 4, column 20 (offset: 197))\n",
            "\"RETURN COUNT(r2) - outDegreeT1 AS outDegreeDifference\"\n",
            "                    ^}\n",
            "New Cypher Query is MATCH (n1:Node_201511060000 {id: '48479'})-[r1:CONNECTS_201511060000]->()\n",
            "WITH COUNT(r1) AS outDegreeT1\n",
            "MATCH (n2:Node_201511060800 {id: '48479'})-[r2:CONNECTS_201511060800]->()\n",
            "WITH COUNT(r2) AS outDegreeT2, outDegreeT1\n",
            "RETURN outDegreeT2 - outDegreeT1 AS outDegreeDifference\n",
            "\n",
            "\n",
            "Neo4j answer is [{'outDegreeDifference': 0}]\n",
            "\n",
            "\n",
            "The difference in outdegree for node 48479 between time t1 and t2 is 0.\n"
          ]
        }
      ]
    },
    {
      "cell_type": "code",
      "source": [
        "question = \"\"\"\n",
        "Consider all nodes of node type Node_201511060000 and relationship as CONNECTS_201511060000 as graph at time t1 and\n",
        "all nodes of type Node_201511060800 and relationship as CONNECTS_201511060800 as graph at time t2.\n",
        "Between t1 and t2, what is the change in outdegree for node 28625?\n",
        "\"\"\"\n",
        "question = refine_prompt(question)[\"updated_user_prompt\"]\n",
        "print(\"Refined user input:\", question)\n",
        "print(\"-----\")\n",
        "response = lang_chain_custom(question,driver,model='gpt-4')\n",
        "print(response)"
      ],
      "metadata": {
        "colab": {
          "base_uri": "https://localhost:8080/"
        },
        "id": "5WsdAonxyKFN",
        "outputId": "489bba92-cd5b-410b-d396-11f525213155"
      },
      "id": "5WsdAonxyKFN",
      "execution_count": null,
      "outputs": [
        {
          "output_type": "stream",
          "name": "stdout",
          "text": [
            "Refined user input: Find the difference in outdegree between node 28625 in graph Node_201511060000 with relationship CONNECTS_201511060000 at time t1 and graph Node_201511060800 with relationship CONNECTS_201511060800 at time t2.\n",
            "-----\n",
            "Cypher Query is MATCH (n1:Node_201511060000 {id: '28625'})-[r1:CONNECTS_201511060000]->()\n",
            "WITH COUNT(r1) as outdegree_t1\n",
            "MATCH (n2:Node_201511060800 {id: '28625'})-[r2: CONNECTS_201511060800]->()\n",
            "RETURN ABS(COUNT(r2) - outdegree_t1) as outdegree_difference\n",
            "\n",
            "\n",
            "Retrying\n",
            "Generated Cypher Statement is not valid\n",
            "{code: Neo.ClientError.Statement.SyntaxError} {message: Aggregation column contains implicit grouping expressions. For example, in 'RETURN n.a, n.a + n.b + count(*)' the aggregation expression 'n.a + n.b + count(*)' includes the implicit grouping key 'n.b'. It may be possible to rewrite the query by extracting these grouping/aggregation expressions into a preceding WITH clause. Illegal expression(s): outdegree_t1 (line 4, column 24 (offset: 203))\n",
            "\"RETURN ABS(COUNT(r2) - outdegree_t1) as outdegree_difference\"\n",
            "                        ^}\n",
            "New Cypher Query is MATCH (n1:Node_201511060000 {id: '28625'})-[r1:CONNECTS_201511060000]->()\n",
            "WITH COUNT(r1) as outdegree_t1\n",
            "MATCH (n2:Node_201511060800 {id: '28625'})-[r2: CONNECTS_201511060800]->()\n",
            "WITH COUNT(r2) as outdegree_t2, outdegree_t1\n",
            "RETURN ABS(outdegree_t2 - outdegree_t1) as outdegree_difference\n",
            "\n",
            "\n",
            "Neo4j answer is [{'outdegree_difference': 0}]\n",
            "\n",
            "\n",
            "The difference in outdegree between node 28625 in graph Node_201511060000 with relationship CONNECTS_201511060000 at time t1 and graph Node_201511060800 with relationship CONNECTS_201511060800 at time t2 is 0.\n"
          ]
        }
      ]
    }
  ],
  "metadata": {
    "kernelspec": {
      "display_name": "Python 3 (ipykernel)",
      "language": "python",
      "name": "python3"
    },
    "language_info": {
      "codemirror_mode": {
        "name": "ipython",
        "version": 3
      },
      "file_extension": ".py",
      "mimetype": "text/x-python",
      "name": "python",
      "nbconvert_exporter": "python",
      "pygments_lexer": "ipython3",
      "version": "3.8.8"
    },
    "colab": {
      "provenance": [],
      "collapsed_sections": [
        "ItHSu265YIqr",
        "BfckCKmnYWv0",
        "e1ggYs-3YZCc",
        "Bee1FagCYbWA",
        "M06RcM0ku2VT",
        "DXTjIkr3u4To",
        "Q_zMmGLYN5l0",
        "-eksvtC6vPeD",
        "3_NbmS00v4uu",
        "-FNTg-nC-mpl",
        "f1wy5aTqKX2B",
        "sJDezt0Dv9bv",
        "DreLMHxzwAT5",
        "k1WARzUM6xHv",
        "PSD_tVFZyHnn"
      ]
    }
  },
  "nbformat": 4,
  "nbformat_minor": 5
}