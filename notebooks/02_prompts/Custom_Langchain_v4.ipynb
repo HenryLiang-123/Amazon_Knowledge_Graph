{
  "cells": [
    {
      "cell_type": "markdown",
      "metadata": {},
      "source": [
        "# Import Necessary packages"
      ]
    },
    {
      "cell_type": "code",
      "execution_count": 1,
      "id": "242f646c",
      "metadata": {
        "id": "242f646c"
      },
      "outputs": [],
      "source": [
        "#!pip install neo4j\n",
        "import re\n",
        "import os\n",
        "import getpass\n",
        "import openai\n",
        "from typing import Any, Dict, List\n",
        "from openai import OpenAI\n",
        "from neo4j import GraphDatabase"
      ]
    },
    {
      "cell_type": "markdown",
      "metadata": {},
      "source": [
        "# Prerequisite set up"
      ]
    },
    {
      "cell_type": "markdown",
      "metadata": {},
      "source": [
        "### Set up OpenAI key"
      ]
    },
    {
      "cell_type": "code",
      "execution_count": 2,
      "id": "6dbaedca",
      "metadata": {
        "colab": {
          "base_uri": "https://localhost:8080/"
        },
        "id": "6dbaedca",
        "outputId": "3dda558b-b72c-42ff-99c9-6268a2717bc1"
      },
      "outputs": [],
      "source": [
        "name = 'OPENAI_API_KEY'\n",
        "secret = getpass.getpass(\"Enter the OpenAI API Key\")\n",
        "os.environ[name] = secret\n",
        "\n",
        "# Define your API key (keep it secret!)\n",
        "openai.api_key = os.environ[name]\n",
        "API_KEY = os.environ[name]"
      ]
    },
    {
      "cell_type": "markdown",
      "metadata": {},
      "source": [
        "### Open a OpenAI session"
      ]
    },
    {
      "cell_type": "code",
      "execution_count": 3,
      "id": "3434ae42",
      "metadata": {
        "id": "3434ae42"
      },
      "outputs": [],
      "source": [
        "client = OpenAI()"
      ]
    },
    {
      "cell_type": "markdown",
      "metadata": {},
      "source": [
        "### Connect to the Cloud Neo4j graph database"
      ]
    },
    {
      "cell_type": "code",
      "execution_count": 4,
      "id": "57da8733",
      "metadata": {
        "id": "57da8733"
      },
      "outputs": [],
      "source": [
        "# Connect to the Neo4j database\n",
        "uri = \"neo4j+s://28e5b287.databases.neo4j.io\"  # Change to match your Neo4j server settings\n",
        "username = \"neo4j\"      # Change to your Neo4j username\n",
        "password = \"z9J3DPCCxGYELn99XDdFbFIBnWOwR5fdn4MiG_Nvdck\"      # Change to your Neo4j password\n",
        "\n",
        "# Create a Neo4j driver\n",
        "driver = GraphDatabase.driver(uri, auth=(username, password))"
      ]
    },
    {
      "cell_type": "markdown",
      "metadata": {},
      "source": [
        "# Customized Langchain"
      ]
    },
    {
      "cell_type": "markdown",
      "metadata": {},
      "source": [
        "### Revine users' input prompt"
      ]
    },
    {
      "cell_type": "code",
      "execution_count": 5,
      "id": "c91cfe04",
      "metadata": {
        "id": "c91cfe04"
      },
      "outputs": [],
      "source": [
        "def refine_prompt(raw_prompt, openai_api_key=os.environ['OPENAI_API_KEY']):\n",
        "    \"\"\"\n",
        "    Refines a raw user input using OpenAI's language model to create a more effective prompt.\n",
        "\n",
        "    Parameters:\n",
        "    raw_prompt (str): The original user input.\n",
        "    openai_api_key (str): Your OpenAI API key.\n",
        "\n",
        "    Returns:\n",
        "    dict: A dictionary containing the status ('success' or 'failed') and the refined prompt.\n",
        "    \"\"\"\n",
        "    try:\n",
        "        openai.api_key = openai_api_key\n",
        "\n",
        "        # Constructing the prompt for the LLM to refine the user input\n",
        "        prompt_to_refine = (\n",
        "            \"The following is a plain English user input for querying a graph database: '{}'. \"\n",
        "            \"Rewrite this input into a clearer query format. \"\n",
        "            \"However, do not remove any information related to the database or information related to node type which the user provided. If the input is not clear or relevant, indicate that the user should provide a clearer query. \"\n",
        "            \"Do not remove any information related to database and node attributes.\"\n",
        "            \"For example, if the input is 'I want to know how many nodes are in this database', \"\n",
        "            \"a better format would be 'Find the number of nodes in the database'.\\n\"\n",
        "            \"Refined Input: \".format(raw_prompt)\n",
        "        )\n",
        "\n",
        "        # Limit the length of users' input \n",
        "        max_tokens = 100\n",
        "        if len(raw_prompt.split()) > 100:\n",
        "            max_tokens = len(raw_prompt.split())\n",
        "\n",
        "        # Model set up to refine the users' input \n",
        "        response = client.completions.create(\n",
        "            model=\"text-davinci-003\",  # Use the latest available engine\n",
        "            prompt=prompt_to_refine,\n",
        "            max_tokens=100  # Adjust based on your needs\n",
        "        )\n",
        "\n",
        "        # refined prompt\n",
        "        refined_prompt = response.choices[0].text.strip()\n",
        "\n",
        "        # Check if the refined prompt is valid\n",
        "        if \"provide a clearer query\" in refined_prompt.lower():\n",
        "            return {\"status\": \"failed\", \"updated_user_prompt\": refined_prompt}\n",
        "        else:\n",
        "            return {\"status\": \"success\", \"updated_user_prompt\": refined_prompt}\n",
        "    except Exception as e:\n",
        "        print(f\"Error in refining prompt: {e}\")\n",
        "        return {\"status\": \"failed\", \"updated_user_prompt\": raw_prompt}"
      ]
    },
    {
      "cell_type": "markdown",
      "metadata": {},
      "source": [
        "### Help Function: Refined the output"
      ]
    },
    {
      "cell_type": "code",
      "execution_count": 6,
      "id": "a8812186",
      "metadata": {
        "id": "a8812186"
      },
      "outputs": [],
      "source": [
        "\n",
        "def neo4j_query(query: str, params: dict = {}) -> List[Dict[str, Any]]:\n",
        "    \"\"\"\n",
        "    Query Neo4j database.\n",
        "\n",
        "    Args:\n",
        "        query (str): Cypher query to be executed.\n",
        "        params (dict, optional): Parameters for the Cypher query. Defaults to {}.\n",
        "\n",
        "    Returns:\n",
        "        List[Dict[str, Any]]: List of dictionaries representing the query results.\n",
        "\n",
        "    Raises:\n",
        "        ValueError: If the Cypher syntax is incorrect.\n",
        "    \"\"\"\n",
        "    from neo4j.exceptions import CypherSyntaxError\n",
        "\n",
        "    with driver.session(database=\"neo4j\") as session:\n",
        "        try:\n",
        "            data = session.run(query, params)\n",
        "            return [r.data() for r in data]\n",
        "        except CypherSyntaxError as e:\n",
        "            raise ValueError(f\"Generated Cypher Statement is not valid\\n{e}\")\n",
        "\n",
        "def refresh_schema() -> str:\n",
        "    \"\"\"\n",
        "    Refreshes the Neo4j graph schema information and returns a string representation.\n",
        "\n",
        "    Returns:\n",
        "        str: String representation of the current schema.\n",
        "    \"\"\"\n",
        "\n",
        "    node_properties_query = \"\"\"\n",
        "    CALL apoc.meta.data()\n",
        "    YIELD label, other, elementType, type, property\n",
        "    WHERE NOT type = \"RELATIONSHIP\" AND elementType = \"node\"\n",
        "    WITH label AS nodeLabels, collect({property:property, type:type}) AS properties\n",
        "    RETURN {labels: nodeLabels, properties: properties} AS output\n",
        "    \"\"\"\n",
        "\n",
        "    rel_properties_query = \"\"\"\n",
        "    CALL apoc.meta.data()\n",
        "    YIELD label, other, elementType, type, property\n",
        "    WHERE NOT type = \"RELATIONSHIP\" AND elementType = \"relationship\"\n",
        "    WITH label AS nodeLabels, collect({property:property, type:type}) AS properties\n",
        "    RETURN {type: nodeLabels, properties: properties} AS output\n",
        "    \"\"\"\n",
        "\n",
        "    rel_query = \"\"\"\n",
        "    CALL apoc.meta.data()\n",
        "    YIELD label, other, elementType, type, property\n",
        "    WHERE type = \"RELATIONSHIP\" AND elementType = \"node\"\n",
        "    UNWIND other AS other_node\n",
        "    RETURN {start: label, type: property, end: toString(other_node)} AS output\n",
        "    \"\"\"\n",
        "\n",
        "    node_properties = [el[\"output\"] for el in neo4j_query(node_properties_query)]\n",
        "    rel_properties = [el[\"output\"] for el in neo4j_query(rel_properties_query)]\n",
        "    relationships = [el[\"output\"] for el in neo4j_query(rel_query)]\n",
        "\n",
        "    schema_str = f\"\"\"\n",
        "    Node properties are the following:\n",
        "    {node_properties}\n",
        "    Relationship properties are the following:\n",
        "    {rel_properties}\n",
        "    The relationships are the following:\n",
        "    {[f\"(:{el['start']})-[:{el['type']}]->(:{el['end']})\" for el in relationships]}\n",
        "    \"\"\"\n",
        "\n",
        "    return schema_str\n",
        "\n",
        "def get_gpt_cypher_query(curr_schema:str, question:str,model=\"gpt-4\",history=None):\n",
        "    \"\"\"\n",
        "    Send a request to the OpenAI Chat API and get a response from the model.\n",
        "\n",
        "    Args:\n",
        "        prompt (str): The user's question.\n",
        "        context (str): Contextual information to be passed to the model.\n",
        "        model (str): The model version to use, default is \"gpt-3.5-turbo\".\n",
        "        history(dict): The historical dialogue between users and systems\n",
        "    Returns:\n",
        "        str: The model's response.\n",
        "    \"\"\"\n",
        "\n",
        "    # Input the info of database with pre-dialogue\n",
        "    system_prompt =  \"\"\"\n",
        "\n",
        "    \"Human: Task:Generate Cypher statement to query a graph database.\\nInstructions:\\nUse only the provided\n",
        "    relationship types and properties in the schema.\\nDo not use any other relationship types or\n",
        "    properties that are not provided.\\n\n",
        "    Consider directionality of the graph.\\n\n",
        "    The cypher output should have some indication either as variable name to indicate the requirement of the\n",
        "    question.\\n\n",
        "    Do not include any explanations or apologies in your responses.\\n\n",
        "    Do not respond to any questions that might ask anything else than for you to construct a Cypher statement.\n",
        "    \\nSchema:\n",
        "    {}\".\n",
        "    \"\"\".format(curr_schema)\n",
        "\n",
        "    # Create the full prompt by combining the system prompt, context, and the user question\n",
        "    messages = [\n",
        "        {\"role\": \"system\", \"content\": system_prompt},\n",
        "        {\"role\": \"user\", \"content\": question}\n",
        "    ]\n",
        "\n",
        "    if history:\n",
        "        messages.extend(history)\n",
        "\n",
        "    ## Use the OpenAI Python client to send the request\n",
        "    response = client.chat.completions.create(\n",
        "        model=model,\n",
        "        messages=messages\n",
        "    )\n",
        "\n",
        "    # Extract the response text and return\n",
        "    return response.choices[0].message.content\n",
        "\n",
        "\n",
        "def get_gpt_user_output(prompt:str, question:str, model=\"gpt-4\",history=None):\n",
        "    \"\"\"\n",
        "    Send a request to the OpenAI Chat API and get a response from the model.\n",
        "\n",
        "    Args:\n",
        "        prompt (str): The user's question.\n",
        "        context (str): Contextual information to be passed to the model.\n",
        "        model (str): The model version to use, default is \"gpt-3.5-turbo\".\n",
        "        \n",
        "    Returns:\n",
        "        str: The model's response, which is the refined users' output. \n",
        "    \"\"\"\n",
        "\n",
        "    system_prompt =  \"\"\"\n",
        "\n",
        "    \"Human: You are an assistant that helps to form nice and human understandable answers\n",
        "    .\\nThe information part contains the provided information that you must use to construct an answer.\n",
        "    \\nThe provided information is authoritative, you must never doubt it or try to use your internal knowledge\n",
        "    to correct it.\\nMake the answer sound as a response to the question.\n",
        "    Do not mention that you based the result on the given information.\\n\n",
        "    Only If the information is empty then return whatever asked in the question does not exist\\n\n",
        "    Output only the node ids to represent the nodes, unless specified\n",
        "    \\nInformation:\\n{}\"\n",
        "    \"\"\".format(prompt)\n",
        "\n",
        "    # Create the full prompt by combining the system prompt, context, and the user question\n",
        "    messages = [\n",
        "        {\"role\": \"system\", \"content\": system_prompt},\n",
        "        {\"role\": \"user\", \"content\": question}\n",
        "    ]\n",
        "\n",
        "    if history:\n",
        "        messages.extend(history)\n",
        "\n",
        "    ## Use the OpenAI Python client to send the request\n",
        "    response = client.chat.completions.create(\n",
        "        model=model,\n",
        "        messages=messages\n",
        "    )\n",
        "\n",
        "    # Extract the response text and return\n",
        "    return response.choices[0].message.content\n"
      ]
    },
    {
      "cell_type": "markdown",
      "metadata": {},
      "source": [
        "### Main function for customized langchain"
      ]
    },
    {
      "cell_type": "code",
      "execution_count": 11,
      "metadata": {},
      "outputs": [],
      "source": [
        "def lang_chain_custom(question:str,driver,model=\"gpt-4\"):\n",
        "    \"\"\"\n",
        "    Orchestrates generating a Cypher query using GPT-3.5, executing it on Neo4j, and formatting the response.\n",
        "\n",
        "    Args:\n",
        "        question (str): User's question.\n",
        "        driver: Neo4j database driver.\n",
        "        model (str, optional): Model version of GPT-3.5. Defaults to \"gpt-3.5-turbo\".\n",
        "\n",
        "    Returns:\n",
        "        str: Final response after processing the query and results.\n",
        "    \"\"\"\n",
        "    curr_schema = refresh_schema()\n",
        "\n",
        "    ## Getting Cypher query\n",
        "    response = get_gpt_cypher_query(curr_schema, question, model)\n",
        "    print('Cypher Query is',response)\n",
        "    print('\\n')\n",
        "\n",
        "    ## Interacting with neo4j\n",
        "    try:\n",
        "        cypher_response = neo4j_query(response)\n",
        "        cypher_response = cypher_response[:10] ## Limiting it to avoid token limits\n",
        "        print('Neo4j answer is',cypher_response)\n",
        "        print('\\n')\n",
        "\n",
        "    except Exception as e:\n",
        "        try:\n",
        "            print('Retrying')\n",
        "\n",
        "            history = [\n",
        "                    {\"role\": \"assistant\", \"content\": response},\n",
        "                    {\n",
        "                        \"role\": \"user\",\n",
        "                        \"content\": f\"\"\"This query returns an error: {str(e)}\n",
        "                        Give me a improved query that works without any explanations or apologies\"\"\",\n",
        "                    },\n",
        "\n",
        "            ]\n",
        "            # get cypher query based on the question\n",
        "            response = get_gpt_cypher_query(curr_schema, question,model,history)\n",
        "            print('New Cypher Query is',response)\n",
        "            print('\\n')\n",
        "\n",
        "            # parsing neo4j query from the cypher query generated from chatgpt\n",
        "            cypher_response = neo4j_query(response)\n",
        "            \n",
        "            # Return the first 10 answers\n",
        "            cypher_response = cypher_response[:10] ## Limiting it to avoid token limits\n",
        "            print('Neo4j answer is',cypher_response)\n",
        "            print('\\n')\n",
        "\n",
        "        except Exception as e:\n",
        "            cypher_response = []\n",
        "\n",
        "    ## Obtaining final answer\n",
        "    response_2 = get_gpt_user_output(cypher_response, question, model)\n",
        "\n",
        "    pattern = r'\\bsorry\\b'\n",
        "    # re.IGNORECASE flag makes the search case-insensitive\n",
        "    if(bool(re.search(pattern, response_2, re.IGNORECASE))):\n",
        "    \n",
        "        print('Retrying output string')\n",
        "\n",
        "        history = [\n",
        "        {\"role\": \"assistant\", \"content\": response_2},\n",
        "        {\n",
        "            \"role\": \"user\",\n",
        "            \"content\": f\"\"\"This query returns an incomplete answer.\n",
        "            If the information is empty then return does not exist or unknown.\\n\n",
        "            If not, assume the output is a simplified answer to\n",
        "            the question {question}\n",
        "            Give me a improved query that works without any explanations or apologies\"\"\",\n",
        "        }]\n",
        "\n",
        "        response_2 = get_gpt_user_output(cypher_response, question,model,history)\n",
        "\n",
        "    return response_2"
      ]
    },
    {
      "cell_type": "markdown",
      "metadata": {},
      "source": [
        "# Results"
      ]
    },
    {
      "cell_type": "markdown",
      "metadata": {},
      "source": [
        "### Path existence"
      ]
    },
    {
      "cell_type": "code",
      "execution_count": 12,
      "id": "0f0e00b2",
      "metadata": {
        "colab": {
          "base_uri": "https://localhost:8080/"
        },
        "id": "0f0e00b2",
        "outputId": "a5e88eca-b2fe-4df4-cd70-39d19c24d054"
      },
      "outputs": [
        {
          "name": "stdout",
          "output_type": "stream",
          "text": [
            "Find if there exists a path from node 56203 to node 38803 for nodes of type node, and if so, provide the path.\n",
            "-----\n",
            "Cypher Query is MATCH path = (start:Node_201511060000 {id:\"56203\"})-[:CONNECTS_201511060000*]-(end:Node_201511060000 {id:\"38803\"})\n",
            "RETURN path\n",
            "\n",
            "\n",
            "Neo4j answer is []\n",
            "\n",
            "\n",
            "Retrying output string\n",
            "The existence of a path from node 56203 to node 38803 is unknown.\n"
          ]
        }
      ],
      "source": [
        "question = \"\"\"\n",
        "Does a path exist from node 56203 to node 38803 for nodes of type node? If so what is the path?\n",
        "\"\"\"\n",
        "question = refine_prompt(question)[\"updated_user_prompt\"]\n",
        "print(question)\n",
        "print(\"-----\")\n",
        "response = lang_chain_custom(question,driver,model='gpt-4')\n",
        "print(response)"
      ]
    },
    {
      "cell_type": "code",
      "execution_count": 13,
      "id": "34dd9269",
      "metadata": {
        "colab": {
          "base_uri": "https://localhost:8080/"
        },
        "id": "34dd9269",
        "outputId": "8a6cfa24-4257-4c5e-8091-58d601cd22da"
      },
      "outputs": [
        {
          "name": "stdout",
          "output_type": "stream",
          "text": [
            "Refined user input: Find the path from node 56203 to node 38803 for nodes of type 'node' and list the full node properties of the path.\n",
            "-----\n",
            "Cypher Query is MATCH p=(:Node_201511060000 {id: '56203'})-[:CONNECTS_201511060000*]->(:Node_201511060000 {id: '38803'})\n",
            "RETURN nodes(p)\n",
            "\n",
            "\n",
            "Neo4j answer is []\n",
            "\n",
            "\n",
            "Retrying output string\n",
            "The path from node 56203 to node 38803 for nodes of type 'node' does not exist.\n"
          ]
        }
      ],
      "source": [
        "question = \"\"\"\n",
        "Does a path exist from node 56203 to node 38803 for nodes of type node? If so what is the path with full node properties.\n",
        "\"\"\"\n",
        "question = refine_prompt(question)[\"updated_user_prompt\"]\n",
        "print(\"Refined user input:\", question)\n",
        "print(\"-----\")\n",
        "response = lang_chain_custom(question,driver,model='gpt-4')\n",
        "print(response)"
      ]
    },
    {
      "cell_type": "code",
      "execution_count": 14,
      "id": "476bfcab",
      "metadata": {
        "colab": {
          "base_uri": "https://localhost:8080/"
        },
        "id": "476bfcab",
        "outputId": "f606f850-ca5b-4caa-ca9b-3dfd87a4f10b"
      },
      "outputs": [
        {
          "name": "stdout",
          "output_type": "stream",
          "text": [
            "Refined user input: Find the path from node 3356 to node 7018 for nodes of type node_2.\n",
            "-----\n",
            "Cypher Query is MATCH path=(:Node_201511060000 {id: '3356'})-[:CONNECTS_201511060000*]->(:Node_201511060000 {id: '7018'})\n",
            "RETURN path\n",
            "\n",
            "\n",
            "Neo4j answer is [{'path': [{'id': '3356'}, 'CONNECTS_201511060000', {'id': '2914'}, 'CONNECTS_201511060000', {'id': '3257'}, 'CONNECTS_201511060000', {'id': '2914'}, 'CONNECTS_201511060000', {'id': '3356'}, 'CONNECTS_201511060000', {'id': '3257'}, 'CONNECTS_201511060000', {'id': '3356'}, 'CONNECTS_201511060000', {'id': '3549'}, 'CONNECTS_201511060000', {'id': '3356'}, 'CONNECTS_201511060000', {'id': '7018'}]}, {'path': [{'id': '3356'}, 'CONNECTS_201511060000', {'id': '2914'}, 'CONNECTS_201511060000', {'id': '3257'}, 'CONNECTS_201511060000', {'id': '2914'}, 'CONNECTS_201511060000', {'id': '3356'}, 'CONNECTS_201511060000', {'id': '3257'}, 'CONNECTS_201511060000', {'id': '3356'}, 'CONNECTS_201511060000', {'id': '7018'}]}, {'path': [{'id': '3356'}, 'CONNECTS_201511060000', {'id': '2914'}, 'CONNECTS_201511060000', {'id': '3257'}, 'CONNECTS_201511060000', {'id': '2914'}, 'CONNECTS_201511060000', {'id': '3356'}, 'CONNECTS_201511060000', {'id': '3257'}, 'CONNECTS_201511060000', {'id': '3549'}, 'CONNECTS_201511060000', {'id': '3356'}, 'CONNECTS_201511060000', {'id': '7018'}]}, {'path': [{'id': '3356'}, 'CONNECTS_201511060000', {'id': '2914'}, 'CONNECTS_201511060000', {'id': '3257'}, 'CONNECTS_201511060000', {'id': '2914'}, 'CONNECTS_201511060000', {'id': '3356'}, 'CONNECTS_201511060000', {'id': '3257'}, 'CONNECTS_201511060000', {'id': '1299'}, 'CONNECTS_201511060000', {'id': '3257'}, 'CONNECTS_201511060000', {'id': '3356'}, 'CONNECTS_201511060000', {'id': '3549'}, 'CONNECTS_201511060000', {'id': '3356'}, 'CONNECTS_201511060000', {'id': '7018'}]}, {'path': [{'id': '3356'}, 'CONNECTS_201511060000', {'id': '2914'}, 'CONNECTS_201511060000', {'id': '3257'}, 'CONNECTS_201511060000', {'id': '2914'}, 'CONNECTS_201511060000', {'id': '3356'}, 'CONNECTS_201511060000', {'id': '3257'}, 'CONNECTS_201511060000', {'id': '1299'}, 'CONNECTS_201511060000', {'id': '3257'}, 'CONNECTS_201511060000', {'id': '3356'}, 'CONNECTS_201511060000', {'id': '7018'}]}, {'path': [{'id': '3356'}, 'CONNECTS_201511060000', {'id': '2914'}, 'CONNECTS_201511060000', {'id': '3257'}, 'CONNECTS_201511060000', {'id': '2914'}, 'CONNECTS_201511060000', {'id': '3356'}, 'CONNECTS_201511060000', {'id': '3257'}, 'CONNECTS_201511060000', {'id': '1299'}, 'CONNECTS_201511060000', {'id': '3257'}, 'CONNECTS_201511060000', {'id': '3549'}, 'CONNECTS_201511060000', {'id': '3356'}, 'CONNECTS_201511060000', {'id': '7018'}]}, {'path': [{'id': '3356'}, 'CONNECTS_201511060000', {'id': '2914'}, 'CONNECTS_201511060000', {'id': '3257'}, 'CONNECTS_201511060000', {'id': '2914'}, 'CONNECTS_201511060000', {'id': '3356'}, 'CONNECTS_201511060000', {'id': '3257'}, 'CONNECTS_201511060000', {'id': '1299'}, 'CONNECTS_201511060000', {'id': '3257'}, 'CONNECTS_201511060000', {'id': '7018'}]}, {'path': [{'id': '3356'}, 'CONNECTS_201511060000', {'id': '2914'}, 'CONNECTS_201511060000', {'id': '3257'}, 'CONNECTS_201511060000', {'id': '2914'}, 'CONNECTS_201511060000', {'id': '3356'}, 'CONNECTS_201511060000', {'id': '3257'}, 'CONNECTS_201511060000', {'id': '1299'}, 'CONNECTS_201511060000', {'id': '3257'}, 'CONNECTS_201511060000', {'id': '174'}, 'CONNECTS_201511060000', {'id': '3257'}, 'CONNECTS_201511060000', {'id': '3356'}, 'CONNECTS_201511060000', {'id': '3549'}, 'CONNECTS_201511060000', {'id': '3356'}, 'CONNECTS_201511060000', {'id': '7018'}]}, {'path': [{'id': '3356'}, 'CONNECTS_201511060000', {'id': '2914'}, 'CONNECTS_201511060000', {'id': '3257'}, 'CONNECTS_201511060000', {'id': '2914'}, 'CONNECTS_201511060000', {'id': '3356'}, 'CONNECTS_201511060000', {'id': '3257'}, 'CONNECTS_201511060000', {'id': '1299'}, 'CONNECTS_201511060000', {'id': '3257'}, 'CONNECTS_201511060000', {'id': '174'}, 'CONNECTS_201511060000', {'id': '3257'}, 'CONNECTS_201511060000', {'id': '3356'}, 'CONNECTS_201511060000', {'id': '7018'}]}, {'path': [{'id': '3356'}, 'CONNECTS_201511060000', {'id': '2914'}, 'CONNECTS_201511060000', {'id': '3257'}, 'CONNECTS_201511060000', {'id': '2914'}, 'CONNECTS_201511060000', {'id': '3356'}, 'CONNECTS_201511060000', {'id': '3257'}, 'CONNECTS_201511060000', {'id': '1299'}, 'CONNECTS_201511060000', {'id': '3257'}, 'CONNECTS_201511060000', {'id': '174'}, 'CONNECTS_201511060000', {'id': '3257'}, 'CONNECTS_201511060000', {'id': '3549'}, 'CONNECTS_201511060000', {'id': '3356'}, 'CONNECTS_201511060000', {'id': '7018'}]}]\n",
            "\n",
            "\n",
            "There are several paths from node 3356 to node 7018 for nodes of type node_2. Here are the paths:\n",
            "\n",
            "Path 1: 3356 → 2914 → 3257 → 2914 → 3356 → 3257 → 3356 → 3549 → 3356 → 7018\n",
            "Path 2: 3356 → 2914 → 3257 → 2914 → 3356 → 3257 → 3356 → 7018\n",
            "Path 3: 3356 → 2914 → 3257 → 2914 → 3356 → 3257 → 3549 → 3356 → 7018\n",
            "Path 4: 3356 → 2914 → 3257 → 2914 → 3356 → 3257 → 1299 → 3257 → 3356 → 3549 → 3356 → 7018\n",
            "Path 5: 3356 → 2914 → 3257 → 2914 → 3356 → 3257 → 1299 → 3257 → 3356 → 7018\n",
            "Path 6: 3356 → 2914 → 3257 → 2914 → 3356 → 3257 → 1299 → 3257 → 3549 → 3356 → 7018\n",
            "Path 7: 3356 → 2914 → 3257 → 2914 → 3356 → 3257 → 1299 → 3257 → 7018\n",
            "Path 8: 3356 → 2914 → 3257 → 2914 → 3356 → 3257 → 1299 → 3257 → 174 → 3257 → 3356 → 3549 → 3356 → 7018\n",
            "Path 9: 3356 → 2914 → 3257 → 2914 → 3356 → 3257 → 1299 → 3257 → 174 → 3257 → 3356 → 7018\n",
            "Path 10: 3356 → 2914 → 3257 → 2914 → 3356 → 3257 → 1299 → 3257 → 174 → 3257 → 3549 → 3356 → 7018\n",
            "\n",
            "Each arrow → represents a connection between nodes.\n"
          ]
        }
      ],
      "source": [
        "question = \"\"\"\n",
        "Does a path exist from node 3356 to node 7018 for nodes of type node_2? If so what is the path?\n",
        "\"\"\"\n",
        "question = refine_prompt(question)[\"updated_user_prompt\"]\n",
        "print(\"Refined user input:\", question)\n",
        "print(\"-----\")\n",
        "response = lang_chain_custom(question,driver,model='gpt-4')\n",
        "print(response)"
      ]
    },
    {
      "cell_type": "code",
      "execution_count": 15,
      "id": "a691dcba",
      "metadata": {
        "colab": {
          "base_uri": "https://localhost:8080/"
        },
        "id": "a691dcba",
        "outputId": "95647a43-e7eb-4263-9c5f-25ddb8667ddf"
      },
      "outputs": [
        {
          "name": "stdout",
          "output_type": "stream",
          "text": [
            "Refined user input: Find the path from node 4777 to node 7671 for nodes of type node_2.\n",
            "-----\n",
            "Cypher Query is MATCH path = (n:Node_201511060000 {id: '4777'})-[:CONNECTS_201511060000*]->(m:Node_201511060000 {id: '7671'})\n",
            "RETURN path\n",
            "\n",
            "\n",
            "Neo4j answer is []\n",
            "\n",
            "\n",
            "Retrying output string\n",
            "The path from node 4777 to node 7671 does not exist.\n"
          ]
        }
      ],
      "source": [
        "question = \"\"\"\n",
        "Does a path exist from node 4777 to node 7671 for nodes of type node_2? If so what is the path?\n",
        "\"\"\"\n",
        "question = refine_prompt(question)[\"updated_user_prompt\"]\n",
        "print(\"Refined user input:\", question)\n",
        "print(\"-----\")\n",
        "response = lang_chain_custom(question,driver,model='gpt-4')\n",
        "print(response)"
      ]
    },
    {
      "cell_type": "code",
      "execution_count": 16,
      "id": "4dfdd683",
      "metadata": {
        "colab": {
          "base_uri": "https://localhost:8080/"
        },
        "id": "4dfdd683",
        "outputId": "6f3818ad-81b7-4a36-9cc9-e4a140536bfd"
      },
      "outputs": [
        {
          "name": "stdout",
          "output_type": "stream",
          "text": [
            "Refined user input: Find the path from node 123 to node 7671 for nodes of type node_2.\n",
            "-----\n",
            "Cypher Query is MATCH path = (a:Node_201511060000{id:'123'})-[:CONNECTS_201511060000*]->(b:Node_201511060000{id:'7671'}) RETURN path\n",
            "\n",
            "\n",
            "Neo4j answer is []\n",
            "\n",
            "\n",
            "Retrying output string\n",
            "The path from node 123 to node 7671 for nodes of type node_2 does not exist.\n"
          ]
        }
      ],
      "source": [
        "question = \"\"\"\n",
        "Does a path exist from node 123 to node 7671 for nodes of type node_2? If so what is the path?\n",
        "\"\"\"\n",
        "question = refine_prompt(question)[\"updated_user_prompt\"]\n",
        "print(\"Refined user input:\", question)\n",
        "print(\"-----\")\n",
        "response = lang_chain_custom(question,driver,model='gpt-4')\n",
        "print(response)"
      ]
    },
    {
      "cell_type": "code",
      "execution_count": 17,
      "id": "bed12bd1",
      "metadata": {
        "colab": {
          "base_uri": "https://localhost:8080/"
        },
        "id": "bed12bd1",
        "outputId": "53532a32-437f-4ee3-a140-2b5bc7327dd1"
      },
      "outputs": [
        {
          "name": "stdout",
          "output_type": "stream",
          "text": [
            "Refined user input: Find the number of paths between node 56203 and node 38803 for nodes of type node.\n",
            "-----\n",
            "Cypher Query is MATCH path = (:Node_201511060000 {id: '56203'})-[:CONNECTS_201511060000*]->(:Node_201511060000 {id: '38803'})\n",
            "RETURN COUNT(path) AS NumberOfPaths\n",
            "\n",
            "\n",
            "Neo4j answer is [{'NumberOfPaths': 0}]\n",
            "\n",
            "\n",
            "There are no paths between node 56203 and node 38803 for nodes of type node.\n"
          ]
        }
      ],
      "source": [
        "question = \"\"\"\n",
        "How many path exists from node 56203 to node 38803 for nodes of type node?\n",
        "\"\"\"\n",
        "question = refine_prompt(question)[\"updated_user_prompt\"]\n",
        "print(\"Refined user input:\", question)\n",
        "print(\"-----\")\n",
        "response = lang_chain_custom(question,driver,model='gpt-4')\n",
        "print(response)"
      ]
    },
    {
      "cell_type": "code",
      "execution_count": 18,
      "id": "a1b7b373",
      "metadata": {
        "colab": {
          "base_uri": "https://localhost:8080/"
        },
        "id": "a1b7b373",
        "outputId": "c815af7b-1240-4fc6-b367-134c67362856"
      },
      "outputs": [
        {
          "name": "stdout",
          "output_type": "stream",
          "text": [
            "Refined user input: Find the number of paths from node 3356 to node 7018 that traverse nodes of type 'node'.\n",
            "-----\n",
            "Cypher Query is MATCH p=(n:Node_201511060000{id:'3356'})-[:CONNECTS_201511060000*]->(m:Node_201511060000{id:'7018'})\n",
            "RETURN count(p) as number_of_paths\n",
            "\n",
            "\n",
            "Neo4j answer is [{'number_of_paths': 9451}]\n",
            "\n",
            "\n",
            "There are 9451 paths from node 3356 to node 7018 that traverse nodes of type 'node'.\n"
          ]
        }
      ],
      "source": [
        "question = \"\"\"\n",
        "How many path exists from node 3356 to node 7018 for nodes of type node?\n",
        "\"\"\"\n",
        "question = refine_prompt(question)[\"updated_user_prompt\"]\n",
        "print(\"Refined user input:\", question)\n",
        "print(\"-----\")\n",
        "response = lang_chain_custom(question,driver,model='gpt-4')\n",
        "print(response)"
      ]
    },
    {
      "cell_type": "code",
      "execution_count": 19,
      "id": "b4e18aa9",
      "metadata": {
        "colab": {
          "base_uri": "https://localhost:8080/"
        },
        "id": "b4e18aa9",
        "outputId": "cd5e79ee-7fc2-490a-9bab-45a71edbeb11"
      },
      "outputs": [
        {
          "name": "stdout",
          "output_type": "stream",
          "text": [
            "Refined user input: Find the number of paths from node 56203 to node 38803 for nodes of type node_2.\n",
            "-----\n",
            "Cypher Query is MATCH path=(n:Node_201511060000{id: '56203'})-[:CONNECTS_201511060000*]->(m:Node_201511060000{id: '38803'})\n",
            "RETURN count(path) AS NumberOfPaths\n",
            "\n",
            "\n",
            "Neo4j answer is [{'NumberOfPaths': 0}]\n",
            "\n",
            "\n",
            "There are no paths from node 56203 to node 38803 for nodes of type node_2.\n"
          ]
        }
      ],
      "source": [
        "question = \"\"\"\n",
        "How many path exists from node 56203 to node 38803 for nodes of type node_2?\n",
        "\"\"\"\n",
        "question = refine_prompt(question)[\"updated_user_prompt\"]\n",
        "print(\"Refined user input:\", question)\n",
        "print(\"-----\")\n",
        "response = lang_chain_custom(question,driver,model='gpt-4')\n",
        "print(response)"
      ]
    },
    {
      "cell_type": "code",
      "execution_count": 20,
      "id": "9c1b1d5c",
      "metadata": {
        "colab": {
          "base_uri": "https://localhost:8080/"
        },
        "id": "9c1b1d5c",
        "outputId": "58a2816c-74fb-4caf-b57c-aaeea75e4acb"
      },
      "outputs": [
        {
          "name": "stdout",
          "output_type": "stream",
          "text": [
            "Refined user input: Find the number of paths from node 2519 to node 10026 of type node_2 and identify the specific paths.\n",
            "-----\n",
            "Cypher Query is MATCH path = (start:Node_201511060000 {id:\"2519\"})-[:CONNECTS_201511060000*]->(end:Node_201511060000 {id:\"10026\"})\n",
            "RETURN path, length(path) AS path_length\n",
            "\n",
            "\n",
            "Neo4j answer is []\n",
            "\n",
            "\n",
            "Retrying output string\n",
            "The paths from node 2519 to node 10026 of type node_2 do not exist.\n"
          ]
        }
      ],
      "source": [
        "question = \"\"\"\n",
        "How many path exists from node 2519 to node 10026 for nodes of type node_2? What are they?\n",
        "\"\"\"\n",
        "question = refine_prompt(question)[\"updated_user_prompt\"]\n",
        "print(\"Refined user input:\", question)\n",
        "print(\"-----\")\n",
        "response = lang_chain_custom(question,driver,model='gpt-4')\n",
        "print(response)"
      ]
    },
    {
      "cell_type": "code",
      "execution_count": 21,
      "id": "83daff02",
      "metadata": {
        "colab": {
          "base_uri": "https://localhost:8080/"
        },
        "id": "83daff02",
        "outputId": "2c8e4474-645d-4a37-de0c-9deb65038f07"
      },
      "outputs": [
        {
          "name": "stdout",
          "output_type": "stream",
          "text": [
            "Refined user input: Find all paths from node 2519 to node 10026 for nodes of type node?\n",
            "-----\n",
            "Cypher Query is MATCH path = (n:Node_201511060000 {id: '2519'})-[:CONNECTS_201511060000*]->(m:Node_201511060000 {id: '10026'}) \n",
            "RETURN path\n",
            "\n",
            "\n",
            "Neo4j answer is []\n",
            "\n",
            "\n",
            "Retrying output string\n",
            "The paths between node 2519 and node 10026 for nodes of type node do not exist.\n"
          ]
        }
      ],
      "source": [
        "question = \"\"\"\n",
        "Return all paths from node 2519 to node 10026 for nodes of type node?\n",
        "\"\"\"\n",
        "question = refine_prompt(question)[\"updated_user_prompt\"]\n",
        "print(\"Refined user input:\", question)\n",
        "print(\"-----\")\n",
        "response = lang_chain_custom(question,driver,model='gpt-4')\n",
        "print(response)"
      ]
    },
    {
      "cell_type": "code",
      "execution_count": 22,
      "id": "1556db7e",
      "metadata": {
        "colab": {
          "base_uri": "https://localhost:8080/"
        },
        "id": "1556db7e",
        "outputId": "00a9931f-afff-470d-9ac6-c8550b6e854d"
      },
      "outputs": [
        {
          "name": "stdout",
          "output_type": "stream",
          "text": [
            "Refined user input: Find all paths from node 56203 to node 6939 where nodes are of type 'node'.\n",
            "-----\n",
            "Cypher Query is MATCH path = (a:Node_201511060000 {id: \"56203\"})-[:CONNECTS_201511060000*]->(b:Node_201511060000 {id: \"6939\"})\n",
            "RETURN path\n",
            "\n",
            "\n",
            "Neo4j answer is []\n",
            "\n",
            "\n",
            "Whatever you asked for does not exist.\n"
          ]
        }
      ],
      "source": [
        "question = \"\"\"\n",
        "What are all the paths from node 56203 to node 6939 for nodes of type node?\n",
        "\"\"\"\n",
        "question = refine_prompt(question)[\"updated_user_prompt\"]\n",
        "print(\"Refined user input:\", question)\n",
        "print(\"-----\")\n",
        "response = lang_chain_custom(question,driver,model='gpt-4')\n",
        "print(response)"
      ]
    },
    {
      "cell_type": "code",
      "execution_count": 23,
      "id": "9f0d9e4d",
      "metadata": {
        "colab": {
          "base_uri": "https://localhost:8080/"
        },
        "id": "9f0d9e4d",
        "outputId": "61d1bd63-0b56-4fb4-8b0e-1a663a6eac9a"
      },
      "outputs": [
        {
          "name": "stdout",
          "output_type": "stream",
          "text": [
            "Refined user input: Find the shortest path between node 2519 and node 10026 for nodes with type node_2.\n",
            "-----\n",
            "Cypher Query is MATCH path=shortestPath((n1:Node_201511060000 {id: '2519'})-[:CONNECTS_201511060000*]-(n2:Node_201511060000 {id: '10026'}))\n",
            "RETURN path\n",
            "\n",
            "\n",
            "Neo4j answer is []\n",
            "\n",
            "\n",
            "Retrying output string\n",
            "The path between node 2519 and node 10026 does not exist.\n"
          ]
        }
      ],
      "source": [
        "question = \"\"\"\n",
        "What is the shortest path from node 2519 to node 10026 for nodes of type node_2?\n",
        "\"\"\"\n",
        "question = refine_prompt(question)[\"updated_user_prompt\"]\n",
        "print(\"Refined user input:\", question)\n",
        "print(\"-----\")\n",
        "response = lang_chain_custom(question,driver,model='gpt-4')\n",
        "print(response)"
      ]
    },
    {
      "cell_type": "code",
      "execution_count": 24,
      "id": "c5e4565a",
      "metadata": {
        "colab": {
          "base_uri": "https://localhost:8080/"
        },
        "id": "c5e4565a",
        "outputId": "f9ba2961-00fc-4589-911e-7cd57ebf846d"
      },
      "outputs": [
        {
          "name": "stdout",
          "output_type": "stream",
          "text": [
            "Refined user input: Find the longest existing path for nodes of type node_2 in the graph database.\n",
            "-----\n",
            "Cypher Query is MATCH path = (:Node_201511060000)-[:CONNECTS_201511060000*]->(:Node_201511060000)\n",
            "RETURN path\n",
            "ORDER BY length(path) DESC\n",
            "LIMIT 1\n",
            "\n",
            "\n"
          ]
        }
      ],
      "source": [
        "question = \"\"\"\n",
        "What is the longest existing path for nodes of type node_2?\n",
        "\"\"\"\n",
        "question = refine_prompt(question)[\"updated_user_prompt\"]\n",
        "print(\"Refined user input:\", question)\n",
        "print(\"-----\")\n",
        "response = lang_chain_custom(question,driver,model='gpt-4')\n",
        "print(response)"
      ]
    },
    {
      "cell_type": "code",
      "execution_count": null,
      "id": "6c387bd3",
      "metadata": {
        "colab": {
          "base_uri": "https://localhost:8080/"
        },
        "id": "6c387bd3",
        "outputId": "5f3a6eac-4da1-4e4a-b184-4dcc8b70783e"
      },
      "outputs": [
        {
          "name": "stdout",
          "output_type": "stream",
          "text": [
            "Refined user input: Find the path between nodes 2519 and 18144 if they are of type 'node'?\n",
            "-----\n",
            "Cypher Query is MATCH path = (n:Node{id:'2519'})-[:CONNECTS*..5]->(m:Node{id:'18144'})\n",
            "RETURN path\n",
            "\n",
            "\n",
            "Neo4j answer is []\n",
            "\n",
            "\n",
            "Retrying output string\n",
            "The path between nodes 2519 and 18144 does not exist.\n"
          ]
        }
      ],
      "source": [
        "question = \"\"\"\n",
        "Does a path exist from node 2519 to node 18144 for nodes of type node? If so what is the path?\n",
        "\"\"\"\n",
        "question = refine_prompt(question)[\"updated_user_prompt\"]\n",
        "print(\"Refined user input:\", question)\n",
        "print(\"-----\")\n",
        "response = lang_chain_custom(question,driver,model='gpt-4')\n",
        "print(response)"
      ]
    },
    {
      "cell_type": "code",
      "execution_count": null,
      "id": "d6da97e4",
      "metadata": {
        "colab": {
          "base_uri": "https://localhost:8080/"
        },
        "id": "d6da97e4",
        "outputId": "92f0f170-b8f6-4290-b436-e2e38ab04923"
      },
      "outputs": [
        {
          "name": "stdout",
          "output_type": "stream",
          "text": [
            "Refined user input: Determine if node 10026 is reachable from node 2519, and provide the path if it is.\n",
            "-----\n",
            "Cypher Query is MATCH path=(:Node {id:'2519'})-[:CONNECTS*]->(:Node {id:'10026'}) RETURN path\n",
            "\n",
            "\n",
            "Neo4j answer is [{'path': [{'country': 'JP', 'upstream': '3', 'downstream': '64', 'rank': '314', 'id': '2519', 'as_name': 'VECTANT'}, 'CONNECTS', {'country': 'AU', 'id': '10026', 'org_name': 'Telstra International Limited', 'as_name': 'TELSTRAGLOBAL'}]}]\n",
            "\n",
            "\n",
            "Yes, node 10026 is reachable from node 2519. The path is through node 3 and node 64.\n"
          ]
        }
      ],
      "source": [
        "question = \"\"\"\n",
        "Is node 10026 reachable from node 2519? If so, what is the path?\n",
        "\"\"\"\n",
        "question = refine_prompt(question)[\"updated_user_prompt\"]\n",
        "print(\"Refined user input:\", question)\n",
        "print(\"-----\")\n",
        "response = lang_chain_custom(question,driver,model='gpt-4')\n",
        "print(response)"
      ]
    },
    {
      "cell_type": "code",
      "execution_count": null,
      "id": "996b77ed",
      "metadata": {
        "colab": {
          "base_uri": "https://localhost:8080/"
        },
        "id": "996b77ed",
        "outputId": "48408fde-12f0-439c-b464-bda096e4e2ee"
      },
      "outputs": [
        {
          "name": "stdout",
          "output_type": "stream",
          "text": [
            "Refined user input: Find the path, if any, from node 2519 to node 18144.\n",
            "-----\n",
            "Cypher Query is MATCH path = (n:Node{id:'2519'})-[:CONNECTS*]->(m:Node{id:'18144'}) RETURN path\n",
            "\n",
            "\n",
            "Neo4j answer is []\n",
            "\n",
            "\n",
            "The path from node 2519 to node 18144 does not exist.\n"
          ]
        }
      ],
      "source": [
        "question = \"\"\"\n",
        "Is node 18144 reachable from node 2519? If so, what is the path?\n",
        "\"\"\"\n",
        "question = refine_prompt(question)[\"updated_user_prompt\"]\n",
        "print(\"Refined user input:\", question)\n",
        "print(\"-----\")\n",
        "response = lang_chain_custom(question,driver,model='gpt-4')\n",
        "print(response)"
      ]
    },
    {
      "cell_type": "code",
      "execution_count": null,
      "id": "52b8c61b",
      "metadata": {
        "colab": {
          "base_uri": "https://localhost:8080/"
        },
        "id": "52b8c61b",
        "outputId": "47f2e324-4e86-4732-f758-fa57b2a40962"
      },
      "outputs": [
        {
          "name": "stdout",
          "output_type": "stream",
          "text": [
            "Refined user input: Find the number of paths that traverse through node 10026, considering only one path for each ending node.\n",
            "-----\n",
            "Cypher Query is MATCH (n {id: '10026'})-[r*]->(m)\n",
            "WITH COUNT(DISTINCT LAST (r)) AS Paths\n",
            "RETURN Paths\n",
            "\n",
            "\n",
            "Neo4j answer is [{'Paths': 96}]\n",
            "\n",
            "\n",
            "Retrying output string\n",
            "There are no paths that traverse through node 10026.\n"
          ]
        }
      ],
      "source": [
        "question = \"\"\"\n",
        "How many paths traverse through node 10026? For each ending node,consider only one path\n",
        "\"\"\"\n",
        "question = refine_prompt(question)[\"updated_user_prompt\"]\n",
        "print(\"Refined user input:\", question)\n",
        "print(\"-----\")\n",
        "response = lang_chain_custom(question,driver,model='gpt-4')\n",
        "print(response)"
      ]
    },
    {
      "cell_type": "code",
      "execution_count": null,
      "id": "c4c47d18",
      "metadata": {
        "colab": {
          "base_uri": "https://localhost:8080/"
        },
        "id": "c4c47d18",
        "outputId": "78cd95a0-942a-4477-a358-b27f2475f8b9"
      },
      "outputs": [
        {
          "name": "stdout",
          "output_type": "stream",
          "text": [
            "Refined user input: Find the change in number of paths from node 18144 to node 7670 between graph nodes of type Node at time t1 and Node_2 at time t2.\n",
            "-----\n",
            "Cypher Query is MATCH p1=(a:Node {id: '18144'})-[:CONNECTS*]->(b:Node {id: '7670'})\n",
            "WITH count(p1) as paths_t1\n",
            "MATCH p2=(c:Node_2 {id: '18144'})-[:CONNECTS_2*]->(d:Node_2 {id: '7670'})\n",
            "RETURN count(p2) - paths_t1 as change_in_paths\n",
            "\n",
            "\n",
            "Retrying\n",
            "New Cypher Query is MATCH p1=(a:Node {id: '18144'})-[:CONNECTS*]->(b:Node {id: '7670'})\n",
            "WITH count(p1) as paths_t1\n",
            "MATCH p2=(c:Node_2 {id: '18144'})-[:CONNECTS_2*]->(d:Node_2 {id: '7670'})\n",
            "WITH count(p2) as paths_t2, paths_t1\n",
            "RETURN paths_t2 - paths_t1 as change_in_paths\n",
            "\n",
            "\n",
            "Neo4j answer is [{'change_in_paths': 15}]\n",
            "\n",
            "\n",
            "The change in the number of paths from node 18144 to node 7670 between graph nodes of type Node at time t1 and Node_2 at time t2 is 15.\n"
          ]
        }
      ],
      "source": [
        "question = \"\"\"\n",
        "Consider all nodes of node type Node as graph at time t1 and all nodes of type Node_2 as graph at time t2\n",
        "Between t1 and t2, are there any change in number of paths from node 18144 to node 7670?\n",
        "\"\"\"\n",
        "question = refine_prompt(question)[\"updated_user_prompt\"]\n",
        "print(\"Refined user input:\", question)\n",
        "print(\"-----\")\n",
        "response = lang_chain_custom(question,driver,model='gpt-4')\n",
        "print(response)"
      ]
    },
    {
      "cell_type": "code",
      "execution_count": null,
      "id": "7a9a7960",
      "metadata": {
        "colab": {
          "base_uri": "https://localhost:8080/"
        },
        "id": "7a9a7960",
        "outputId": "26df1628-2563-479a-f7fa-b077268be3d8"
      },
      "outputs": [
        {
          "name": "stdout",
          "output_type": "stream",
          "text": [
            "Refined user input: Find the differences in paths between Node 2519 and Node 10026 between t1 and t2 in Graphs of Node and Node_2.\n",
            "-----\n",
            "Cypher Query is MATCH path1 = (n:Node {id: '2519'})-[:CONNECTS*]->(m:Node {id: '10026'})\n",
            "MATCH path2 = (n1:Node_2 {id: '2519'})-[:CONNECTS_2*]->(m1:Node_2 {id: '10026'})\n",
            "RETURN path1, path2\n",
            "\n",
            "\n",
            "Neo4j answer is [{'path1': [{'country': 'JP', 'upstream': '3', 'downstream': '64', 'rank': '314', 'id': '2519', 'as_name': 'VECTANT'}, 'CONNECTS', {'country': 'AU', 'id': '10026', 'org_name': 'Telstra International Limited', 'as_name': 'TELSTRAGLOBAL'}], 'path2': [{'country': 'JP', 'upstream': '3', 'downstream': '64', 'rank': '314', 'id': '2519', 'as_name': 'VECTANT'}, 'CONNECTS_2', {'country': 'AU', 'upstream': '2', 'downstream': '225', 'rank': '61', 'id': '1221', 'org_name': 'Telstra Corporation Limited', 'as_name': 'ASN-TELSTRA'}, 'CONNECTS_2', {'country': 'AU', 'upstream': '2', 'downstream': '0', 'rank': '9740', 'id': '38803', 'org_name': 'Wirefreebroadband Pty Ltd', 'as_name': 'WPL-AS-AP'}, 'CONNECTS_2', {'country': 'AU', 'upstream': '8', 'downstream': '437', 'rank': '920', 'id': '4826', 'org_name': 'VOCUS PTY LTD', 'as_name': 'VOCUS-BACKBONE-AS'}, 'CONNECTS_2', {'country': 'AU', 'upstream': '3', 'downstream': '193', 'rank': '3029', 'id': '4608', 'org_name': 'Asia Pacific Network Information Centre', 'as_name': 'APNIC-SERVICES'}, 'CONNECTS_2', {'country': 'AU', 'id': '10026', 'org_name': 'Telstra International Limited', 'as_name': 'TELSTRAGLOBAL'}]}, {'path1': [{'country': 'JP', 'upstream': '3', 'downstream': '64', 'rank': '314', 'id': '2519', 'as_name': 'VECTANT'}, 'CONNECTS', {'country': 'AU', 'id': '10026', 'org_name': 'Telstra International Limited', 'as_name': 'TELSTRAGLOBAL'}], 'path2': [{'country': 'JP', 'upstream': '3', 'downstream': '64', 'rank': '314', 'id': '2519', 'as_name': 'VECTANT'}, 'CONNECTS_2', {'country': 'AU', 'upstream': '2', 'downstream': '225', 'rank': '61', 'id': '1221', 'org_name': 'Telstra Corporation Limited', 'as_name': 'ASN-TELSTRA'}, 'CONNECTS_2', {'country': 'AU', 'upstream': '2', 'downstream': '0', 'rank': '9740', 'id': '38803', 'org_name': 'Wirefreebroadband Pty Ltd', 'as_name': 'WPL-AS-AP'}, 'CONNECTS_2', {'country': 'AU', 'upstream': '2', 'downstream': '225', 'rank': '61', 'id': '1221', 'org_name': 'Telstra Corporation Limited', 'as_name': 'ASN-TELSTRA'}, 'CONNECTS_2', {'country': 'AU', 'upstream': '3', 'downstream': '193', 'rank': '3029', 'id': '4608', 'org_name': 'Asia Pacific Network Information Centre', 'as_name': 'APNIC-SERVICES'}, 'CONNECTS_2', {'country': 'AU', 'id': '10026', 'org_name': 'Telstra International Limited', 'as_name': 'TELSTRAGLOBAL'}]}, {'path1': [{'country': 'JP', 'upstream': '3', 'downstream': '64', 'rank': '314', 'id': '2519', 'as_name': 'VECTANT'}, 'CONNECTS', {'country': 'AU', 'id': '10026', 'org_name': 'Telstra International Limited', 'as_name': 'TELSTRAGLOBAL'}], 'path2': [{'country': 'JP', 'upstream': '3', 'downstream': '64', 'rank': '314', 'id': '2519', 'as_name': 'VECTANT'}, 'CONNECTS_2', {'country': 'AU', 'upstream': '2', 'downstream': '225', 'rank': '61', 'id': '1221', 'org_name': 'Telstra Corporation Limited', 'as_name': 'ASN-TELSTRA'}, 'CONNECTS_2', {'country': 'AU', 'upstream': '2', 'downstream': '0', 'rank': '9740', 'id': '38803', 'org_name': 'Wirefreebroadband Pty Ltd', 'as_name': 'WPL-AS-AP'}, 'CONNECTS_2', {'country': 'AU', 'upstream': '2', 'downstream': '225', 'rank': '61', 'id': '1221', 'org_name': 'Telstra Corporation Limited', 'as_name': 'ASN-TELSTRA'}, 'CONNECTS_2', {'country': 'AU', 'upstream': '10', 'downstream': '458', 'rank': '555', 'id': '4637', 'org_name': 'Telstra International Limited', 'as_name': 'ASN-TELSTRA-GLOBAL'}, 'CONNECTS_2', {'country': 'AU', 'upstream': '2', 'downstream': '225', 'rank': '61', 'id': '1221', 'org_name': 'Telstra Corporation Limited', 'as_name': 'ASN-TELSTRA'}, 'CONNECTS_2', {'country': 'AU', 'upstream': '3', 'downstream': '193', 'rank': '3029', 'id': '4608', 'org_name': 'Asia Pacific Network Information Centre', 'as_name': 'APNIC-SERVICES'}, 'CONNECTS_2', {'country': 'AU', 'id': '10026', 'org_name': 'Telstra International Limited', 'as_name': 'TELSTRAGLOBAL'}]}, {'path1': [{'country': 'JP', 'upstream': '3', 'downstream': '64', 'rank': '314', 'id': '2519', 'as_name': 'VECTANT'}, 'CONNECTS', {'country': 'AU', 'id': '10026', 'org_name': 'Telstra International Limited', 'as_name': 'TELSTRAGLOBAL'}], 'path2': [{'country': 'JP', 'upstream': '3', 'downstream': '64', 'rank': '314', 'id': '2519', 'as_name': 'VECTANT'}, 'CONNECTS_2', {'country': 'AU', 'upstream': '2', 'downstream': '225', 'rank': '61', 'id': '1221', 'org_name': 'Telstra Corporation Limited', 'as_name': 'ASN-TELSTRA'}, 'CONNECTS_2', {'country': 'AU', 'upstream': '3', 'downstream': '193', 'rank': '3029', 'id': '4608', 'org_name': 'Asia Pacific Network Information Centre', 'as_name': 'APNIC-SERVICES'}, 'CONNECTS_2', {'country': 'AU', 'id': '10026', 'org_name': 'Telstra International Limited', 'as_name': 'TELSTRAGLOBAL'}]}, {'path1': [{'country': 'JP', 'upstream': '3', 'downstream': '64', 'rank': '314', 'id': '2519', 'as_name': 'VECTANT'}, 'CONNECTS', {'country': 'AU', 'id': '10026', 'org_name': 'Telstra International Limited', 'as_name': 'TELSTRAGLOBAL'}], 'path2': [{'country': 'JP', 'upstream': '3', 'downstream': '64', 'rank': '314', 'id': '2519', 'as_name': 'VECTANT'}, 'CONNECTS_2', {'country': 'AU', 'upstream': '2', 'downstream': '225', 'rank': '61', 'id': '1221', 'org_name': 'Telstra Corporation Limited', 'as_name': 'ASN-TELSTRA'}, 'CONNECTS_2', {'country': 'AU', 'upstream': '10', 'downstream': '458', 'rank': '555', 'id': '4637', 'org_name': 'Telstra International Limited', 'as_name': 'ASN-TELSTRA-GLOBAL'}, 'CONNECTS_2', {'country': 'AU', 'upstream': '2', 'downstream': '225', 'rank': '61', 'id': '1221', 'org_name': 'Telstra Corporation Limited', 'as_name': 'ASN-TELSTRA'}, 'CONNECTS_2', {'country': 'AU', 'upstream': '2', 'downstream': '0', 'rank': '9740', 'id': '38803', 'org_name': 'Wirefreebroadband Pty Ltd', 'as_name': 'WPL-AS-AP'}, 'CONNECTS_2', {'country': 'AU', 'upstream': '8', 'downstream': '437', 'rank': '920', 'id': '4826', 'org_name': 'VOCUS PTY LTD', 'as_name': 'VOCUS-BACKBONE-AS'}, 'CONNECTS_2', {'country': 'AU', 'upstream': '3', 'downstream': '193', 'rank': '3029', 'id': '4608', 'org_name': 'Asia Pacific Network Information Centre', 'as_name': 'APNIC-SERVICES'}, 'CONNECTS_2', {'country': 'AU', 'id': '10026', 'org_name': 'Telstra International Limited', 'as_name': 'TELSTRAGLOBAL'}]}, {'path1': [{'country': 'JP', 'upstream': '3', 'downstream': '64', 'rank': '314', 'id': '2519', 'as_name': 'VECTANT'}, 'CONNECTS', {'country': 'AU', 'id': '10026', 'org_name': 'Telstra International Limited', 'as_name': 'TELSTRAGLOBAL'}], 'path2': [{'country': 'JP', 'upstream': '3', 'downstream': '64', 'rank': '314', 'id': '2519', 'as_name': 'VECTANT'}, 'CONNECTS_2', {'country': 'AU', 'upstream': '2', 'downstream': '225', 'rank': '61', 'id': '1221', 'org_name': 'Telstra Corporation Limited', 'as_name': 'ASN-TELSTRA'}, 'CONNECTS_2', {'country': 'AU', 'upstream': '10', 'downstream': '458', 'rank': '555', 'id': '4637', 'org_name': 'Telstra International Limited', 'as_name': 'ASN-TELSTRA-GLOBAL'}, 'CONNECTS_2', {'country': 'AU', 'upstream': '2', 'downstream': '225', 'rank': '61', 'id': '1221', 'org_name': 'Telstra Corporation Limited', 'as_name': 'ASN-TELSTRA'}, 'CONNECTS_2', {'country': 'AU', 'upstream': '2', 'downstream': '0', 'rank': '9740', 'id': '38803', 'org_name': 'Wirefreebroadband Pty Ltd', 'as_name': 'WPL-AS-AP'}, 'CONNECTS_2', {'country': 'AU', 'upstream': '2', 'downstream': '225', 'rank': '61', 'id': '1221', 'org_name': 'Telstra Corporation Limited', 'as_name': 'ASN-TELSTRA'}, 'CONNECTS_2', {'country': 'AU', 'upstream': '3', 'downstream': '193', 'rank': '3029', 'id': '4608', 'org_name': 'Asia Pacific Network Information Centre', 'as_name': 'APNIC-SERVICES'}, 'CONNECTS_2', {'country': 'AU', 'id': '10026', 'org_name': 'Telstra International Limited', 'as_name': 'TELSTRAGLOBAL'}]}, {'path1': [{'country': 'JP', 'upstream': '3', 'downstream': '64', 'rank': '314', 'id': '2519', 'as_name': 'VECTANT'}, 'CONNECTS', {'country': 'AU', 'id': '10026', 'org_name': 'Telstra International Limited', 'as_name': 'TELSTRAGLOBAL'}], 'path2': [{'country': 'JP', 'upstream': '3', 'downstream': '64', 'rank': '314', 'id': '2519', 'as_name': 'VECTANT'}, 'CONNECTS_2', {'country': 'AU', 'upstream': '2', 'downstream': '225', 'rank': '61', 'id': '1221', 'org_name': 'Telstra Corporation Limited', 'as_name': 'ASN-TELSTRA'}, 'CONNECTS_2', {'country': 'AU', 'upstream': '10', 'downstream': '458', 'rank': '555', 'id': '4637', 'org_name': 'Telstra International Limited', 'as_name': 'ASN-TELSTRA-GLOBAL'}, 'CONNECTS_2', {'country': 'AU', 'upstream': '2', 'downstream': '225', 'rank': '61', 'id': '1221', 'org_name': 'Telstra Corporation Limited', 'as_name': 'ASN-TELSTRA'}, 'CONNECTS_2', {'country': 'AU', 'upstream': '3', 'downstream': '193', 'rank': '3029', 'id': '4608', 'org_name': 'Asia Pacific Network Information Centre', 'as_name': 'APNIC-SERVICES'}, 'CONNECTS_2', {'country': 'AU', 'id': '10026', 'org_name': 'Telstra International Limited', 'as_name': 'TELSTRAGLOBAL'}]}]\n",
            "\n",
            "\n",
            "At the first time snapshot, t1, the path from Node 2519 to Node 10026 directly connects the two nodes. However, at the second time snapshot, t2, the path from Node 2519 to Node 10026 includes several additional steps. These steps involve connections to Node 1221, Node 38803, Node 4826, and Node 4608 before reaching Node 10026. Please note that the exact order and number of these intermediate nodes may vary between different instances at the second time snapshot.\n"
          ]
        }
      ],
      "source": [
        "question = \"\"\"\n",
        "Consider all nodes of node type Node as graph at time t1 and all nodes of type Node_2 as graph at time t2\n",
        "Between t1 and t2, have the paths from node 2519 to node 10026 changed? If so, how did it change?\n",
        "\"\"\"\n",
        "question = refine_prompt(question)[\"updated_user_prompt\"]\n",
        "print(\"Refined user input:\", question)\n",
        "print(\"-----\")\n",
        "response = lang_chain_custom(question,driver,model='gpt-4')\n",
        "print(response)"
      ]
    },
    {
      "cell_type": "code",
      "execution_count": null,
      "id": "k6oKpfT8HMRQ",
      "metadata": {
        "colab": {
          "base_uri": "https://localhost:8080/"
        },
        "id": "k6oKpfT8HMRQ",
        "outputId": "44499891-74a6-4ccf-b136-8943f81de0bd"
      },
      "outputs": [
        {
          "name": "stdout",
          "output_type": "stream",
          "text": [
            "Cypher Query is MATCH p1 = (n1:Node {id:'2519'})-[:CONNECTS*]->(n2:Node {id:'10026'})\n",
            "WITH collect(p1) AS paths1\n",
            "MATCH p2 = (n3:Node_2 {id:'2519'})-[:CONNECTS_2*]->(n4:Node_2 {id:'10026'})\n",
            "WITH paths1, collect(p2) AS paths2\n",
            "RETURN paths1, paths2, paths1 <> paths2 AS hasChanged\n",
            "\n",
            "\n",
            "Neo4j answer is [{'paths1': [[{'country': 'JP', 'upstream': '3', 'downstream': '64', 'rank': '314', 'id': '2519', 'as_name': 'VECTANT'}, 'CONNECTS', {'country': 'AU', 'id': '10026', 'org_name': 'Telstra International Limited', 'as_name': 'TELSTRAGLOBAL'}]], 'paths2': [[{'country': 'JP', 'upstream': '3', 'downstream': '64', 'rank': '314', 'id': '2519', 'as_name': 'VECTANT'}, 'CONNECTS_2', {'country': 'AU', 'upstream': '2', 'downstream': '225', 'rank': '61', 'id': '1221', 'org_name': 'Telstra Corporation Limited', 'as_name': 'ASN-TELSTRA'}, 'CONNECTS_2', {'country': 'AU', 'upstream': '2', 'downstream': '0', 'rank': '9740', 'id': '38803', 'org_name': 'Wirefreebroadband Pty Ltd', 'as_name': 'WPL-AS-AP'}, 'CONNECTS_2', {'country': 'AU', 'upstream': '8', 'downstream': '437', 'rank': '920', 'id': '4826', 'org_name': 'VOCUS PTY LTD', 'as_name': 'VOCUS-BACKBONE-AS'}, 'CONNECTS_2', {'country': 'AU', 'upstream': '3', 'downstream': '193', 'rank': '3029', 'id': '4608', 'org_name': 'Asia Pacific Network Information Centre', 'as_name': 'APNIC-SERVICES'}, 'CONNECTS_2', {'country': 'AU', 'id': '10026', 'org_name': 'Telstra International Limited', 'as_name': 'TELSTRAGLOBAL'}], [{'country': 'JP', 'upstream': '3', 'downstream': '64', 'rank': '314', 'id': '2519', 'as_name': 'VECTANT'}, 'CONNECTS_2', {'country': 'AU', 'upstream': '2', 'downstream': '225', 'rank': '61', 'id': '1221', 'org_name': 'Telstra Corporation Limited', 'as_name': 'ASN-TELSTRA'}, 'CONNECTS_2', {'country': 'AU', 'upstream': '2', 'downstream': '0', 'rank': '9740', 'id': '38803', 'org_name': 'Wirefreebroadband Pty Ltd', 'as_name': 'WPL-AS-AP'}, 'CONNECTS_2', {'country': 'AU', 'upstream': '2', 'downstream': '225', 'rank': '61', 'id': '1221', 'org_name': 'Telstra Corporation Limited', 'as_name': 'ASN-TELSTRA'}, 'CONNECTS_2', {'country': 'AU', 'upstream': '3', 'downstream': '193', 'rank': '3029', 'id': '4608', 'org_name': 'Asia Pacific Network Information Centre', 'as_name': 'APNIC-SERVICES'}, 'CONNECTS_2', {'country': 'AU', 'id': '10026', 'org_name': 'Telstra International Limited', 'as_name': 'TELSTRAGLOBAL'}], [{'country': 'JP', 'upstream': '3', 'downstream': '64', 'rank': '314', 'id': '2519', 'as_name': 'VECTANT'}, 'CONNECTS_2', {'country': 'AU', 'upstream': '2', 'downstream': '225', 'rank': '61', 'id': '1221', 'org_name': 'Telstra Corporation Limited', 'as_name': 'ASN-TELSTRA'}, 'CONNECTS_2', {'country': 'AU', 'upstream': '2', 'downstream': '0', 'rank': '9740', 'id': '38803', 'org_name': 'Wirefreebroadband Pty Ltd', 'as_name': 'WPL-AS-AP'}, 'CONNECTS_2', {'country': 'AU', 'upstream': '2', 'downstream': '225', 'rank': '61', 'id': '1221', 'org_name': 'Telstra Corporation Limited', 'as_name': 'ASN-TELSTRA'}, 'CONNECTS_2', {'country': 'AU', 'upstream': '10', 'downstream': '458', 'rank': '555', 'id': '4637', 'org_name': 'Telstra International Limited', 'as_name': 'ASN-TELSTRA-GLOBAL'}, 'CONNECTS_2', {'country': 'AU', 'upstream': '2', 'downstream': '225', 'rank': '61', 'id': '1221', 'org_name': 'Telstra Corporation Limited', 'as_name': 'ASN-TELSTRA'}, 'CONNECTS_2', {'country': 'AU', 'upstream': '3', 'downstream': '193', 'rank': '3029', 'id': '4608', 'org_name': 'Asia Pacific Network Information Centre', 'as_name': 'APNIC-SERVICES'}, 'CONNECTS_2', {'country': 'AU', 'id': '10026', 'org_name': 'Telstra International Limited', 'as_name': 'TELSTRAGLOBAL'}], [{'country': 'JP', 'upstream': '3', 'downstream': '64', 'rank': '314', 'id': '2519', 'as_name': 'VECTANT'}, 'CONNECTS_2', {'country': 'AU', 'upstream': '2', 'downstream': '225', 'rank': '61', 'id': '1221', 'org_name': 'Telstra Corporation Limited', 'as_name': 'ASN-TELSTRA'}, 'CONNECTS_2', {'country': 'AU', 'upstream': '3', 'downstream': '193', 'rank': '3029', 'id': '4608', 'org_name': 'Asia Pacific Network Information Centre', 'as_name': 'APNIC-SERVICES'}, 'CONNECTS_2', {'country': 'AU', 'id': '10026', 'org_name': 'Telstra International Limited', 'as_name': 'TELSTRAGLOBAL'}], [{'country': 'JP', 'upstream': '3', 'downstream': '64', 'rank': '314', 'id': '2519', 'as_name': 'VECTANT'}, 'CONNECTS_2', {'country': 'AU', 'upstream': '2', 'downstream': '225', 'rank': '61', 'id': '1221', 'org_name': 'Telstra Corporation Limited', 'as_name': 'ASN-TELSTRA'}, 'CONNECTS_2', {'country': 'AU', 'upstream': '10', 'downstream': '458', 'rank': '555', 'id': '4637', 'org_name': 'Telstra International Limited', 'as_name': 'ASN-TELSTRA-GLOBAL'}, 'CONNECTS_2', {'country': 'AU', 'upstream': '2', 'downstream': '225', 'rank': '61', 'id': '1221', 'org_name': 'Telstra Corporation Limited', 'as_name': 'ASN-TELSTRA'}, 'CONNECTS_2', {'country': 'AU', 'upstream': '2', 'downstream': '0', 'rank': '9740', 'id': '38803', 'org_name': 'Wirefreebroadband Pty Ltd', 'as_name': 'WPL-AS-AP'}, 'CONNECTS_2', {'country': 'AU', 'upstream': '8', 'downstream': '437', 'rank': '920', 'id': '4826', 'org_name': 'VOCUS PTY LTD', 'as_name': 'VOCUS-BACKBONE-AS'}, 'CONNECTS_2', {'country': 'AU', 'upstream': '3', 'downstream': '193', 'rank': '3029', 'id': '4608', 'org_name': 'Asia Pacific Network Information Centre', 'as_name': 'APNIC-SERVICES'}, 'CONNECTS_2', {'country': 'AU', 'id': '10026', 'org_name': 'Telstra International Limited', 'as_name': 'TELSTRAGLOBAL'}], [{'country': 'JP', 'upstream': '3', 'downstream': '64', 'rank': '314', 'id': '2519', 'as_name': 'VECTANT'}, 'CONNECTS_2', {'country': 'AU', 'upstream': '2', 'downstream': '225', 'rank': '61', 'id': '1221', 'org_name': 'Telstra Corporation Limited', 'as_name': 'ASN-TELSTRA'}, 'CONNECTS_2', {'country': 'AU', 'upstream': '10', 'downstream': '458', 'rank': '555', 'id': '4637', 'org_name': 'Telstra International Limited', 'as_name': 'ASN-TELSTRA-GLOBAL'}, 'CONNECTS_2', {'country': 'AU', 'upstream': '2', 'downstream': '225', 'rank': '61', 'id': '1221', 'org_name': 'Telstra Corporation Limited', 'as_name': 'ASN-TELSTRA'}, 'CONNECTS_2', {'country': 'AU', 'upstream': '2', 'downstream': '0', 'rank': '9740', 'id': '38803', 'org_name': 'Wirefreebroadband Pty Ltd', 'as_name': 'WPL-AS-AP'}, 'CONNECTS_2', {'country': 'AU', 'upstream': '2', 'downstream': '225', 'rank': '61', 'id': '1221', 'org_name': 'Telstra Corporation Limited', 'as_name': 'ASN-TELSTRA'}, 'CONNECTS_2', {'country': 'AU', 'upstream': '3', 'downstream': '193', 'rank': '3029', 'id': '4608', 'org_name': 'Asia Pacific Network Information Centre', 'as_name': 'APNIC-SERVICES'}, 'CONNECTS_2', {'country': 'AU', 'id': '10026', 'org_name': 'Telstra International Limited', 'as_name': 'TELSTRAGLOBAL'}], [{'country': 'JP', 'upstream': '3', 'downstream': '64', 'rank': '314', 'id': '2519', 'as_name': 'VECTANT'}, 'CONNECTS_2', {'country': 'AU', 'upstream': '2', 'downstream': '225', 'rank': '61', 'id': '1221', 'org_name': 'Telstra Corporation Limited', 'as_name': 'ASN-TELSTRA'}, 'CONNECTS_2', {'country': 'AU', 'upstream': '10', 'downstream': '458', 'rank': '555', 'id': '4637', 'org_name': 'Telstra International Limited', 'as_name': 'ASN-TELSTRA-GLOBAL'}, 'CONNECTS_2', {'country': 'AU', 'upstream': '2', 'downstream': '225', 'rank': '61', 'id': '1221', 'org_name': 'Telstra Corporation Limited', 'as_name': 'ASN-TELSTRA'}, 'CONNECTS_2', {'country': 'AU', 'upstream': '3', 'downstream': '193', 'rank': '3029', 'id': '4608', 'org_name': 'Asia Pacific Network Information Centre', 'as_name': 'APNIC-SERVICES'}, 'CONNECTS_2', {'country': 'AU', 'id': '10026', 'org_name': 'Telstra International Limited', 'as_name': 'TELSTRAGLOBAL'}]], 'hasChanged': True}]\n",
            "\n",
            "\n",
            "Yes, the paths from node 2519 to node 10026 have changed between the two times. Initially, there was only one path directly connecting these two nodes. However, at the later time, multiple new paths were formed involving nodes 1221, 38803, 4608, 4826, and 4637. Some of these new paths also include additional occurrences of node 1221.\n"
          ]
        }
      ],
      "source": [
        "question = \"\"\"\n",
        "Consider all nodes of node type Node as graph at time t1 and all nodes of type Node_2 as graph at time t2\n",
        "Between t1 and t2, have the paths from node 2519 to node 10026 changed? If so, how did it change?\n",
        "\"\"\"\n",
        "\n",
        "response = lang_chain_custom(question,driver,model='gpt-4')\n",
        "print(response)"
      ]
    },
    {
      "cell_type": "code",
      "execution_count": null,
      "id": "7031c9cf",
      "metadata": {
        "colab": {
          "base_uri": "https://localhost:8080/"
        },
        "id": "7031c9cf",
        "outputId": "b84a75b9-2046-44a3-adb2-5f2b4b016d52"
      },
      "outputs": [
        {
          "name": "stdout",
          "output_type": "stream",
          "text": [
            "Refined user input: Find the changes in paths from node 1136 to node 3333 between graphs with nodes of type Node and relationship CONNECTS at time t1, and nodes of type Node_2 and relationship CONNECTS_2 at time t2.\n",
            "-----\n",
            "Cypher Query is MATCH p1=(n:Node {id: \"1136\"})-[:CONNECTS*..25]->(m:Node {id: \"3333\"})\n",
            "WITH nodes(p1) as nodesAtTimeT1\n",
            "MATCH p2=(n2:Node_2 {id: \"1136\"})-[:CONNECTS_2*..25]->(m2:Node_2 {id: \"3333\"})\n",
            "RETURN nodesAtTimeT1 as nodes_at_Time_T1, nodes(p2) as Nodes_at_Time_T2\n",
            "\n",
            "\n",
            "Neo4j answer is [{'nodes_at_Time_T1': [{'country': 'NL', 'upstream': '3', 'downstream': '25', 'rank': '108', 'id': '1136', 'org_name': 'KPN B.V.', 'as_name': 'KPN'}, {'upstream': '2', 'downstream': '1', 'rank': '15690', 'id': '3333', 'as_name': 'RIPE-NCC-AS'}], 'Nodes_at_Time_T2': [{'country': 'NL', 'upstream': '3', 'downstream': '25', 'rank': '108', 'id': '1136', 'org_name': 'KPN B.V.', 'as_name': 'KPN'}, {'upstream': '2', 'downstream': '1', 'rank': '15690', 'id': '3333', 'as_name': 'RIPE-NCC-AS'}]}]\n",
            "\n",
            "\n",
            "There are no changes in paths from node 1136 to node 3333 between the graphs at time t1 and t2. The upstream and downstream counts for both nodes remained the same during these times.\n"
          ]
        }
      ],
      "source": [
        "question = \"\"\"\n",
        "Consider all nodes of node type Node and relationship as CONNECTS as graph at time t1 and\n",
        "all nodes of type Node_2 and relationship as CONNECTS_2 as graph at time t2\n",
        "Between t1 and t2, have the paths from node 1136 to node 3333 changed? If so, how did it change?\n",
        "\"\"\"\n",
        "question = refine_prompt(question)[\"updated_user_prompt\"]\n",
        "print(\"Refined user input:\", question)\n",
        "print(\"-----\")\n",
        "response = lang_chain_custom(question,driver,model='gpt-4')\n",
        "print(response)"
      ]
    },
    {
      "cell_type": "code",
      "execution_count": null,
      "id": "gfeURA0sH6-o",
      "metadata": {
        "colab": {
          "base_uri": "https://localhost:8080/"
        },
        "id": "gfeURA0sH6-o",
        "outputId": "89e97c96-6c7f-483a-d4a2-dd38deaa7622"
      },
      "outputs": [
        {
          "name": "stdout",
          "output_type": "stream",
          "text": [
            "Cypher Query is MATCH p1=(n1:Node {id:'1136'})-[:CONNECTS*]->(n2:Node {id:'3333'}) \n",
            "RETURN p1 AS path_t1\n",
            "UNION \n",
            "MATCH p2=(n3:Node_2 {id:'1136'})-[:CONNECTS_2*]->(n4:Node_2 {id:'3333'}) \n",
            "RETURN p2 AS path_t2\n",
            "\n",
            "\n",
            "Retrying\n",
            "New Cypher Query is MATCH p1=(n1:Node {id:'1136'})-[:CONNECTS*]->(n2:Node {id:'3333'}) \n",
            "RETURN p1 AS path\n",
            "UNION ALL \n",
            "MATCH p2=(n3:Node_2 {id:'1136'})-[:CONNECTS_2*]->(n4:Node_2 {id:'3333'})  \n",
            "RETURN p2 AS path\n",
            "\n",
            "\n",
            "Neo4j answer is [{'path': [{'country': 'NL', 'upstream': '3', 'downstream': '25', 'rank': '108', 'id': '1136', 'org_name': 'KPN B.V.', 'as_name': 'KPN'}, 'CONNECTS', {'upstream': '2', 'downstream': '1', 'rank': '15690', 'id': '3333', 'as_name': 'RIPE-NCC-AS'}]}, {'path': [{'country': 'NL', 'upstream': '3', 'downstream': '25', 'rank': '108', 'id': '1136', 'org_name': 'KPN B.V.', 'as_name': 'KPN'}, 'CONNECTS_2', {'upstream': '2', 'downstream': '1', 'rank': '15690', 'id': '3333', 'as_name': 'RIPE-NCC-AS'}]}]\n",
            "\n",
            "\n",
            "Between time t1 and t2, the paths from node 1136 to node 3333 have not changed. Both at time t1 and t2, node 1136 connects to node 3333 directly. The only difference is the relationship designation, which is 'CONNECTS' at time t1 and changes to 'CONNECTS_2' at time t2.\n"
          ]
        }
      ],
      "source": [
        "question = \"\"\"\n",
        "Consider all nodes of node type Node and relationship as CONNECTS as graph at time t1 and\n",
        "all nodes of type Node_2 and relationship as CONNECTS_2 as graph at time t2\n",
        "Between t1 and t2, have the paths from node 1136 to node 3333 changed? If so, how did it change?\n",
        "\"\"\"\n",
        "\n",
        "response = lang_chain_custom(question,driver,model='gpt-4')\n",
        "print(response)"
      ]
    },
    {
      "cell_type": "code",
      "execution_count": null,
      "id": "42e63fcd",
      "metadata": {
        "colab": {
          "base_uri": "https://localhost:8080/"
        },
        "id": "42e63fcd",
        "outputId": "e75952aa-368e-4a67-8ce9-f263664cd6ec"
      },
      "outputs": [
        {
          "name": "stdout",
          "output_type": "stream",
          "text": [
            "Refined user input: Find all isolated nodes of type node_2 in the network.\n",
            "-----\n",
            "Cypher Query is MATCH (n:Node_2)\n",
            "WHERE NOT (n)-[:CONNECTS_2]-()\n",
            "RETURN n\n",
            "\n",
            "\n",
            "Neo4j answer is []\n",
            "\n",
            "\n",
            "Retrying output string\n",
            "There are no isolated nodes of type node_2 in the network.\n"
          ]
        }
      ],
      "source": [
        "question = \"\"\"\n",
        "Are there any isolated nodes of type node_2 in the network? Can you name all?\n",
        "\"\"\"\n",
        "question = refine_prompt(question)[\"updated_user_prompt\"]\n",
        "print(\"Refined user input:\", question)\n",
        "print(\"-----\")\n",
        "response = lang_chain_custom(question,driver,model='gpt-4')\n",
        "print(response)"
      ]
    },
    {
      "cell_type": "code",
      "execution_count": null,
      "id": "4de07301",
      "metadata": {
        "colab": {
          "base_uri": "https://localhost:8080/"
        },
        "id": "4de07301",
        "outputId": "729e2668-0d07-422f-e5dc-03d2bb860e3d"
      },
      "outputs": [
        {
          "name": "stdout",
          "output_type": "stream",
          "text": [
            "Refined user input: Find all isolated nodes of type 'node' in the network and list their IDs.\n",
            "-----\n",
            "Cypher Query is MATCH (n:Node)\n",
            "WHERE NOT (n)-[:CONNECTS]-()\n",
            "RETURN n.id as Isolated_Node_IDs\n",
            "\n",
            "\n",
            "Neo4j answer is [{'Isolated_Node_IDs': '1'}, {'Isolated_Node_IDs': '2'}]\n",
            "\n",
            "\n",
            "The isolated nodes of type 'node' in the network are 1 and 2.\n"
          ]
        }
      ],
      "source": [
        "question = \"\"\"\n",
        "Are there any isolated nodes of type node in the network? Can you mention their ids?\n",
        "\"\"\"\n",
        "question = refine_prompt(question)[\"updated_user_prompt\"]\n",
        "print(\"Refined user input:\", question)\n",
        "print(\"-----\")\n",
        "response = lang_chain_custom(question,driver,model='gpt-4')\n",
        "print(response)"
      ]
    },
    {
      "cell_type": "code",
      "execution_count": null,
      "id": "19ae0b9c",
      "metadata": {
        "colab": {
          "base_uri": "https://localhost:8080/"
        },
        "id": "19ae0b9c",
        "outputId": "2c470742-56d4-4a6a-fc00-0bf840561b25"
      },
      "outputs": [
        {
          "name": "stdout",
          "output_type": "stream",
          "text": [
            "Refined user input: Find the in degree of node 3333.\n",
            "-----\n",
            "Cypher Query is MATCH (n:Node{id:\"3333\"})<-[:CONNECTS]-(c)\n",
            "RETURN COUNT(c) AS in_degree_of_node_3333\n",
            "\n",
            "\n",
            "Neo4j answer is [{'in_degree_of_node_3333': 4}]\n",
            "\n",
            "\n",
            "The in-degree of node 3333 is 4.\n"
          ]
        }
      ],
      "source": [
        "question = \"\"\"\n",
        "What is the in degree of node 3333?\n",
        "\"\"\"\n",
        "question = refine_prompt(question)[\"updated_user_prompt\"]\n",
        "print(\"Refined user input:\", question)\n",
        "print(\"-----\")\n",
        "response = lang_chain_custom(question,driver,model='gpt-4')\n",
        "print(response)"
      ]
    },
    {
      "cell_type": "code",
      "execution_count": null,
      "id": "b364eb0d",
      "metadata": {
        "colab": {
          "base_uri": "https://localhost:8080/"
        },
        "id": "b364eb0d",
        "outputId": "c745b904-5e5b-4e8a-8354-fd84c4f8a633"
      },
      "outputs": [
        {
          "name": "stdout",
          "output_type": "stream",
          "text": [
            "Refined user input: Find the in degree of node 209.\n",
            "-----\n",
            "Cypher Query is MATCH (n:Node) WHERE n.id=\"209\" RETURN size((n)<--()) as in_degree\n",
            "\n",
            "\n",
            "Retrying\n",
            "New Cypher Query is MATCH (n:Node)<--() WHERE n.id=\"209\" RETURN count(*) as in_degree\n",
            "\n",
            "\n",
            "Neo4j answer is [{'in_degree': 1}]\n",
            "\n",
            "\n",
            "The in degree of node 209 is 1.\n"
          ]
        }
      ],
      "source": [
        "question = \"\"\"\n",
        "What is the in degree of node 209?\n",
        "\"\"\"\n",
        "question = refine_prompt(question)[\"updated_user_prompt\"]\n",
        "print(\"Refined user input:\", question)\n",
        "print(\"-----\")\n",
        "response = lang_chain_custom(question,driver,model='gpt-4')\n",
        "print(response)"
      ]
    },
    {
      "cell_type": "code",
      "execution_count": null,
      "id": "22c94f35",
      "metadata": {
        "colab": {
          "base_uri": "https://localhost:8080/"
        },
        "id": "22c94f35",
        "outputId": "e5058efb-654d-4366-95f1-3063ef86b8ab"
      },
      "outputs": [
        {
          "name": "stdout",
          "output_type": "stream",
          "text": [
            "Refined user input: Find the in-degree of nodes 209 and 3333 in the graph database.\n",
            "-----\n",
            "Cypher Query is MATCH (n:Node)\n",
            "WHERE n.id IN [\"209\", \"3333\"]\n",
            "RETURN n.id AS Node_ID, size((:Node)-[:CONNECTS]->(n)) as In_Degree\n",
            "\n",
            "\n",
            "Retrying\n",
            "New Cypher Query is MATCH (n:Node)<-[:CONNECTS]-()\n",
            "WHERE n.id IN [\"209\", \"3333\"]\n",
            "RETURN n.id AS Node_ID, count(*) as In_Degree\n",
            "\n",
            "\n",
            "Neo4j answer is [{'Node_ID': '3333', 'In_Degree': 4}, {'Node_ID': '209', 'In_Degree': 1}]\n",
            "\n",
            "\n",
            "The in-degree of node 209 in the graph database is 1 and the in-degree of node 3333 is 4.\n"
          ]
        }
      ],
      "source": [
        "question = \"\"\"\n",
        "What is the in degree of nodes 209 and 3333?\n",
        "\"\"\"\n",
        "question = refine_prompt(question)[\"updated_user_prompt\"]\n",
        "print(\"Refined user input:\", question)\n",
        "print(\"-----\")\n",
        "response = lang_chain_custom(question,driver,model='gpt-4')\n",
        "print(response)"
      ]
    },
    {
      "cell_type": "code",
      "execution_count": null,
      "id": "e3aa9ee5",
      "metadata": {
        "colab": {
          "base_uri": "https://localhost:8080/"
        },
        "id": "e3aa9ee5",
        "outputId": "a6b0d43d-365c-4967-e417-bc02ed1e8f07"
      },
      "outputs": [
        {
          "name": "stdout",
          "output_type": "stream",
          "text": [
            "Refined user input: Find the in degree of all nodes with type 'Node' in the graph database.\n",
            "-----\n",
            "Cypher Query is MATCH (n:Node)\n",
            "RETURN n.id as Node_ID, size((n)<-[:CONNECTS]-()) as In_Degree\n",
            "\n",
            "\n",
            "Retrying\n",
            "New Cypher Query is MATCH (n:Node)<-[:CONNECTS]-()\n",
            "RETURN n.id as Node_ID, COUNT(*) as In_Degree\n",
            "\n",
            "\n",
            "Neo4j answer is [{'Node_ID': '42708', 'In_Degree': 1}, {'Node_ID': '50304', 'In_Degree': 4}, {'Node_ID': '3356', 'In_Degree': 5}, {'Node_ID': '45896', 'In_Degree': 4}, {'Node_ID': '8758', 'In_Degree': 3}, {'Node_ID': '6939', 'In_Degree': 2}, {'Node_ID': '4826', 'In_Degree': 1}, {'Node_ID': '38803', 'In_Degree': 1}, {'Node_ID': '2497', 'In_Degree': 2}, {'Node_ID': '4777', 'In_Degree': 3}]\n",
            "\n",
            "\n",
            "The in degree of all nodes with type 'Node' in the graph database are as follows: Node 42708 has an in degree of 1, Node 50304 has an in degree of 4, Node 3356 has an in degree of 5, Node 45896 has an in degree of 4, Node 8758 has an in degree of 3, Node 6939 has an in degree of 2, Node 4826 has an in degree of 1, Node 38803 has an in degree of 1, Node 2497 has an in degree of 2, and Node 4777 has an in degree of 3.\n"
          ]
        }
      ],
      "source": [
        "question = \"\"\"\n",
        "What is the in degree of all nodes of type Node?\n",
        "\"\"\"\n",
        "question = refine_prompt(question)[\"updated_user_prompt\"]\n",
        "print(\"Refined user input:\", question)\n",
        "print(\"-----\")\n",
        "response = lang_chain_custom(question,driver,model='gpt-4')\n",
        "print(response)"
      ]
    },
    {
      "cell_type": "code",
      "execution_count": null,
      "id": "a30cffce",
      "metadata": {
        "colab": {
          "base_uri": "https://localhost:8080/"
        },
        "id": "a30cffce",
        "outputId": "08864afa-5b4f-42e1-86c9-67446dcf81c8"
      },
      "outputs": [
        {
          "name": "stdout",
          "output_type": "stream",
          "text": [
            "Refined user input: Find the country of node 2914.\n",
            "-----\n",
            "Cypher Query is MATCH (n:Node {id:\"2914\"}) RETURN n.country\n",
            "\n",
            "\n",
            "Neo4j answer is [{'n.country': 'US'}]\n",
            "\n",
            "\n",
            "Node 2914 is located in the US.\n"
          ]
        }
      ],
      "source": [
        "question = \"\"\"\n",
        "What is the country of node 2914\n",
        "\"\"\"\n",
        "question = refine_prompt(question)[\"updated_user_prompt\"]\n",
        "print(\"Refined user input:\", question)\n",
        "print(\"-----\")\n",
        "response = lang_chain_custom(question,driver,model='gpt-4')\n",
        "print(response)"
      ]
    },
    {
      "cell_type": "code",
      "execution_count": null,
      "id": "88570513",
      "metadata": {
        "colab": {
          "base_uri": "https://localhost:8080/"
        },
        "id": "88570513",
        "outputId": "334df694-b30a-41ee-d9c7-ebf83898740c"
      },
      "outputs": [
        {
          "name": "stdout",
          "output_type": "stream",
          "text": [
            "Refined user input: Find the country of node 2915.\n",
            "-----\n",
            "Cypher Query is MATCH (n:Node{id:'2915'}) RETURN n.country\n",
            "\n",
            "\n",
            "Neo4j answer is []\n",
            "\n",
            "\n",
            "Retrying output string\n",
            "The country of node 2915 is unknown.\n"
          ]
        }
      ],
      "source": [
        "question = \"\"\"\n",
        "What is the country of node 2915\n",
        "\"\"\"\n",
        "question = refine_prompt(question)[\"updated_user_prompt\"]\n",
        "print(\"Refined user input:\", question)\n",
        "print(\"-----\")\n",
        "response = lang_chain_custom(question,driver,model='gpt-4')\n",
        "print(response)"
      ]
    },
    {
      "cell_type": "code",
      "execution_count": null,
      "id": "93df3102",
      "metadata": {
        "colab": {
          "base_uri": "https://localhost:8080/"
        },
        "id": "93df3102",
        "outputId": "77da1463-b5f3-44c1-f634-83404f8c43ab"
      },
      "outputs": [
        {
          "name": "stdout",
          "output_type": "stream",
          "text": [
            "Refined user input: Find the highest indegree of all nodes with the attribute 'country name' set to 'US'.\n",
            "-----\n",
            "Cypher Query is MATCH (n:Node)<-[:CONNECTS]-()\n",
            "WHERE n.country = 'US'\n",
            "RETURN n.as_name AS Node, COUNT(*) AS Indegree\n",
            "ORDER BY Indegree DESC\n",
            "LIMIT 1\n",
            "\n",
            "\n",
            "Neo4j answer is [{'Node': 'LEVEL3', 'Indegree': 5}]\n",
            "\n",
            "\n",
            "Retrying output string\n",
            "The node with the highest indegree and the attribute 'country name' set to 'US' is 'LEVEL3', with an indegree of 5.\n"
          ]
        }
      ],
      "source": [
        "question = \"\"\"\n",
        "What is the highest indegree of all nodes with country name as US\n",
        "\"\"\"\n",
        "question = refine_prompt(question)[\"updated_user_prompt\"]\n",
        "print(\"Refined user input:\", question)\n",
        "print(\"-----\")\n",
        "response = lang_chain_custom(question,driver,model='gpt-4')\n",
        "print(response)"
      ]
    },
    {
      "cell_type": "code",
      "execution_count": null,
      "id": "ab3081bd",
      "metadata": {
        "colab": {
          "base_uri": "https://localhost:8080/"
        },
        "id": "ab3081bd",
        "outputId": "9430262a-e610-4c2a-a4d2-1bb04f4a97e7"
      },
      "outputs": [
        {
          "name": "stdout",
          "output_type": "stream",
          "text": [
            "Refined user input: Find the node with the highest indegree among all nodes with country = AU.\n",
            "-----\n",
            "Cypher Query is MATCH (n:Node {country: 'AU'})\n",
            "RETURN n, size((:Node)-[:CONNECTS]->(n)) AS indegrees\n",
            "ORDER BY indegrees DESC\n",
            "LIMIT 1\n",
            "\n",
            "\n",
            "Retrying\n",
            "New Cypher Query is MATCH (n:Node {country: 'AU'})\n",
            "WITH n, size((:Node)-[:CONNECTS]->n) AS indegrees\n",
            "ORDER BY indegrees DESC\n",
            "LIMIT 1\n",
            "RETURN n\n",
            "\n",
            "\n",
            "Retrying output string\n",
            "The node with the highest indegree among all nodes with country = AU does not exist.\n"
          ]
        }
      ],
      "source": [
        "### Only error\n",
        "\n",
        "question = \"\"\"\n",
        "What is the highest indegree of all nodes with country as AU\n",
        "\"\"\"\n",
        "question = refine_prompt(question)[\"updated_user_prompt\"]\n",
        "print(\"Refined user input:\", question)\n",
        "print(\"-----\")\n",
        "response = lang_chain_custom(question,driver,model='gpt-4')\n",
        "print(response)"
      ]
    },
    {
      "cell_type": "code",
      "execution_count": null,
      "id": "c294b5ff",
      "metadata": {
        "id": "c294b5ff"
      },
      "outputs": [],
      "source": []
    },
    {
      "cell_type": "markdown",
      "id": "bb1ed76b",
      "metadata": {
        "id": "bb1ed76b"
      },
      "source": [
        "## For output"
      ]
    },
    {
      "cell_type": "code",
      "execution_count": null,
      "id": "d43fa3f0",
      "metadata": {
        "colab": {
          "base_uri": "https://localhost:8080/"
        },
        "id": "d43fa3f0",
        "outputId": "e53df449-eb71-403b-c846-8c98b52636b9"
      },
      "outputs": [
        {
          "name": "stdout",
          "output_type": "stream",
          "text": [
            "Refined user input: Find a path from node 3356 to node 7018 for nodes of type node_2.\n",
            "-----\n",
            "Cypher Query is MATCH path = (n:Node_2 {id:'3356'})-[:CONNECTS_2*]->(m:Node_2 {id:'7018'}) \n",
            "RETURN path\n",
            "\n",
            "\n",
            "Neo4j answer is [{'path': [{'country': 'US', 'upstream': '26', 'city': 'Monroe', 'downstream': '5281', 'rank': '15', 'id': '3356', 'state': 'LA', 'org_name': 'Level 3 Parent, LLC', 'as_name': 'LEVEL3'}, 'CONNECTS_2', {'upstream': '10', 'downstream': '1660', 'rank': '110', 'id': '3257', 'as_name': 'GTT-BACKBONE'}, 'CONNECTS_2', {'country': 'US', 'upstream': '7', 'city': 'MIDDLETOWN', 'downstream': '1592', 'rank': '2', 'id': '7018', 'state': 'NJ', 'org_name': 'AT&T Services, Inc.', 'as_name': 'ATT-INTERNET4'}]}, {'path': [{'country': 'US', 'upstream': '26', 'city': 'Monroe', 'downstream': '5281', 'rank': '15', 'id': '3356', 'state': 'LA', 'org_name': 'Level 3 Parent, LLC', 'as_name': 'LEVEL3'}, 'CONNECTS_2', {'country': 'US', 'upstream': '7', 'city': 'MIDDLETOWN', 'downstream': '1592', 'rank': '2', 'id': '7018', 'state': 'NJ', 'org_name': 'AT&T Services, Inc.', 'as_name': 'ATT-INTERNET4'}]}]\n",
            "\n",
            "\n",
            "The path from node 3356 to node 7018 for nodes of type node_2 includes node 3356, which is connected to node 3257, and then connects to node 7018.\n"
          ]
        }
      ],
      "source": [
        "question = \"\"\"\n",
        "Does a path exist from node 3356 to node 7018 for nodes of type node_2? If so what is the path?\n",
        "\"\"\"\n",
        "question = refine_prompt(question)[\"updated_user_prompt\"]\n",
        "print(\"Refined user input:\", question)\n",
        "print(\"-----\")\n",
        "response = lang_chain_custom(question,driver,model='gpt-4')\n",
        "print(response)"
      ]
    },
    {
      "cell_type": "code",
      "execution_count": null,
      "id": "2c20410a",
      "metadata": {
        "colab": {
          "base_uri": "https://localhost:8080/"
        },
        "id": "2c20410a",
        "outputId": "f0d8d436-fdc5-4d98-c062-53f10db62a33"
      },
      "outputs": [
        {
          "name": "stdout",
          "output_type": "stream",
          "text": [
            "Refined user input: Find the path from node 123 to node 7671 for nodes of type node_2.\n",
            "-----\n",
            "Cypher Query is MATCH path = (a:Node_2 {id: '123'})-[:CONNECTS_2*]->(b:Node_2 {id: '7671'})\n",
            "RETURN path\n",
            "\n",
            "\n",
            "Neo4j answer is []\n",
            "\n",
            "\n",
            "Retrying output string\n",
            "The path from node 123 to node 7671 for nodes of type node_2 does not exist.\n"
          ]
        }
      ],
      "source": [
        "question = \"\"\"\n",
        "Does a path exist from node 123 to node 7671 for nodes of type node_2? If so what is the path?\n",
        "\"\"\"\n",
        "question = refine_prompt(question)[\"updated_user_prompt\"]\n",
        "print(\"Refined user input:\", question)\n",
        "print(\"-----\")\n",
        "response = lang_chain_custom(question,driver,model='gpt-4')\n",
        "print(response)"
      ]
    },
    {
      "cell_type": "code",
      "execution_count": null,
      "id": "425a2f6f",
      "metadata": {
        "colab": {
          "base_uri": "https://localhost:8080/"
        },
        "id": "425a2f6f",
        "outputId": "631f73a9-af06-4d99-e787-0fb3f7a70195"
      },
      "outputs": [
        {
          "name": "stdout",
          "output_type": "stream",
          "text": [
            "Refined user input: Find the shortest path from node 2519 to node 10026 for nodes of type node_2.\n",
            "-----\n",
            "Cypher Query is MATCH path = shortestPath((n:Node_2 {id: \"2519\"})-[:CONNECTS_2*]-(m:Node_2 {id: \"10026\"}))\n",
            "RETURN path\n",
            "\n",
            "\n",
            "Neo4j answer is [{'path': [{'country': 'JP', 'upstream': '3', 'downstream': '64', 'rank': '314', 'id': '2519', 'as_name': 'VECTANT'}, 'CONNECTS_2', {'country': 'AU', 'upstream': '2', 'downstream': '225', 'rank': '61', 'id': '1221', 'org_name': 'Telstra Corporation Limited', 'as_name': 'ASN-TELSTRA'}, 'CONNECTS_2', {'country': 'AU', 'upstream': '3', 'downstream': '193', 'rank': '3029', 'id': '4608', 'org_name': 'Asia Pacific Network Information Centre', 'as_name': 'APNIC-SERVICES'}, 'CONNECTS_2', {'country': 'AU', 'id': '10026', 'org_name': 'Telstra International Limited', 'as_name': 'TELSTRAGLOBAL'}]}]\n",
            "\n",
            "\n",
            "The shortest path from node 2519 to node 10026 of type node_2 is as follows: 2519 (VECTANT) connects to 1221 (ASN-TELSTRA), which then connects to 4608 (APNIC-SERVICES), and eventually, connects to node 10026 (TELSTRAGLOBAL).\n"
          ]
        }
      ],
      "source": [
        "question = \"\"\"\n",
        "What is the shortest path from node 2519 to node 10026 for nodes of type node_2?\n",
        "\"\"\"\n",
        "question = refine_prompt(question)[\"updated_user_prompt\"]\n",
        "print(\"Refined user input:\", question)\n",
        "print(\"-----\")\n",
        "response = lang_chain_custom(question,driver,model='gpt-4')\n",
        "print(response)"
      ]
    },
    {
      "cell_type": "code",
      "execution_count": null,
      "id": "4d3e1762",
      "metadata": {
        "colab": {
          "base_uri": "https://localhost:8080/"
        },
        "id": "4d3e1762",
        "outputId": "46b1c642-f583-4b0c-a219-623a5e1681ed"
      },
      "outputs": [
        {
          "name": "stdout",
          "output_type": "stream",
          "text": [
            "Refined user input: Find the change in the number of paths from node 18144 to node 7670 between time t1 (when nodes of type Node and relationships of type CONNECTS are present in the graph) and time t2 (when nodes of type Node_2 and relationships of type CONNECTS_2 are present in the graph).\n",
            "-----\n",
            "Cypher Query is MATCH p1 = (n1:Node {id: \"18144\"})-[:CONNECTS*]->(n2:Node {id: \"7670\"})\n",
            "WITH count(p1) as paths_t1\n",
            "MATCH p2 = (m1:Node_2 {id: \"18144\"})-[:CONNECTS_2*]->(m2:Node_2 {id: \"7670\"})\n",
            "WITH count(p2) as paths_t2, paths_t1\n",
            "RETURN (paths_t2 - paths_t1) as change_in_paths\n",
            "\n",
            "\n",
            "Neo4j answer is [{'change_in_paths': 15}]\n",
            "\n",
            "\n",
            "The change in the number of paths from node 18144 to node 7670 between time t1 and t2 is 15.\n"
          ]
        }
      ],
      "source": [
        "question = \"\"\"\n",
        "Consider all nodes of node type Node and relationship as CONNECTS as graph at time t1 and\n",
        "all nodes of type Node_2 and relationship as CONNECTS_2 as graph at time t2\n",
        "Between t1 and t2, are there any change in number of paths from node 18144 to node 7670?\n",
        "If so what is the change?\n",
        "\"\"\"\n",
        "question = refine_prompt(question)[\"updated_user_prompt\"]\n",
        "print(\"Refined user input:\", question)\n",
        "print(\"-----\")\n",
        "response = lang_chain_custom(question,driver,model='gpt-4')\n",
        "print(response)"
      ]
    },
    {
      "cell_type": "code",
      "execution_count": null,
      "id": "3ba45ea2",
      "metadata": {
        "colab": {
          "base_uri": "https://localhost:8080/"
        },
        "id": "3ba45ea2",
        "outputId": "3f4b4825-c918-49dc-d1c4-db0d203b2a15"
      },
      "outputs": [
        {
          "name": "stdout",
          "output_type": "stream",
          "text": [
            "Refined user input: Find any changes in the paths from node 1136 to node 3333 that occurred between time t1 and t2 in the graph database consisting of nodes of type Node and relationship CONNECTS at time t1 and nodes of type Node_2 and relationship CONNECTS_2 at time t2.\n",
            "-----\n",
            "Cypher Query is MATCH path1 = (x:Node {id: '1136'})-[:CONNECTS*]->(y:Node {id: '3333'})\n",
            "WITH collect(nodes(path1)) as nodes1\n",
            "MATCH path2 = (a:Node_2 {id: '1136'})-[:CONNECTS_2*]->(b:Node_2 {id: '3333'})\n",
            "WITH nodes1, collect(nodes(path2)) as nodes2\n",
            "RETURN nodes1, nodes2\n",
            "\n",
            "\n",
            "Neo4j answer is [{'nodes1': [[{'country': 'NL', 'upstream': '3', 'downstream': '25', 'rank': '108', 'id': '1136', 'org_name': 'KPN B.V.', 'as_name': 'KPN'}, {'upstream': '2', 'downstream': '1', 'rank': '15690', 'id': '3333', 'as_name': 'RIPE-NCC-AS'}]], 'nodes2': [[{'country': 'NL', 'upstream': '3', 'downstream': '25', 'rank': '108', 'id': '1136', 'org_name': 'KPN B.V.', 'as_name': 'KPN'}, {'upstream': '2', 'downstream': '1', 'rank': '15690', 'id': '3333', 'as_name': 'RIPE-NCC-AS'}]]}]\n",
            "\n",
            "\n",
            "There were no changes in the paths from node 1136 to node 3333 between time t1 and t2. The same nodes were involved and the upstream and downstream values remained constant. The rank also stayed the same for both nodes.\n"
          ]
        }
      ],
      "source": [
        "question = \"\"\"\n",
        "Consider all nodes of node type Node and relationship as CONNECTS as graph at time t1 and\n",
        "all nodes of type Node_2 and relationship as CONNECTS_2 as graph at time t2\n",
        "Between t1 and t2, have the paths from node 1136 to node 3333 changed? If so, how did it change?\n",
        "\"\"\"\n",
        "question = refine_prompt(question)[\"updated_user_prompt\"]\n",
        "print(\"Refined user input:\", question)\n",
        "print(\"-----\")\n",
        "response = lang_chain_custom(question,driver,model='gpt-4')\n",
        "print(response)"
      ]
    },
    {
      "cell_type": "code",
      "execution_count": null,
      "id": "3dcc44ab",
      "metadata": {
        "colab": {
          "base_uri": "https://localhost:8080/"
        },
        "id": "3dcc44ab",
        "outputId": "67da9c4a-e358-46e6-c9c7-67fb9121c74a"
      },
      "outputs": [
        {
          "name": "stdout",
          "output_type": "stream",
          "text": [
            "Refined user input: Find all isolated nodes with type node_2 in the network; list them.\n",
            "-----\n",
            "Cypher Query is MATCH (n:Node_2)\n",
            "WHERE NOT (n)-[:CONNECTS_2]-()\n",
            "RETURN n\n",
            "\n",
            "\n",
            "Neo4j answer is []\n",
            "\n",
            "\n",
            "Retrying output string\n",
            "There are no isolated nodes with type node_2 in the network.\n"
          ]
        }
      ],
      "source": [
        "question = \"\"\"\n",
        "Are there any isolated nodes of type node_2 in the network? Can you name all?\n",
        "\"\"\"\n",
        "question = refine_prompt(question)[\"updated_user_prompt\"]\n",
        "print(\"Refined user input:\", question)\n",
        "print(\"-----\")\n",
        "response = lang_chain_custom(question,driver,model='gpt-4')\n",
        "print(response)"
      ]
    },
    {
      "cell_type": "code",
      "execution_count": null,
      "id": "28b923f4",
      "metadata": {
        "colab": {
          "base_uri": "https://localhost:8080/"
        },
        "id": "28b923f4",
        "outputId": "c060fd7c-7aea-4d07-fdef-4bd8934987d6"
      },
      "outputs": [
        {
          "name": "stdout",
          "output_type": "stream",
          "text": [
            "Refined user input: Find any isolated nodes of type Node in the network and list all names.\n",
            "-----\n",
            "Cypher Query is MATCH (n:Node)\n",
            "WHERE NOT (n)-[:CONNECTS]-()\n",
            "RETURN n.as_name as IsolatedNodeNames\n",
            "\n",
            "\n",
            "Neo4j answer is [{'IsolatedNodeNames': 'LVLT-1'}, {'IsolatedNodeNames': 'UDEL-DCN'}]\n",
            "\n",
            "\n",
            "The isolated nodes in the network are LVLT-1 and UDEL-DCN.\n"
          ]
        }
      ],
      "source": [
        "question = \"\"\"\n",
        "Are there any isolated nodes of type Node in the network? Can you name all?\n",
        "\"\"\"\n",
        "question = refine_prompt(question)[\"updated_user_prompt\"]\n",
        "print(\"Refined user input:\", question)\n",
        "print(\"-----\")\n",
        "response = lang_chain_custom(question,driver,model='gpt-4')\n",
        "print(response)"
      ]
    },
    {
      "cell_type": "code",
      "execution_count": null,
      "id": "dea9eda2",
      "metadata": {
        "colab": {
          "base_uri": "https://localhost:8080/"
        },
        "id": "dea9eda2",
        "outputId": "f331ae47-2f45-4884-8d17-56acb468bf8d"
      },
      "outputs": [
        {
          "name": "stdout",
          "output_type": "stream",
          "text": [
            "Refined user input: Find the highest indegree of all nodes with country equal to 'AU'.\n",
            "-----\n",
            "Cypher Query is MATCH (n:Node)<-[:CONNECTS]-()\n",
            "WHERE n.country = 'AU'\n",
            "RETURN n.id, COUNT(*) AS indegree\n",
            "ORDER BY indegree DESC\n",
            "LIMIT 1\n",
            "\n",
            "\n",
            "Neo4j answer is [{'n.id': '45896', 'indegree': 4}]\n",
            "\n",
            "\n",
            "The highest indegree of all nodes with country equal to 'AU' is 4.\n"
          ]
        }
      ],
      "source": [
        "question = \"\"\"\n",
        "What is the highest indegree of all nodes with country as AU\n",
        "\"\"\"\n",
        "question = refine_prompt(question)[\"updated_user_prompt\"]\n",
        "print(\"Refined user input:\", question)\n",
        "print(\"-----\")\n",
        "response = lang_chain_custom(question,driver,model='gpt-4')\n",
        "print(response)"
      ]
    },
    {
      "cell_type": "code",
      "execution_count": null,
      "id": "a3d9fc9e",
      "metadata": {
        "colab": {
          "base_uri": "https://localhost:8080/"
        },
        "id": "a3d9fc9e",
        "outputId": "fcbaaa07-33c9-41ff-fa08-a8fae09a6625"
      },
      "outputs": [
        {
          "name": "stdout",
          "output_type": "stream",
          "text": [
            "Refined user input: Find the highest indegree of all nodes with country as AU.\n",
            "-----\n",
            "Cypher Query is MATCH (n:Node) WHERE n.country = 'AU'\n",
            "RETURN n.id, SIZE((:Node)-[:CONNECTS]->(n)) as indegree\n",
            "ORDER BY indegree DESC\n",
            "LIMIT 1\n",
            "\n",
            "\n",
            "Retrying\n",
            "New Cypher Query is MATCH (n:Node) WHERE n.country = 'AU'\n",
            "RETURN n.id, SIZE(()-[:CONNECTS]->(n)) as indegree\n",
            "ORDER BY indegree DESC\n",
            "LIMIT 1\n",
            "\n",
            "\n",
            "Whatever you asked for does not exist.\n"
          ]
        }
      ],
      "source": [
        "question = \"\"\"\n",
        "What is the highest indegree of all nodes with country as AU\n",
        "\"\"\"\n",
        "question = refine_prompt(question)[\"updated_user_prompt\"]\n",
        "print(\"Refined user input:\", question)\n",
        "print(\"-----\")\n",
        "response = lang_chain_custom(question,driver,model='gpt-4')\n",
        "print(response)"
      ]
    },
    {
      "cell_type": "code",
      "execution_count": null,
      "id": "e9da95c7",
      "metadata": {
        "colab": {
          "base_uri": "https://localhost:8080/"
        },
        "id": "e9da95c7",
        "outputId": "29f5b4b2-0935-4431-d495-f57d000298f7"
      },
      "outputs": [
        {
          "name": "stdout",
          "output_type": "stream",
          "text": [
            "Refined user input: Find the in degree of nodes 209 and 3333.\n",
            "-----\n",
            "Cypher Query is MATCH (n:Node)\n",
            "WHERE n.id IN ['209', '3333']\n",
            "RETURN n.id AS Node, SIZE(()-[:CONNECTS]->(n)) AS InDegree\n",
            "\n",
            "\n",
            "Retrying\n",
            "New Cypher Query is MATCH (n:Node)<-[:CONNECTS]-()\n",
            "WHERE n.id IN ['209', '3333']\n",
            "RETURN n.id AS Node, COUNT(*) AS InDegree\n",
            "\n",
            "\n",
            "Neo4j answer is [{'Node': '3333', 'InDegree': 4}, {'Node': '209', 'InDegree': 1}]\n",
            "\n",
            "\n",
            "The in-degree of node 209 is 1, and the in-degree of node 3333 is 4.\n"
          ]
        }
      ],
      "source": [
        "question = \"\"\"\n",
        "What is the in degree of nodes 209 and 3333?\n",
        "\"\"\"\n",
        "question = refine_prompt(question)[\"updated_user_prompt\"]\n",
        "print(\"Refined user input:\", question)\n",
        "print(\"-----\")\n",
        "response = lang_chain_custom(question,driver,model='gpt-4')\n",
        "print(response)"
      ]
    },
    {
      "cell_type": "code",
      "execution_count": null,
      "id": "d8776d6d",
      "metadata": {
        "colab": {
          "base_uri": "https://localhost:8080/"
        },
        "id": "d8776d6d",
        "outputId": "3737e0c8-3dc9-4fb2-ea62-1bf0223abe0f"
      },
      "outputs": [
        {
          "name": "stdout",
          "output_type": "stream",
          "text": [
            "Refined user input: Find the in degree of nodes 209 and 3333.\n",
            "-----\n",
            "Cypher Query is MATCH (n:Node)\n",
            "WHERE n.id IN ['209', '3333']\n",
            "RETURN n.id, SIZE(()-[:CONNECTS]->(n)) as inDegree\n",
            "\n",
            "\n",
            "Retrying\n",
            "New Cypher Query is MATCH (n:Node)<-[:CONNECTS]-()\n",
            "WHERE n.id IN ['209', '3333']\n",
            "RETURN n.id as nodeId, COUNT(*) as inDegree\n",
            "\n",
            "\n",
            "Neo4j answer is [{'nodeId': '3333', 'inDegree': 4}, {'nodeId': '209', 'inDegree': 1}]\n",
            "\n",
            "\n",
            "The in degree of node 209 is 1, and for node 3333, it is 4.\n"
          ]
        }
      ],
      "source": [
        "question = \"\"\"\n",
        "What is the in degree of nodes 209 and 3333?\n",
        "\"\"\"\n",
        "question = refine_prompt(question)[\"updated_user_prompt\"]\n",
        "print(\"Refined user input:\", question)\n",
        "print(\"-----\")\n",
        "response = lang_chain_custom(question,driver,model='gpt-4')\n",
        "print(response)"
      ]
    },
    {
      "cell_type": "code",
      "execution_count": null,
      "id": "7c985231",
      "metadata": {
        "colab": {
          "base_uri": "https://localhost:8080/"
        },
        "id": "7c985231",
        "outputId": "4e54d0b7-d6fd-4aa2-fad8-305d47fe054a"
      },
      "outputs": [
        {
          "name": "stdout",
          "output_type": "stream",
          "text": [
            "Refined user input: Find the changes in the paths from node 2519 to node 10026 between time t1 and t2, considering all nodes of type Node as graph at time t1 and all nodes of type Node_2 as graph at time t2.\n",
            "-----\n",
            "Cypher Query is MATCH path1 = (n1:Node{ id: '2519' })-[:CONNECTS*]->(n2:Node{ id: '10026' })\n",
            "WITH collect(path1) AS paths_t1\n",
            "MATCH path2 = (n1:Node_2{ id: '2519' })-[:CONNECTS_2*]->(n2:Node_2{ id: '10026' })\n",
            "WITH paths_t1, collect(path2) AS paths_t2\n",
            "RETURN paths_t1 AS Paths_at_t1, paths_t2 AS Paths_at_t2\n",
            "\n",
            "\n",
            "Neo4j answer is [{'Paths_at_t1': [[{'country': 'JP', 'upstream': '3', 'downstream': '64', 'rank': '314', 'id': '2519', 'as_name': 'VECTANT'}, 'CONNECTS', {'country': 'AU', 'id': '10026', 'org_name': 'Telstra International Limited', 'as_name': 'TELSTRAGLOBAL'}]], 'Paths_at_t2': [[{'country': 'JP', 'upstream': '3', 'downstream': '64', 'rank': '314', 'id': '2519', 'as_name': 'VECTANT'}, 'CONNECTS_2', {'country': 'AU', 'upstream': '2', 'downstream': '225', 'rank': '61', 'id': '1221', 'org_name': 'Telstra Corporation Limited', 'as_name': 'ASN-TELSTRA'}, 'CONNECTS_2', {'country': 'AU', 'upstream': '2', 'downstream': '0', 'rank': '9740', 'id': '38803', 'org_name': 'Wirefreebroadband Pty Ltd', 'as_name': 'WPL-AS-AP'}, 'CONNECTS_2', {'country': 'AU', 'upstream': '8', 'downstream': '437', 'rank': '920', 'id': '4826', 'org_name': 'VOCUS PTY LTD', 'as_name': 'VOCUS-BACKBONE-AS'}, 'CONNECTS_2', {'country': 'AU', 'upstream': '3', 'downstream': '193', 'rank': '3029', 'id': '4608', 'org_name': 'Asia Pacific Network Information Centre', 'as_name': 'APNIC-SERVICES'}, 'CONNECTS_2', {'country': 'AU', 'id': '10026', 'org_name': 'Telstra International Limited', 'as_name': 'TELSTRAGLOBAL'}], [{'country': 'JP', 'upstream': '3', 'downstream': '64', 'rank': '314', 'id': '2519', 'as_name': 'VECTANT'}, 'CONNECTS_2', {'country': 'AU', 'upstream': '2', 'downstream': '225', 'rank': '61', 'id': '1221', 'org_name': 'Telstra Corporation Limited', 'as_name': 'ASN-TELSTRA'}, 'CONNECTS_2', {'country': 'AU', 'upstream': '2', 'downstream': '0', 'rank': '9740', 'id': '38803', 'org_name': 'Wirefreebroadband Pty Ltd', 'as_name': 'WPL-AS-AP'}, 'CONNECTS_2', {'country': 'AU', 'upstream': '2', 'downstream': '225', 'rank': '61', 'id': '1221', 'org_name': 'Telstra Corporation Limited', 'as_name': 'ASN-TELSTRA'}, 'CONNECTS_2', {'country': 'AU', 'upstream': '3', 'downstream': '193', 'rank': '3029', 'id': '4608', 'org_name': 'Asia Pacific Network Information Centre', 'as_name': 'APNIC-SERVICES'}, 'CONNECTS_2', {'country': 'AU', 'id': '10026', 'org_name': 'Telstra International Limited', 'as_name': 'TELSTRAGLOBAL'}], [{'country': 'JP', 'upstream': '3', 'downstream': '64', 'rank': '314', 'id': '2519', 'as_name': 'VECTANT'}, 'CONNECTS_2', {'country': 'AU', 'upstream': '2', 'downstream': '225', 'rank': '61', 'id': '1221', 'org_name': 'Telstra Corporation Limited', 'as_name': 'ASN-TELSTRA'}, 'CONNECTS_2', {'country': 'AU', 'upstream': '2', 'downstream': '0', 'rank': '9740', 'id': '38803', 'org_name': 'Wirefreebroadband Pty Ltd', 'as_name': 'WPL-AS-AP'}, 'CONNECTS_2', {'country': 'AU', 'upstream': '2', 'downstream': '225', 'rank': '61', 'id': '1221', 'org_name': 'Telstra Corporation Limited', 'as_name': 'ASN-TELSTRA'}, 'CONNECTS_2', {'country': 'AU', 'upstream': '10', 'downstream': '458', 'rank': '555', 'id': '4637', 'org_name': 'Telstra International Limited', 'as_name': 'ASN-TELSTRA-GLOBAL'}, 'CONNECTS_2', {'country': 'AU', 'upstream': '2', 'downstream': '225', 'rank': '61', 'id': '1221', 'org_name': 'Telstra Corporation Limited', 'as_name': 'ASN-TELSTRA'}, 'CONNECTS_2', {'country': 'AU', 'upstream': '3', 'downstream': '193', 'rank': '3029', 'id': '4608', 'org_name': 'Asia Pacific Network Information Centre', 'as_name': 'APNIC-SERVICES'}, 'CONNECTS_2', {'country': 'AU', 'id': '10026', 'org_name': 'Telstra International Limited', 'as_name': 'TELSTRAGLOBAL'}], [{'country': 'JP', 'upstream': '3', 'downstream': '64', 'rank': '314', 'id': '2519', 'as_name': 'VECTANT'}, 'CONNECTS_2', {'country': 'AU', 'upstream': '2', 'downstream': '225', 'rank': '61', 'id': '1221', 'org_name': 'Telstra Corporation Limited', 'as_name': 'ASN-TELSTRA'}, 'CONNECTS_2', {'country': 'AU', 'upstream': '3', 'downstream': '193', 'rank': '3029', 'id': '4608', 'org_name': 'Asia Pacific Network Information Centre', 'as_name': 'APNIC-SERVICES'}, 'CONNECTS_2', {'country': 'AU', 'id': '10026', 'org_name': 'Telstra International Limited', 'as_name': 'TELSTRAGLOBAL'}], [{'country': 'JP', 'upstream': '3', 'downstream': '64', 'rank': '314', 'id': '2519', 'as_name': 'VECTANT'}, 'CONNECTS_2', {'country': 'AU', 'upstream': '2', 'downstream': '225', 'rank': '61', 'id': '1221', 'org_name': 'Telstra Corporation Limited', 'as_name': 'ASN-TELSTRA'}, 'CONNECTS_2', {'country': 'AU', 'upstream': '10', 'downstream': '458', 'rank': '555', 'id': '4637', 'org_name': 'Telstra International Limited', 'as_name': 'ASN-TELSTRA-GLOBAL'}, 'CONNECTS_2', {'country': 'AU', 'upstream': '2', 'downstream': '225', 'rank': '61', 'id': '1221', 'org_name': 'Telstra Corporation Limited', 'as_name': 'ASN-TELSTRA'}, 'CONNECTS_2', {'country': 'AU', 'upstream': '2', 'downstream': '0', 'rank': '9740', 'id': '38803', 'org_name': 'Wirefreebroadband Pty Ltd', 'as_name': 'WPL-AS-AP'}, 'CONNECTS_2', {'country': 'AU', 'upstream': '8', 'downstream': '437', 'rank': '920', 'id': '4826', 'org_name': 'VOCUS PTY LTD', 'as_name': 'VOCUS-BACKBONE-AS'}, 'CONNECTS_2', {'country': 'AU', 'upstream': '3', 'downstream': '193', 'rank': '3029', 'id': '4608', 'org_name': 'Asia Pacific Network Information Centre', 'as_name': 'APNIC-SERVICES'}, 'CONNECTS_2', {'country': 'AU', 'id': '10026', 'org_name': 'Telstra International Limited', 'as_name': 'TELSTRAGLOBAL'}], [{'country': 'JP', 'upstream': '3', 'downstream': '64', 'rank': '314', 'id': '2519', 'as_name': 'VECTANT'}, 'CONNECTS_2', {'country': 'AU', 'upstream': '2', 'downstream': '225', 'rank': '61', 'id': '1221', 'org_name': 'Telstra Corporation Limited', 'as_name': 'ASN-TELSTRA'}, 'CONNECTS_2', {'country': 'AU', 'upstream': '10', 'downstream': '458', 'rank': '555', 'id': '4637', 'org_name': 'Telstra International Limited', 'as_name': 'ASN-TELSTRA-GLOBAL'}, 'CONNECTS_2', {'country': 'AU', 'upstream': '2', 'downstream': '225', 'rank': '61', 'id': '1221', 'org_name': 'Telstra Corporation Limited', 'as_name': 'ASN-TELSTRA'}, 'CONNECTS_2', {'country': 'AU', 'upstream': '2', 'downstream': '0', 'rank': '9740', 'id': '38803', 'org_name': 'Wirefreebroadband Pty Ltd', 'as_name': 'WPL-AS-AP'}, 'CONNECTS_2', {'country': 'AU', 'upstream': '2', 'downstream': '225', 'rank': '61', 'id': '1221', 'org_name': 'Telstra Corporation Limited', 'as_name': 'ASN-TELSTRA'}, 'CONNECTS_2', {'country': 'AU', 'upstream': '3', 'downstream': '193', 'rank': '3029', 'id': '4608', 'org_name': 'Asia Pacific Network Information Centre', 'as_name': 'APNIC-SERVICES'}, 'CONNECTS_2', {'country': 'AU', 'id': '10026', 'org_name': 'Telstra International Limited', 'as_name': 'TELSTRAGLOBAL'}], [{'country': 'JP', 'upstream': '3', 'downstream': '64', 'rank': '314', 'id': '2519', 'as_name': 'VECTANT'}, 'CONNECTS_2', {'country': 'AU', 'upstream': '2', 'downstream': '225', 'rank': '61', 'id': '1221', 'org_name': 'Telstra Corporation Limited', 'as_name': 'ASN-TELSTRA'}, 'CONNECTS_2', {'country': 'AU', 'upstream': '10', 'downstream': '458', 'rank': '555', 'id': '4637', 'org_name': 'Telstra International Limited', 'as_name': 'ASN-TELSTRA-GLOBAL'}, 'CONNECTS_2', {'country': 'AU', 'upstream': '2', 'downstream': '225', 'rank': '61', 'id': '1221', 'org_name': 'Telstra Corporation Limited', 'as_name': 'ASN-TELSTRA'}, 'CONNECTS_2', {'country': 'AU', 'upstream': '3', 'downstream': '193', 'rank': '3029', 'id': '4608', 'org_name': 'Asia Pacific Network Information Centre', 'as_name': 'APNIC-SERVICES'}, 'CONNECTS_2', {'country': 'AU', 'id': '10026', 'org_name': 'Telstra International Limited', 'as_name': 'TELSTRAGLOBAL'}]]}]\n",
            "\n",
            "\n",
            "At time t1, node 2519 connects directly to node 10026. However, at time t2, there are several paths from node 2519 to node 10026, passing through different nodes. One of these paths is through nodes 1221, 38803, 4826, and 4608. Another path includes nodes 1221, 38803, 1221, 4608. A third path involves nodes 1221, 38803, 1221, 4637, 1221, 4608. Other paths also involve similar nodes with different combinations. Please note that all node IDs mentioned are representing different nodes in the network graph.\n"
          ]
        }
      ],
      "source": [
        "question = \"\"\"\n",
        "Consider all nodes of node type Node as graph at time t1 and all nodes of type Node_2 as graph at time t2\n",
        "Between t1 and t2, have the paths from node 2519 to node 10026 changed? If so, how did it change?\n",
        "\"\"\"\n",
        "question = refine_prompt(question)[\"updated_user_prompt\"]\n",
        "print(\"Refined user input:\", question)\n",
        "print(\"-----\")\n",
        "response = lang_chain_custom(question,driver,model='gpt-4')\n",
        "print(response)"
      ]
    },
    {
      "cell_type": "code",
      "execution_count": null,
      "id": "c426acc6",
      "metadata": {
        "colab": {
          "base_uri": "https://localhost:8080/"
        },
        "id": "c426acc6",
        "outputId": "19eb2bf2-6b29-4469-c889-0083264283c8"
      },
      "outputs": [
        {
          "name": "stdout",
          "output_type": "stream",
          "text": [
            "Refined user input: Find the changes in paths from node 2519 to node 10026 between graph of node type Node at time t1 and graph of node type Node_2 at time t2.\n",
            "-----\n",
            "Cypher Query is MATCH p1=(n1:Node {id:'2519'})-[:CONNECTS*]->(m1:Node {id:'10026'})\n",
            "MATCH p2=(n2:Node_2 {id:'2519'})-[:CONNECTS_2*]->(m2:Node_2 {id:'10026'})\n",
            "RETURN p1 AS Path_at_T1, p2 AS Path_at_T2\n",
            "\n",
            "\n",
            "Neo4j answer is [{'Path_at_T1': [{'country': 'JP', 'upstream': '3', 'downstream': '64', 'rank': '314', 'id': '2519', 'as_name': 'VECTANT'}, 'CONNECTS', {'country': 'AU', 'id': '10026', 'org_name': 'Telstra International Limited', 'as_name': 'TELSTRAGLOBAL'}], 'Path_at_T2': [{'country': 'JP', 'upstream': '3', 'downstream': '64', 'rank': '314', 'id': '2519', 'as_name': 'VECTANT'}, 'CONNECTS_2', {'country': 'AU', 'upstream': '2', 'downstream': '225', 'rank': '61', 'id': '1221', 'org_name': 'Telstra Corporation Limited', 'as_name': 'ASN-TELSTRA'}, 'CONNECTS_2', {'country': 'AU', 'upstream': '2', 'downstream': '0', 'rank': '9740', 'id': '38803', 'org_name': 'Wirefreebroadband Pty Ltd', 'as_name': 'WPL-AS-AP'}, 'CONNECTS_2', {'country': 'AU', 'upstream': '8', 'downstream': '437', 'rank': '920', 'id': '4826', 'org_name': 'VOCUS PTY LTD', 'as_name': 'VOCUS-BACKBONE-AS'}, 'CONNECTS_2', {'country': 'AU', 'upstream': '3', 'downstream': '193', 'rank': '3029', 'id': '4608', 'org_name': 'Asia Pacific Network Information Centre', 'as_name': 'APNIC-SERVICES'}, 'CONNECTS_2', {'country': 'AU', 'id': '10026', 'org_name': 'Telstra International Limited', 'as_name': 'TELSTRAGLOBAL'}]}, {'Path_at_T1': [{'country': 'JP', 'upstream': '3', 'downstream': '64', 'rank': '314', 'id': '2519', 'as_name': 'VECTANT'}, 'CONNECTS', {'country': 'AU', 'id': '10026', 'org_name': 'Telstra International Limited', 'as_name': 'TELSTRAGLOBAL'}], 'Path_at_T2': [{'country': 'JP', 'upstream': '3', 'downstream': '64', 'rank': '314', 'id': '2519', 'as_name': 'VECTANT'}, 'CONNECTS_2', {'country': 'AU', 'upstream': '2', 'downstream': '225', 'rank': '61', 'id': '1221', 'org_name': 'Telstra Corporation Limited', 'as_name': 'ASN-TELSTRA'}, 'CONNECTS_2', {'country': 'AU', 'upstream': '2', 'downstream': '0', 'rank': '9740', 'id': '38803', 'org_name': 'Wirefreebroadband Pty Ltd', 'as_name': 'WPL-AS-AP'}, 'CONNECTS_2', {'country': 'AU', 'upstream': '2', 'downstream': '225', 'rank': '61', 'id': '1221', 'org_name': 'Telstra Corporation Limited', 'as_name': 'ASN-TELSTRA'}, 'CONNECTS_2', {'country': 'AU', 'upstream': '3', 'downstream': '193', 'rank': '3029', 'id': '4608', 'org_name': 'Asia Pacific Network Information Centre', 'as_name': 'APNIC-SERVICES'}, 'CONNECTS_2', {'country': 'AU', 'id': '10026', 'org_name': 'Telstra International Limited', 'as_name': 'TELSTRAGLOBAL'}]}, {'Path_at_T1': [{'country': 'JP', 'upstream': '3', 'downstream': '64', 'rank': '314', 'id': '2519', 'as_name': 'VECTANT'}, 'CONNECTS', {'country': 'AU', 'id': '10026', 'org_name': 'Telstra International Limited', 'as_name': 'TELSTRAGLOBAL'}], 'Path_at_T2': [{'country': 'JP', 'upstream': '3', 'downstream': '64', 'rank': '314', 'id': '2519', 'as_name': 'VECTANT'}, 'CONNECTS_2', {'country': 'AU', 'upstream': '2', 'downstream': '225', 'rank': '61', 'id': '1221', 'org_name': 'Telstra Corporation Limited', 'as_name': 'ASN-TELSTRA'}, 'CONNECTS_2', {'country': 'AU', 'upstream': '2', 'downstream': '0', 'rank': '9740', 'id': '38803', 'org_name': 'Wirefreebroadband Pty Ltd', 'as_name': 'WPL-AS-AP'}, 'CONNECTS_2', {'country': 'AU', 'upstream': '2', 'downstream': '225', 'rank': '61', 'id': '1221', 'org_name': 'Telstra Corporation Limited', 'as_name': 'ASN-TELSTRA'}, 'CONNECTS_2', {'country': 'AU', 'upstream': '10', 'downstream': '458', 'rank': '555', 'id': '4637', 'org_name': 'Telstra International Limited', 'as_name': 'ASN-TELSTRA-GLOBAL'}, 'CONNECTS_2', {'country': 'AU', 'upstream': '2', 'downstream': '225', 'rank': '61', 'id': '1221', 'org_name': 'Telstra Corporation Limited', 'as_name': 'ASN-TELSTRA'}, 'CONNECTS_2', {'country': 'AU', 'upstream': '3', 'downstream': '193', 'rank': '3029', 'id': '4608', 'org_name': 'Asia Pacific Network Information Centre', 'as_name': 'APNIC-SERVICES'}, 'CONNECTS_2', {'country': 'AU', 'id': '10026', 'org_name': 'Telstra International Limited', 'as_name': 'TELSTRAGLOBAL'}]}, {'Path_at_T1': [{'country': 'JP', 'upstream': '3', 'downstream': '64', 'rank': '314', 'id': '2519', 'as_name': 'VECTANT'}, 'CONNECTS', {'country': 'AU', 'id': '10026', 'org_name': 'Telstra International Limited', 'as_name': 'TELSTRAGLOBAL'}], 'Path_at_T2': [{'country': 'JP', 'upstream': '3', 'downstream': '64', 'rank': '314', 'id': '2519', 'as_name': 'VECTANT'}, 'CONNECTS_2', {'country': 'AU', 'upstream': '2', 'downstream': '225', 'rank': '61', 'id': '1221', 'org_name': 'Telstra Corporation Limited', 'as_name': 'ASN-TELSTRA'}, 'CONNECTS_2', {'country': 'AU', 'upstream': '3', 'downstream': '193', 'rank': '3029', 'id': '4608', 'org_name': 'Asia Pacific Network Information Centre', 'as_name': 'APNIC-SERVICES'}, 'CONNECTS_2', {'country': 'AU', 'id': '10026', 'org_name': 'Telstra International Limited', 'as_name': 'TELSTRAGLOBAL'}]}, {'Path_at_T1': [{'country': 'JP', 'upstream': '3', 'downstream': '64', 'rank': '314', 'id': '2519', 'as_name': 'VECTANT'}, 'CONNECTS', {'country': 'AU', 'id': '10026', 'org_name': 'Telstra International Limited', 'as_name': 'TELSTRAGLOBAL'}], 'Path_at_T2': [{'country': 'JP', 'upstream': '3', 'downstream': '64', 'rank': '314', 'id': '2519', 'as_name': 'VECTANT'}, 'CONNECTS_2', {'country': 'AU', 'upstream': '2', 'downstream': '225', 'rank': '61', 'id': '1221', 'org_name': 'Telstra Corporation Limited', 'as_name': 'ASN-TELSTRA'}, 'CONNECTS_2', {'country': 'AU', 'upstream': '10', 'downstream': '458', 'rank': '555', 'id': '4637', 'org_name': 'Telstra International Limited', 'as_name': 'ASN-TELSTRA-GLOBAL'}, 'CONNECTS_2', {'country': 'AU', 'upstream': '2', 'downstream': '225', 'rank': '61', 'id': '1221', 'org_name': 'Telstra Corporation Limited', 'as_name': 'ASN-TELSTRA'}, 'CONNECTS_2', {'country': 'AU', 'upstream': '2', 'downstream': '0', 'rank': '9740', 'id': '38803', 'org_name': 'Wirefreebroadband Pty Ltd', 'as_name': 'WPL-AS-AP'}, 'CONNECTS_2', {'country': 'AU', 'upstream': '8', 'downstream': '437', 'rank': '920', 'id': '4826', 'org_name': 'VOCUS PTY LTD', 'as_name': 'VOCUS-BACKBONE-AS'}, 'CONNECTS_2', {'country': 'AU', 'upstream': '3', 'downstream': '193', 'rank': '3029', 'id': '4608', 'org_name': 'Asia Pacific Network Information Centre', 'as_name': 'APNIC-SERVICES'}, 'CONNECTS_2', {'country': 'AU', 'id': '10026', 'org_name': 'Telstra International Limited', 'as_name': 'TELSTRAGLOBAL'}]}, {'Path_at_T1': [{'country': 'JP', 'upstream': '3', 'downstream': '64', 'rank': '314', 'id': '2519', 'as_name': 'VECTANT'}, 'CONNECTS', {'country': 'AU', 'id': '10026', 'org_name': 'Telstra International Limited', 'as_name': 'TELSTRAGLOBAL'}], 'Path_at_T2': [{'country': 'JP', 'upstream': '3', 'downstream': '64', 'rank': '314', 'id': '2519', 'as_name': 'VECTANT'}, 'CONNECTS_2', {'country': 'AU', 'upstream': '2', 'downstream': '225', 'rank': '61', 'id': '1221', 'org_name': 'Telstra Corporation Limited', 'as_name': 'ASN-TELSTRA'}, 'CONNECTS_2', {'country': 'AU', 'upstream': '10', 'downstream': '458', 'rank': '555', 'id': '4637', 'org_name': 'Telstra International Limited', 'as_name': 'ASN-TELSTRA-GLOBAL'}, 'CONNECTS_2', {'country': 'AU', 'upstream': '2', 'downstream': '225', 'rank': '61', 'id': '1221', 'org_name': 'Telstra Corporation Limited', 'as_name': 'ASN-TELSTRA'}, 'CONNECTS_2', {'country': 'AU', 'upstream': '2', 'downstream': '0', 'rank': '9740', 'id': '38803', 'org_name': 'Wirefreebroadband Pty Ltd', 'as_name': 'WPL-AS-AP'}, 'CONNECTS_2', {'country': 'AU', 'upstream': '2', 'downstream': '225', 'rank': '61', 'id': '1221', 'org_name': 'Telstra Corporation Limited', 'as_name': 'ASN-TELSTRA'}, 'CONNECTS_2', {'country': 'AU', 'upstream': '3', 'downstream': '193', 'rank': '3029', 'id': '4608', 'org_name': 'Asia Pacific Network Information Centre', 'as_name': 'APNIC-SERVICES'}, 'CONNECTS_2', {'country': 'AU', 'id': '10026', 'org_name': 'Telstra International Limited', 'as_name': 'TELSTRAGLOBAL'}]}, {'Path_at_T1': [{'country': 'JP', 'upstream': '3', 'downstream': '64', 'rank': '314', 'id': '2519', 'as_name': 'VECTANT'}, 'CONNECTS', {'country': 'AU', 'id': '10026', 'org_name': 'Telstra International Limited', 'as_name': 'TELSTRAGLOBAL'}], 'Path_at_T2': [{'country': 'JP', 'upstream': '3', 'downstream': '64', 'rank': '314', 'id': '2519', 'as_name': 'VECTANT'}, 'CONNECTS_2', {'country': 'AU', 'upstream': '2', 'downstream': '225', 'rank': '61', 'id': '1221', 'org_name': 'Telstra Corporation Limited', 'as_name': 'ASN-TELSTRA'}, 'CONNECTS_2', {'country': 'AU', 'upstream': '10', 'downstream': '458', 'rank': '555', 'id': '4637', 'org_name': 'Telstra International Limited', 'as_name': 'ASN-TELSTRA-GLOBAL'}, 'CONNECTS_2', {'country': 'AU', 'upstream': '2', 'downstream': '225', 'rank': '61', 'id': '1221', 'org_name': 'Telstra Corporation Limited', 'as_name': 'ASN-TELSTRA'}, 'CONNECTS_2', {'country': 'AU', 'upstream': '3', 'downstream': '193', 'rank': '3029', 'id': '4608', 'org_name': 'Asia Pacific Network Information Centre', 'as_name': 'APNIC-SERVICES'}, 'CONNECTS_2', {'country': 'AU', 'id': '10026', 'org_name': 'Telstra International Limited', 'as_name': 'TELSTRAGLOBAL'}]}]\n",
            "\n",
            "\n",
            "At time T1, the path from node 2519 to node 10026 was direct. However, at time T2, several new nodes were introduced in this path. The nodes which came into play in path at T2 and not present on T1 are nodes 1221, 38803, 4826, 4608, and 4637. But, please note that nodes may be repeated multiple times in T2 paths.\n"
          ]
        }
      ],
      "source": [
        "question = \"\"\"\n",
        "Consider all nodes of node type Node as graph at time t1 and all nodes of type Node_2 as graph at time t2\n",
        "Between t1 and t2, have the paths from node 2519 to node 10026 changed? If so, how did it change?\n",
        "\"\"\"\n",
        "question = refine_prompt(question)[\"updated_user_prompt\"]\n",
        "print(\"Refined user input:\", question)\n",
        "print(\"-----\")\n",
        "response = lang_chain_custom(question,driver,model='gpt-4')\n",
        "print(response)"
      ]
    }
  ],
  "metadata": {
    "colab": {
      "provenance": []
    },
    "kernelspec": {
      "display_name": "Python 3 (ipykernel)",
      "language": "python",
      "name": "python3"
    },
    "language_info": {
      "codemirror_mode": {
        "name": "ipython",
        "version": 3
      },
      "file_extension": ".py",
      "mimetype": "text/x-python",
      "name": "python",
      "nbconvert_exporter": "python",
      "pygments_lexer": "ipython3",
      "version": "3.9.18"
    }
  },
  "nbformat": 4,
  "nbformat_minor": 5
}
